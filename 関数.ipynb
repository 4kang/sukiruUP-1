{
  "nbformat": 4,
  "nbformat_minor": 0,
  "metadata": {
    "colab": {
      "provenance": [],
      "authorship_tag": "ABX9TyNbdGzJs/PZY+/W61xhavzs",
      "include_colab_link": true
    },
    "kernelspec": {
      "name": "python3",
      "display_name": "Python 3"
    },
    "language_info": {
      "name": "python"
    }
  },
  "cells": [
    {
      "cell_type": "markdown",
      "metadata": {
        "id": "view-in-github",
        "colab_type": "text"
      },
      "source": [
        "<a href=\"https://colab.research.google.com/github/4kang/sukiruUP-1/blob/main/%E9%96%A2%E6%95%B0.ipynb\" target=\"_parent\"><img src=\"https://colab.research.google.com/assets/colab-badge.svg\" alt=\"Open In Colab\"/></a>"
      ]
    },
    {
      "cell_type": "markdown",
      "source": [
        "#関数定義"
      ],
      "metadata": {
        "id": "lpruiQfGjr93"
      }
    },
    {
      "cell_type": "code",
      "source": [
        "'''関数開始'''\n",
        "def standard_arg(arg):\n",
        "  print(arg)\n",
        "'''関数終了'''\n",
        "\n",
        "standard_arg(2)"
      ],
      "metadata": {
        "colab": {
          "base_uri": "https://localhost:8080/"
        },
        "id": "MXlSehPYjvIB",
        "outputId": "de9c0815-0632-43aa-efcd-d4da8fc57ff4"
      },
      "execution_count": null,
      "outputs": [
        {
          "output_type": "stream",
          "name": "stdout",
          "text": [
            "2\n"
          ]
        }
      ]
    },
    {
      "cell_type": "code",
      "source": [
        "def pos_arg(arg, /):\n",
        "  print(arg)\n",
        "\n",
        "pos_arg(2)"
      ],
      "metadata": {
        "colab": {
          "base_uri": "https://localhost:8080/"
        },
        "id": "v9C_ZX5dkMa3",
        "outputId": "92dbd2d9-807c-4435-f00f-ad4644f1f4da"
      },
      "execution_count": null,
      "outputs": [
        {
          "output_type": "stream",
          "name": "stdout",
          "text": [
            "2\n"
          ]
        }
      ]
    },
    {
      "cell_type": "code",
      "source": [
        "def keyword_arg(*, arg):\n",
        "  print(arg)\n",
        "\n",
        "keyword_arg(arg = 3)"
      ],
      "metadata": {
        "colab": {
          "base_uri": "https://localhost:8080/"
        },
        "id": "35dpntcakly-",
        "outputId": "cf6940c7-b3f8-4dcc-cda4-f8b946b1baec"
      },
      "execution_count": null,
      "outputs": [
        {
          "output_type": "stream",
          "name": "stdout",
          "text": [
            "3\n"
          ]
        }
      ]
    },
    {
      "cell_type": "code",
      "source": [
        "def combined_ex(pos, /, standard, *, keyword):\n",
        "  print(pos, standard, keyword)\n",
        "\n",
        "combined_ex(3, 4, keyword=6)"
      ],
      "metadata": {
        "colab": {
          "base_uri": "https://localhost:8080/"
        },
        "id": "jp5DbP6flJUd",
        "outputId": "a811b8ac-d895-4d68-f998-25cb7edcf0ad"
      },
      "execution_count": null,
      "outputs": [
        {
          "output_type": "stream",
          "name": "stdout",
          "text": [
            "3 4 6\n"
          ]
        }
      ]
    },
    {
      "cell_type": "code",
      "source": [
        "def two_name(name, /, **kwds):\n",
        "  return \"name\" in kwds\n",
        "\n",
        "two_name(1, **{\"name\": 2})"
      ],
      "metadata": {
        "colab": {
          "base_uri": "https://localhost:8080/"
        },
        "id": "2uxExtPBmMby",
        "outputId": "e8be203f-c05d-495e-92e7-d5ce63877474"
      },
      "execution_count": null,
      "outputs": [
        {
          "output_type": "execute_result",
          "data": {
            "text/plain": [
              "True"
            ]
          },
          "metadata": {},
          "execution_count": 7
        }
      ]
    },
    {
      "cell_type": "code",
      "source": [
        "def parrot(voltage, state=\"a stiff\", action= \"voom\"):\n",
        "  print(\"-- これはどうですか\", action, end=\" \")\n",
        "  print(\"もしも\", voltage, \"どどど\", end = \" \")\n",
        "  print(\"E's\", state, \"!\")\n",
        "\n",
        "d = {\"voltage\": \"four million\", \"state\": \"bleedin demised\", \"action\": \"VOOM\"}\n",
        "parrot(**d)"
      ],
      "metadata": {
        "id": "lB2WLoFqrj46",
        "outputId": "c1336fe3-a86f-4d10-a30d-0e55e604b59d",
        "colab": {
          "base_uri": "https://localhost:8080/"
        }
      },
      "execution_count": null,
      "outputs": [
        {
          "output_type": "stream",
          "name": "stdout",
          "text": [
            "-- これはどうですか VOOM もしも four million どどど E's bleedin demised !\n"
          ]
        }
      ]
    },
    {
      "cell_type": "code",
      "source": [
        "i = 5\n",
        "\n",
        "def f(arg=i):\n",
        "  print(arg)\n",
        "\n",
        "i = 6\n",
        "f()"
      ],
      "metadata": {
        "id": "mS0QRs8VrkMC",
        "outputId": "49bdd32b-36b9-48ba-b3c5-5ffa686f0f7f",
        "colab": {
          "base_uri": "https://localhost:8080/"
        }
      },
      "execution_count": null,
      "outputs": [
        {
          "output_type": "stream",
          "name": "stdout",
          "text": [
            "5\n"
          ]
        }
      ]
    },
    {
      "cell_type": "code",
      "source": [
        "i = 6\n",
        "\n",
        "def f(arg=i):\n",
        "  print(arg)\n",
        "\n",
        "i = 7\n",
        "f() #結果は6"
      ],
      "metadata": {
        "id": "gBHhSXLilQav",
        "outputId": "b49eb9bf-3fc0-4dfc-e7d0-6ecd12e4ac78",
        "colab": {
          "base_uri": "https://localhost:8080/"
        }
      },
      "execution_count": null,
      "outputs": [
        {
          "output_type": "stream",
          "name": "stdout",
          "text": [
            "6\n"
          ]
        }
      ]
    },
    {
      "cell_type": "code",
      "source": [
        "def f(a, L=[]):\n",
        "  '''デフォルト値が空のリスト。\n",
        "  空のリストに要素を追加し変更する'''\n",
        "  L.append(a)\n",
        "  return L\n",
        "\n",
        "print(f(1))\n",
        "print(f(2))\n",
        "print(f(3))\n",
        "print(f(4))\n",
        "print(f(5))"
      ],
      "metadata": {
        "colab": {
          "base_uri": "https://localhost:8080/"
        },
        "id": "WPbO50xRE654",
        "outputId": "b8c64fa3-28d1-419d-b250-8b7b77a69d96"
      },
      "execution_count": null,
      "outputs": [
        {
          "output_type": "stream",
          "name": "stdout",
          "text": [
            "[1]\n",
            "[1, 2]\n",
            "[1, 2, 3]\n",
            "[1, 2, 3, 4]\n",
            "[1, 2, 3, 4, 5]\n"
          ]
        }
      ]
    },
    {
      "cell_type": "code",
      "source": [
        "def f(a, L=None):\n",
        "  '''デフォルト値の共有なし'''\n",
        "  if L is None:\n",
        "    L = []\n",
        "  L.append(a)\n",
        "  return L\n",
        "\n",
        "print(f(1))\n",
        "print(f(2))\n",
        "print(f(3))"
      ],
      "metadata": {
        "colab": {
          "base_uri": "https://localhost:8080/"
        },
        "id": "bgddb70wGJSz",
        "outputId": "aafd785e-4a42-4779-c6e3-e4658540d27f"
      },
      "execution_count": null,
      "outputs": [
        {
          "output_type": "stream",
          "name": "stdout",
          "text": [
            "[1]\n",
            "[2]\n",
            "[3]\n"
          ]
        }
      ]
    },
    {
      "cell_type": "code",
      "source": [
        "#1章3節5項より1章2節3-4項は後であるか？\n",
        "(1,2,5)<(1,2,3,4)"
      ],
      "metadata": {
        "colab": {
          "base_uri": "https://localhost:8080/"
        },
        "id": "QB_2NzWMICX6",
        "outputId": "b2ab043d-eac0-4b07-b70f-bc0eaa22efb5"
      },
      "execution_count": null,
      "outputs": [
        {
          "output_type": "execute_result",
          "data": {
            "text/plain": [
              "False"
            ]
          },
          "metadata": {},
          "execution_count": 16
        }
      ]
    },
    {
      "cell_type": "code",
      "source": [
        "(1,2,3)!=(1,2,3,4)"
      ],
      "metadata": {
        "colab": {
          "base_uri": "https://localhost:8080/"
        },
        "id": "SC6Pan6QH8Vy",
        "outputId": "8dbc166d-65e5-4e3a-8760-ffcba915b97f"
      },
      "execution_count": null,
      "outputs": [
        {
          "output_type": "execute_result",
          "data": {
            "text/plain": [
              "True"
            ]
          },
          "metadata": {},
          "execution_count": 19
        }
      ]
    },
    {
      "cell_type": "code",
      "source": [
        "#1章3節5項より1章2節3-4項は後であるか？\n",
        "(1,2,3)<(1,2,3,4)"
      ],
      "metadata": {
        "colab": {
          "base_uri": "https://localhost:8080/"
        },
        "id": "IFVVzaBWIKRc",
        "outputId": "1c465bf6-c44a-4f3b-c3f0-053ab0c03ce1"
      },
      "execution_count": null,
      "outputs": [
        {
          "output_type": "execute_result",
          "data": {
            "text/plain": [
              "True"
            ]
          },
          "metadata": {},
          "execution_count": 17
        }
      ]
    },
    {
      "cell_type": "markdown",
      "source": [
        "#何もしない関数(pass文)"
      ],
      "metadata": {
        "id": "_UR1gqDXJ8OP"
      }
    },
    {
      "cell_type": "code",
      "source": [
        "def my_func(): #関数の書き方\n",
        "  pass\n",
        "\n",
        "my_func() #何も表示しない\n",
        "my_func"
      ],
      "metadata": {
        "id": "gr2BCUFtJ_vK",
        "outputId": "4726db8e-8537-4dd4-c413-e8b5c12e8d67",
        "colab": {
          "base_uri": "https://localhost:8080/"
        }
      },
      "execution_count": null,
      "outputs": [
        {
          "output_type": "execute_result",
          "data": {
            "text/plain": [
              "<function __main__.my_func()>"
            ]
          },
          "metadata": {},
          "execution_count": 7
        }
      ]
    },
    {
      "cell_type": "code",
      "source": [
        "def my_func(x):\n",
        "  pass\n",
        "\n",
        "my_func(1)"
      ],
      "metadata": {
        "id": "NaBupPsDKWIV"
      },
      "execution_count": null,
      "outputs": []
    },
    {
      "cell_type": "markdown",
      "source": [
        "#値を返す関数(return)"
      ],
      "metadata": {
        "id": "iqoaGV9EKpP_"
      }
    },
    {
      "cell_type": "code",
      "source": [
        "''' def 関数名(引数名1, 引数名2, ...): '''\n",
        "def xha(x):\n",
        "  return x #受け取った値を返す\n",
        "\n",
        "xha(\"test\") #受け取った値"
      ],
      "metadata": {
        "id": "ej5GMH1zKsDD",
        "outputId": "4843ea18-bb2a-40fb-82b8-f36a87ec2d8e",
        "colab": {
          "base_uri": "https://localhost:8080/",
          "height": 35
        }
      },
      "execution_count": null,
      "outputs": [
        {
          "output_type": "execute_result",
          "data": {
            "text/plain": [
              "'test'"
            ],
            "application/vnd.google.colaboratory.intrinsic+json": {
              "type": "string"
            }
          },
          "metadata": {},
          "execution_count": 10
        }
      ]
    },
    {
      "cell_type": "code",
      "source": [
        "def by_y(a):\n",
        "  return a\n",
        "\n",
        "by_y(\"パンツ\")"
      ],
      "metadata": {
        "colab": {
          "base_uri": "https://localhost:8080/",
          "height": 35
        },
        "id": "4jM7Cvgp43aL",
        "outputId": "3a1ba7bf-71cb-4965-ba68-e3e00f2d595b"
      },
      "execution_count": null,
      "outputs": [
        {
          "output_type": "execute_result",
          "data": {
            "text/plain": [
              "'パンツ'"
            ],
            "application/vnd.google.colaboratory.intrinsic+json": {
              "type": "string"
            }
          },
          "metadata": {},
          "execution_count": 1
        }
      ]
    },
    {
      "cell_type": "code",
      "source": [
        "def g_pro(x):\n",
        "  return x\n",
        "\n",
        "g_pro(\"ここがreturunを受け取る値\")"
      ],
      "metadata": {
        "id": "BX13F46e6kEi"
      },
      "execution_count": null,
      "outputs": []
    },
    {
      "cell_type": "code",
      "source": [
        "def trpeo_as(v):\n",
        "  return v\n",
        "\n",
        "trpeo_as(123)"
      ],
      "metadata": {
        "colab": {
          "base_uri": "https://localhost:8080/"
        },
        "id": "kfAd2qk17zpO",
        "outputId": "d1df886e-229e-4896-eed3-eab62175153e"
      },
      "execution_count": null,
      "outputs": [
        {
          "output_type": "execute_result",
          "data": {
            "text/plain": [
              "123"
            ]
          },
          "metadata": {},
          "execution_count": 2
        }
      ]
    },
    {
      "cell_type": "markdown",
      "source": [
        "#リストを生成する関数"
      ],
      "metadata": {
        "id": "kaEVJ7-DLt9X"
      }
    },
    {
      "cell_type": "code",
      "source": [
        "def g_pro(x):\n",
        "  result = [0] #リストを作成\n",
        "  return result * x\n",
        "\n",
        "g_pro(3)"
      ],
      "metadata": {
        "colab": {
          "base_uri": "https://localhost:8080/"
        },
        "id": "D-8O5RgW8FIh",
        "outputId": "43dde135-0bb0-46bf-b90c-5e7958199211"
      },
      "execution_count": null,
      "outputs": [
        {
          "output_type": "execute_result",
          "data": {
            "text/plain": [
              "[0, 0, 0]"
            ]
          },
          "metadata": {},
          "execution_count": 3
        }
      ]
    },
    {
      "cell_type": "code",
      "source": [
        "def wer_i(i):\n",
        "  list = [0]\n",
        "  return list * i\n",
        "\n",
        "wer_i(5)"
      ],
      "metadata": {
        "colab": {
          "base_uri": "https://localhost:8080/"
        },
        "id": "n0JBaIRk8nJO",
        "outputId": "917f242b-c6a4-4b08-9b73-cb90916ed32f"
      },
      "execution_count": null,
      "outputs": [
        {
          "output_type": "execute_result",
          "data": {
            "text/plain": [
              "[0, 0, 0, 0, 0]"
            ]
          },
          "metadata": {},
          "execution_count": 4
        }
      ]
    },
    {
      "cell_type": "code",
      "source": [
        "def list_kan(x):\n",
        "  list = [2]\n",
        "  return list * x\n",
        "\n",
        "list_kan(10)"
      ],
      "metadata": {
        "colab": {
          "base_uri": "https://localhost:8080/"
        },
        "id": "1i9nbTerLY8v",
        "outputId": "9033bf89-d967-49ed-d5f1-e4ea3454ae7c"
      },
      "execution_count": null,
      "outputs": [
        {
          "output_type": "execute_result",
          "data": {
            "text/plain": [
              "[2, 2, 2, 2, 2, 2, 2, 2, 2, 2]"
            ]
          },
          "metadata": {},
          "execution_count": 16
        }
      ]
    },
    {
      "cell_type": "markdown",
      "source": [
        "#リストを変更する関数"
      ],
      "metadata": {
        "id": "RrTQ8NgS8wDe"
      }
    },
    {
      "cell_type": "code",
      "source": [
        "''' 関数開始 '''\n",
        "def tca(x=list):\n",
        "  x.append(5)\n",
        "  x.append(6)\n",
        "  x.append(7)\n",
        "''' 関数終了 '''\n",
        "\n",
        "list = [1,2,3,4]\n",
        "#tca(list)\n",
        "\n",
        "list"
      ],
      "metadata": {
        "colab": {
          "base_uri": "https://localhost:8080/"
        },
        "id": "eGHXnWnU-9Kj",
        "outputId": "e3aef354-1acb-4518-ceb6-eb6057fbb4ad"
      },
      "execution_count": null,
      "outputs": [
        {
          "output_type": "execute_result",
          "data": {
            "text/plain": [
              "[1, 2, 3, 4]"
            ]
          },
          "metadata": {},
          "execution_count": 8
        }
      ]
    },
    {
      "cell_type": "code",
      "source": [
        "def mkn(x):\n",
        "  x.append(4)\n",
        "\n",
        "my_list = [1,2,3]\n",
        "mkn(my_list)\n",
        "\n",
        "my_list"
      ],
      "metadata": {
        "colab": {
          "base_uri": "https://localhost:8080/"
        },
        "id": "ufBrktkc8zxi",
        "outputId": "668c182a-3aa7-4801-895a-84706c4ccc47"
      },
      "execution_count": null,
      "outputs": [
        {
          "output_type": "execute_result",
          "data": {
            "text/plain": [
              "[1, 2, 3, 4]"
            ]
          },
          "metadata": {},
          "execution_count": 3
        }
      ]
    },
    {
      "cell_type": "markdown",
      "source": [
        "#フィボナッチ数列"
      ],
      "metadata": {
        "id": "G3E9sya887Tu"
      }
    },
    {
      "cell_type": "code",
      "source": [
        "def feb(n):\n",
        "  a, b = 0, 1\n",
        "  while a < n:\n",
        "    print(a, end=\" \")\n",
        "    a, b = b, a+b\n",
        "\n",
        "feb(100)"
      ],
      "metadata": {
        "colab": {
          "base_uri": "https://localhost:8080/"
        },
        "id": "i23jN9rO892u",
        "outputId": "79c672d3-64e7-4c61-9fb0-433e7d237116"
      },
      "execution_count": null,
      "outputs": [
        {
          "output_type": "stream",
          "name": "stdout",
          "text": [
            "0 1 1 2 3 5 8 13 21 34 55 89 "
          ]
        }
      ]
    },
    {
      "cell_type": "code",
      "source": [
        "#リストに格納\n",
        "def fib3(n):\n",
        "  a,b = 0,1\n",
        "  list = [] #空のリスト\n",
        "  while a < n: #aはnより小さい時、フィボナッチ数列をリストで返す\n",
        "    list.append(a) #appendでlistの要素を追加\n",
        "    a, b = b, a+b #0, 1 = 0 , 1 + 0\n",
        "  return list #戻り値はlist\n",
        "\n",
        "fib3(100)"
      ],
      "metadata": {
        "colab": {
          "base_uri": "https://localhost:8080/"
        },
        "id": "QYQ5Su2BLsct",
        "outputId": "6b3bfef7-4ae4-4a91-c838-210ea553b88c"
      },
      "execution_count": null,
      "outputs": [
        {
          "output_type": "execute_result",
          "data": {
            "text/plain": [
              "[0, 1, 1, 2, 3, 5, 8, 13, 21, 34, 55, 89]"
            ]
          },
          "metadata": {},
          "execution_count": 17
        }
      ]
    },
    {
      "cell_type": "code",
      "source": [
        "def fib(n):\n",
        "  list = []\n",
        "  a, b = 0, 1\n",
        "  while a < n:\n",
        "    list.append(a)\n",
        "    a,b = b, a+b\n",
        "  return list\n",
        "\n",
        "fib(100)"
      ],
      "metadata": {
        "colab": {
          "base_uri": "https://localhost:8080/"
        },
        "id": "MdT1BBYU-3ye",
        "outputId": "628df090-7141-488a-f8bd-94a222966df0"
      },
      "execution_count": null,
      "outputs": [
        {
          "output_type": "execute_result",
          "data": {
            "text/plain": [
              "[0, 1, 1, 2, 3, 5, 8, 13, 21, 34, 55, 89]"
            ]
          },
          "metadata": {},
          "execution_count": 11
        }
      ]
    },
    {
      "cell_type": "code",
      "source": [
        "def fib2(n):\n",
        "  a, b = 0, 1\n",
        "  list = []\n",
        "  while a < n:\n",
        "    list.append(a)\n",
        "    a, b = b, a+b\n",
        "  return list\n",
        "\n",
        "fib2(100)"
      ],
      "metadata": {
        "colab": {
          "base_uri": "https://localhost:8080/"
        },
        "id": "IW5JVmljIb-c",
        "outputId": "2af07a54-893d-4971-d846-d097ade5635d"
      },
      "execution_count": null,
      "outputs": [
        {
          "output_type": "execute_result",
          "data": {
            "text/plain": [
              "[0, 1, 1, 2, 3, 5, 8, 13, 21, 34, 55, 89]"
            ]
          },
          "metadata": {},
          "execution_count": 13
        }
      ]
    },
    {
      "cell_type": "code",
      "source": [
        "def fib_nch(n):\n",
        "  '''最大 n までのフィボナッチ数列を出力します'''\n",
        "  a, b = 0, 1\n",
        "  while a < n:\n",
        "    print(a, end = \" \")\n",
        "    a, b = b, a+b #aの変数が更新されていく\n",
        "\n",
        "fib_nch(1000)"
      ],
      "metadata": {
        "colab": {
          "base_uri": "https://localhost:8080/"
        },
        "id": "K9fefvOSWvQs",
        "outputId": "3ac86dda-bd24-4f0e-ca95-915c5033b5b5"
      },
      "execution_count": null,
      "outputs": [
        {
          "output_type": "stream",
          "name": "stdout",
          "text": [
            "0 1 1 2 3 5 8 13 21 34 55 89 144 233 377 610 987 "
          ]
        }
      ]
    },
    {
      "cell_type": "code",
      "source": [
        "def fib0(n):\n",
        "  list = []\n",
        "  a, b = 0, 1\n",
        "  while a < n :\n",
        "    list.append(a)\n",
        "    a, b = b, a+b\n",
        "  return list\n",
        "\n",
        "fib0(1000)"
      ],
      "metadata": {
        "colab": {
          "base_uri": "https://localhost:8080/"
        },
        "id": "2j-WYDARdvEM",
        "outputId": "9b8d5638-79ba-4040-ca99-7ce3094c1795"
      },
      "execution_count": null,
      "outputs": [
        {
          "output_type": "execute_result",
          "data": {
            "text/plain": [
              "[0, 1, 1, 2, 3, 5, 8, 13, 21, 34, 55, 89, 144, 233, 377, 610, 987]"
            ]
          },
          "metadata": {},
          "execution_count": 5
        }
      ]
    },
    {
      "cell_type": "code",
      "source": [
        "def hib(n):\n",
        "  a, b = 0, 1\n",
        "  while a < n:\n",
        "    print(a, end=\" \")\n",
        "    a, b = b, a+b\n",
        "\n",
        "hib(1000)"
      ],
      "metadata": {
        "id": "86w_NNzlmFBB",
        "outputId": "2324a872-83be-43ee-f7c7-bba94ded6d89",
        "colab": {
          "base_uri": "https://localhost:8080/"
        }
      },
      "execution_count": null,
      "outputs": [
        {
          "output_type": "stream",
          "name": "stdout",
          "text": [
            "0 1 1 2 3 5 8 13 21 34 55 89 144 233 377 610 987 "
          ]
        }
      ]
    },
    {
      "cell_type": "markdown",
      "source": [
        "#キーワード引数"
      ],
      "metadata": {
        "id": "251ijK8UQV-I"
      }
    },
    {
      "cell_type": "code",
      "source": [
        "def house(bedroom, walk, type, yatin):\n",
        "  return {\"ベッド部屋\": bedroom, \"距離\": walk,\"家の名前\": type, \"家賃\": yatin}\n",
        "\n",
        "house(bedroom=2, walk=15, type=\"アパート\", yatin=50)"
      ],
      "metadata": {
        "id": "vQu9PqC7QZGd",
        "outputId": "c5042408-8d75-4888-cc5e-5c6873b45b77",
        "colab": {
          "base_uri": "https://localhost:8080/"
        }
      },
      "execution_count": null,
      "outputs": [
        {
          "output_type": "execute_result",
          "data": {
            "text/plain": [
              "{'ベッド部屋': 2, '距離': 15, '家の名前': 'アパート', '家賃': 50}"
            ]
          },
          "metadata": {},
          "execution_count": 20
        }
      ]
    },
    {
      "cell_type": "code",
      "source": [
        "def parrot(voltage, state = \"a stiff\", action = \"voom\", type=\"Bule\"):\n",
        "  print(\"-- This parrot wouldn't\", action, end = ' ')\n",
        "  print(\"if you put\", voltage, \"volts through it.\")\n",
        "  print(\"-- Lovely plumage, the\", type)\n",
        "  print(\"--It's\", state, \"!\")\n",
        "\n",
        "parrot(1000, action=\"パンチ\", type=\"青\")"
      ],
      "metadata": {
        "colab": {
          "base_uri": "https://localhost:8080/"
        },
        "id": "XdtLKaLDLzNx",
        "outputId": "2e4456aa-5d1a-4dab-ec50-98524b9aeb6b"
      },
      "execution_count": null,
      "outputs": [
        {
          "output_type": "stream",
          "name": "stdout",
          "text": [
            "-- This parrot wouldn't パンチ if you put 1000 volts through it.\n",
            "-- Lovely plumage, the 青\n",
            "--It's a stiff !\n"
          ]
        }
      ]
    },
    {
      "cell_type": "code",
      "source": [
        "def io(age, maryoku = \"そこそこ\", tokugi = \"ケーキを作る\"):\n",
        "  print(\"私の名前はイオです。年齢は\", age, \"歳です\")\n",
        "  print(\"魔力は\", maryoku, \"です\")\n",
        "  print(\"特技は\", tokugi, \"ことです\")\n",
        "  print(\"よろしくお願いいたします。\")\n",
        "\n",
        "io(14, maryoku = \"かなりある\", tokugi = \"火の魔法を操る\")"
      ],
      "metadata": {
        "id": "3lAA-xHpj9Wb",
        "outputId": "f02220fe-1146-42e7-cd3c-ecbf954bd114",
        "colab": {
          "base_uri": "https://localhost:8080/"
        }
      },
      "execution_count": null,
      "outputs": [
        {
          "output_type": "stream",
          "name": "stdout",
          "text": [
            "私の名前はイオです。年齢は 14 歳です\n",
            "魔力は かなりある です\n",
            "特技は 火の魔法を操る ことです\n",
            "よろしくお願いいたします。\n"
          ]
        }
      ]
    },
    {
      "cell_type": "code",
      "source": [
        "def cheeseshop(kind, *arguments, **keywords):\n",
        "  print(\"--Do you have any\", kind, \"?\")\n",
        "  print(\"-- I'm sorry, we're all out of\", kind)\n",
        "  for arg in arguments:\n",
        "    print(arg)\n",
        "  print(\"-\" * 40)\n",
        "  for kw in keywords:\n",
        "    print(kw, \":\", keywords[kw])\n",
        "\n",
        "cheeseshop(\"Limburger\", \"It's very runny, sir.\",\n",
        "           \"It's really very, VERY runny, sir.\",\n",
        "           shopkeeper=\"Michael Palin\",\n",
        "           client=\"John Cleese\",\n",
        "           sketch=\"Cheese Shop Sketch\")"
      ],
      "metadata": {
        "colab": {
          "base_uri": "https://localhost:8080/"
        },
        "id": "1-1AQPRSZY2I",
        "outputId": "7e677d1a-e814-48b0-e649-453427ddca2d"
      },
      "execution_count": null,
      "outputs": [
        {
          "output_type": "stream",
          "name": "stdout",
          "text": [
            "--Do you have any Limburger ?\n",
            "-- I'm sorry, we're all out of Limburger\n",
            "It's very runny, sir.\n",
            "It's really very, VERY runny, sir.\n",
            "----------------------------------------\n",
            "shopkeeper : Michael Palin\n",
            "client : John Cleese\n",
            "sketch : Cheese Shop Sketch\n"
          ]
        }
      ]
    },
    {
      "cell_type": "code",
      "source": [
        "def kougi(io, *filtween, **jack):\n",
        "  print(\"調子はどうですか？\", io)\n",
        "  print(\"はい\", io, \"は元気だよ・・・！\")\n",
        "  for arg in filtween:\n",
        "    print(arg)\n",
        "  print(\"-\" * 40)\n",
        "  for kw in jack:\n",
        "    print(kw, \":\", jack[kw])\n",
        "\n",
        "kougi(\"Tereze\", \"彼女は走った\",\n",
        "      \"彼女は楽しそうだった\",\n",
        "      shop=\"買い物をした\",\n",
        "      client=\"クライアント\",\n",
        "      sketch=\"店スケッチ\")"
      ],
      "metadata": {
        "id": "MdyfTqNjmzQc",
        "outputId": "385eb7e9-1390-4ab0-fb38-7e84a4591f53",
        "colab": {
          "base_uri": "https://localhost:8080/"
        }
      },
      "execution_count": null,
      "outputs": [
        {
          "output_type": "stream",
          "name": "stdout",
          "text": [
            "調子はどうですか？ Tereze\n",
            "はい Tereze は元気だよ・・・！\n",
            "彼女は走った\n",
            "彼女は楽しそうだった\n",
            "----------------------------------------\n",
            "shop : 買い物をした\n",
            "client : クライアント\n",
            "sketch : 店スケッチ\n"
          ]
        }
      ]
    },
    {
      "cell_type": "markdown",
      "source": [
        "#位置引数のタプル化"
      ],
      "metadata": {
        "id": "crM-MCenxSx2"
      }
    },
    {
      "cell_type": "code",
      "source": [
        "def b(*defg, sep=\"/\"):\n",
        "  return sep.join(defg)\n",
        "\n",
        "b(\"マグロ\",\"鮭\",\"おかか\")\n",
        "b(\"ピカチュウ\",\"ニャース\",\"ピチュー\",sep=\".\")"
      ],
      "metadata": {
        "id": "A7sMg1CozEjs",
        "outputId": "274d0bbf-7b6c-4a0b-a919-fcdf9d2442dc",
        "colab": {
          "base_uri": "https://localhost:8080/",
          "height": 36
        }
      },
      "execution_count": null,
      "outputs": [
        {
          "output_type": "execute_result",
          "data": {
            "text/plain": [
              "'ピカチュウ.ニャース.ピチュー'"
            ],
            "application/vnd.google.colaboratory.intrinsic+json": {
              "type": "string"
            }
          },
          "metadata": {},
          "execution_count": 5
        }
      ]
    },
    {
      "cell_type": "code",
      "source": [
        "def a(*abc):\n",
        "  print(\"与えられた複数の位置引数をタプルにまとめて受け取る→\", abc)\n",
        "  #そのタプルを表示して返す\n",
        "  return abc\n",
        "\n",
        "a(1,2,3,\"da!\")"
      ],
      "metadata": {
        "id": "L9Q8nZ7Zx6VF",
        "outputId": "292b5355-748f-4292-f6d7-7fe502db5e76",
        "colab": {
          "base_uri": "https://localhost:8080/"
        }
      },
      "execution_count": null,
      "outputs": [
        {
          "output_type": "stream",
          "name": "stdout",
          "text": [
            "与えられた複数の位置引数をタプルにまとめて受け取る→ (1, 2, 3, 'da!')\n"
          ]
        },
        {
          "output_type": "execute_result",
          "data": {
            "text/plain": [
              "(1, 2, 3, 'da!')"
            ]
          },
          "metadata": {},
          "execution_count": 3
        }
      ]
    },
    {
      "cell_type": "markdown",
      "source": [
        "#引数リストのアンパック"
      ],
      "metadata": {
        "id": "iGqv60pm0MS2"
      }
    },
    {
      "cell_type": "code",
      "source": [
        "args = [3, 6] #args変数にリストを宣言\n",
        "\n",
        "list(range(*args))"
      ],
      "metadata": {
        "id": "WqeH-vkhfo5B",
        "outputId": "3dc7bb9b-94ec-4942-e791-0f7ad560b592",
        "colab": {
          "base_uri": "https://localhost:8080/"
        }
      },
      "execution_count": 5,
      "outputs": [
        {
          "output_type": "execute_result",
          "data": {
            "text/plain": [
              "[3, 4, 5]"
            ]
          },
          "metadata": {},
          "execution_count": 5
        }
      ]
    },
    {
      "cell_type": "code",
      "source": [
        "args = [0,10,2]\n",
        "\n",
        "list(range(*args))"
      ],
      "metadata": {
        "id": "ngbITC1qh3aH",
        "outputId": "6f57641c-3ba3-489e-f8c1-382cd89e5556",
        "colab": {
          "base_uri": "https://localhost:8080/"
        }
      },
      "execution_count": 12,
      "outputs": [
        {
          "output_type": "execute_result",
          "data": {
            "text/plain": [
              "[0, 2, 4, 6, 8]"
            ]
          },
          "metadata": {},
          "execution_count": 12
        }
      ]
    },
    {
      "cell_type": "code",
      "source": [
        "bbb = [3, 6]\n",
        "list(range(*bbb))"
      ],
      "metadata": {
        "colab": {
          "base_uri": "https://localhost:8080/"
        },
        "id": "BLz3MEOccSvU",
        "outputId": "dfb8140b-1d03-4b14-a028-68558a54e66a"
      },
      "execution_count": 1,
      "outputs": [
        {
          "output_type": "execute_result",
          "data": {
            "text/plain": [
              "[3, 4, 5]"
            ]
          },
          "metadata": {},
          "execution_count": 1
        }
      ]
    },
    {
      "cell_type": "code",
      "source": [
        "dec = [\n",
        "    [\"キアナ\", \"メイ\", \"ブローニャ\"],\n",
        "    [\"ゼーレ\", \"フカ\", \"姫子\"],\n",
        "    [\"エリシア\", \"メビウス\", \"アポニア\"]\n",
        "]\n",
        "\n",
        "print(list(zip(*dec)))"
      ],
      "metadata": {
        "id": "BHHdVyFviKdd",
        "outputId": "7c8efdcf-f386-457d-bdfa-c49417723924",
        "colab": {
          "base_uri": "https://localhost:8080/"
        }
      },
      "execution_count": 14,
      "outputs": [
        {
          "output_type": "stream",
          "name": "stdout",
          "text": [
            "[('キアナ', 'ゼーレ', 'エリシア'), ('メイ', 'フカ', 'メビウス'), ('ブローニャ', '姫子', 'アポニア')]\n"
          ]
        }
      ]
    },
    {
      "cell_type": "code",
      "source": [
        "def dive_code(teacher, *mentor):\n",
        "  print(teacher)\n",
        "\n",
        "dive_code(\"Kakao\", \"Noro\", \"Nakao\", \"Momoko\")\n",
        "\n",
        "dic = [\n",
        "    [\"Noro\", \"Nakao\", \"Momoko\"],\n",
        "    [\"kimura\", \"Miyashita\", \"Shibata\"],\n",
        "    [\"Matsumoto\", \"Tanaka\", \"Sato\"]\n",
        "]\n",
        "'''zip()は複数のイテラブルオブジェクト（リストやタプルなど）の要素をまとめる関数'''\n",
        "print(list(zip(*dic)))"
      ],
      "metadata": {
        "colab": {
          "base_uri": "https://localhost:8080/"
        },
        "id": "YVime1Lzcidx",
        "outputId": "432b66fe-82e0-4437-bcb0-b7437fb07046"
      },
      "execution_count": 4,
      "outputs": [
        {
          "output_type": "stream",
          "name": "stdout",
          "text": [
            "Kakao\n",
            "[('Noro', 'kimura', 'Matsumoto'), ('Nakao', 'Miyashita', 'Tanaka'), ('Momoko', 'Shibata', 'Sato')]\n"
          ]
        }
      ]
    },
    {
      "cell_type": "markdown",
      "source": [
        "#ラムダ式"
      ],
      "metadata": {
        "id": "f4rKI-MEVwZJ"
      }
    },
    {
      "cell_type": "code",
      "source": [
        "\"\"\"lambda <引数>:<式>\n",
        "与えられた数値の2乗を返す\"\"\"\n",
        "func = lambda x : x ** 2\n",
        "\n",
        "print(func(10))"
      ],
      "metadata": {
        "colab": {
          "base_uri": "https://localhost:8080/"
        },
        "id": "ORr2DSPLtkf4",
        "outputId": "00536fee-143f-4a08-c3af-e2ec78a65999"
      },
      "execution_count": null,
      "outputs": [
        {
          "output_type": "stream",
          "name": "stdout",
          "text": [
            "100\n"
          ]
        }
      ]
    },
    {
      "cell_type": "code",
      "source": [
        "a = lambda n : n ** 2\n",
        "\n",
        "print(a(100))"
      ],
      "metadata": {
        "colab": {
          "base_uri": "https://localhost:8080/"
        },
        "id": "Oj2KCDSmuuOM",
        "outputId": "6b8af7af-2d69-4fc9-a91c-78f96e5bd4b3"
      },
      "execution_count": null,
      "outputs": [
        {
          "output_type": "stream",
          "name": "stdout",
          "text": [
            "10000\n"
          ]
        }
      ]
    },
    {
      "cell_type": "code",
      "source": [
        "lam = lambda y : y + 10\n",
        "\n",
        "print(lam(20))"
      ],
      "metadata": {
        "colab": {
          "base_uri": "https://localhost:8080/"
        },
        "id": "iYPtJ-KHu2Vl",
        "outputId": "b034b2f2-16bc-4dd5-89f6-b90e9e3662bf"
      },
      "execution_count": null,
      "outputs": [
        {
          "output_type": "stream",
          "name": "stdout",
          "text": [
            "30\n"
          ]
        }
      ]
    },
    {
      "cell_type": "code",
      "source": [
        "def make(n):\n",
        "  return lambda x : x + n\n",
        "\n",
        "f = make(42)\n",
        "f(0)"
      ],
      "metadata": {
        "id": "uaUKSDLdVzqh",
        "outputId": "d1ff9dc1-7a77-4ebf-fc4b-dfddbd85068d",
        "colab": {
          "base_uri": "https://localhost:8080/"
        }
      },
      "execution_count": null,
      "outputs": [
        {
          "output_type": "execute_result",
          "data": {
            "text/plain": [
              "42"
            ]
          },
          "metadata": {},
          "execution_count": 8
        }
      ]
    },
    {
      "cell_type": "code",
      "source": [
        "f(1)"
      ],
      "metadata": {
        "id": "J1V_q-9GWSVH",
        "outputId": "61f3372a-3033-4483-dccb-5c17311a439f",
        "colab": {
          "base_uri": "https://localhost:8080/"
        }
      },
      "execution_count": null,
      "outputs": [
        {
          "output_type": "execute_result",
          "data": {
            "text/plain": [
              "43"
            ]
          },
          "metadata": {},
          "execution_count": 9
        }
      ]
    },
    {
      "cell_type": "markdown",
      "source": [
        "#関数の引数に関数を渡す"
      ],
      "metadata": {
        "id": "9yhzj4KG0Foa"
      }
    },
    {
      "cell_type": "code",
      "source": [
        "i_num_list = range(1, 11) #1～10\n",
        "'''1から10の数値のリスト(i_num_list)が与えられたとき、\n",
        "No.1、No.2のように'''\n",
        "s_num_list = list(map(lambda i: \"No.\" + str(i), i_num_list))\n",
        "print(\"文字列リスト:\", s_num_list)"
      ],
      "metadata": {
        "colab": {
          "base_uri": "https://localhost:8080/"
        },
        "id": "i2mZVPzN0KJL",
        "outputId": "f0e6ea5c-1a1e-46db-8e42-2491f67a6f78"
      },
      "execution_count": null,
      "outputs": [
        {
          "output_type": "stream",
          "name": "stdout",
          "text": [
            "文字列リスト: ['No.1', 'No.2', 'No.3', 'No.4', 'No.5', 'No.6', 'No.7', 'No.8', 'No.9', 'No.10']\n"
          ]
        }
      ]
    },
    {
      "cell_type": "code",
      "source": [
        "for s in map(lambda i: \"No.\" + str(i), range(1, 11)):\n",
        "  print(s, end=\" \")"
      ],
      "metadata": {
        "colab": {
          "base_uri": "https://localhost:8080/"
        },
        "id": "BNGmgJ8kiAI9",
        "outputId": "6b7d04b4-5cf6-44c2-e899-9efbfeddfc85"
      },
      "execution_count": null,
      "outputs": [
        {
          "output_type": "stream",
          "name": "stdout",
          "text": [
            "No.1 No.2 No.3 No.4 No.5 No.6 No.7 No.8 No.9 No.10 "
          ]
        }
      ]
    },
    {
      "cell_type": "code",
      "source": [
        "for n in map(lambda i: \"No.\" + str(i), range(1, 11)):\n",
        "  print(n, end=\"/\")"
      ],
      "metadata": {
        "colab": {
          "base_uri": "https://localhost:8080/"
        },
        "id": "6joCpR6_ifBw",
        "outputId": "72ffb94e-68b8-461a-95f5-064e6f4388a2"
      },
      "execution_count": null,
      "outputs": [
        {
          "output_type": "stream",
          "name": "stdout",
          "text": [
            "No.1/No.2/No.3/No.4/No.5/No.6/No.7/No.8/No.9/No.10/"
          ]
        }
      ]
    },
    {
      "cell_type": "code",
      "source": [
        "#偶数だけ取得\n",
        "for k in filter(lambda m: m%2==0, range(1,11)):\n",
        "  print(k, end=\" \")"
      ],
      "metadata": {
        "colab": {
          "base_uri": "https://localhost:8080/"
        },
        "id": "BplUZRxpizz8",
        "outputId": "95d576a4-0545-4c88-8e8c-94a75d5a6ab1"
      },
      "execution_count": null,
      "outputs": [
        {
          "output_type": "stream",
          "name": "stdout",
          "text": [
            "2 4 6 8 10 "
          ]
        }
      ]
    },
    {
      "cell_type": "code",
      "source": [
        "#defの場合\n",
        "def even(x):\n",
        "  return x % 2 == 0\n",
        "\n",
        "for k in filter(even, range(1, 11)):\n",
        "  print(k, end=\" \")"
      ],
      "metadata": {
        "colab": {
          "base_uri": "https://localhost:8080/"
        },
        "id": "W9RbdoATjiaw",
        "outputId": "c5a4e1de-fb9b-443c-f69e-913e84cae966"
      },
      "execution_count": null,
      "outputs": [
        {
          "output_type": "stream",
          "name": "stdout",
          "text": [
            "2 4 6 8 10 "
          ]
        }
      ]
    },
    {
      "cell_type": "markdown",
      "source": [
        "#sortとkey"
      ],
      "metadata": {
        "id": "JzFd1uVe0CWh"
      }
    },
    {
      "cell_type": "code",
      "source": [
        "par = [(1, \"one\"), (2, \"two\"), (3, \"three\"), (4, \"four\")]\n",
        "\n",
        "#list.sort()\n",
        "par.sort(key=lambda par : par[1])\n",
        "par"
      ],
      "metadata": {
        "colab": {
          "base_uri": "https://localhost:8080/"
        },
        "id": "6R-f_ek0vAbg",
        "outputId": "cd6d9a9f-61d7-4c1f-82d1-86b028149a77"
      },
      "execution_count": null,
      "outputs": [
        {
          "output_type": "execute_result",
          "data": {
            "text/plain": [
              "[(4, 'four'), (1, 'one'), (3, 'three'), (2, 'two')]"
            ]
          },
          "metadata": {},
          "execution_count": 5
        }
      ]
    },
    {
      "cell_type": "code",
      "source": [
        "pai =[(1, \"one\"), (2, \"two\"), (3, \"three\"), (4, \"four\")]\n",
        "\n",
        "pai.sort(key=lambda pai : pai[1], reverse=True)\n",
        "pai"
      ],
      "metadata": {
        "colab": {
          "base_uri": "https://localhost:8080/"
        },
        "id": "QwlzkGpIzMTk",
        "outputId": "8195a656-1fdc-49e4-d319-9f7f3387fb54"
      },
      "execution_count": null,
      "outputs": [
        {
          "output_type": "execute_result",
          "data": {
            "text/plain": [
              "[(2, 'two'), (3, 'three'), (1, 'one'), (4, 'four')]"
            ]
          },
          "metadata": {},
          "execution_count": 7
        }
      ]
    }
  ]
}