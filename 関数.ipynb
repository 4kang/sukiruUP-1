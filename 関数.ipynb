{
  "nbformat": 4,
  "nbformat_minor": 0,
  "metadata": {
    "colab": {
      "provenance": [],
      "authorship_tag": "ABX9TyOGI/vla5ehE+x0FlglvxKO",
      "include_colab_link": true
    },
    "kernelspec": {
      "name": "python3",
      "display_name": "Python 3"
    },
    "language_info": {
      "name": "python"
    }
  },
  "cells": [
    {
      "cell_type": "markdown",
      "metadata": {
        "id": "view-in-github",
        "colab_type": "text"
      },
      "source": [
        "<a href=\"https://colab.research.google.com/github/4kang/sukiruUP-1/blob/main/%E9%96%A2%E6%95%B0.ipynb\" target=\"_parent\"><img src=\"https://colab.research.google.com/assets/colab-badge.svg\" alt=\"Open In Colab\"/></a>"
      ]
    },
    {
      "cell_type": "markdown",
      "source": [
        "#何もしない関数"
      ],
      "metadata": {
        "id": "_UR1gqDXJ8OP"
      }
    },
    {
      "cell_type": "code",
      "source": [
        "def my_func():\n",
        "  pass\n",
        "\n",
        "my_func() #何も表示しない\n",
        "my_func"
      ],
      "metadata": {
        "id": "gr2BCUFtJ_vK",
        "outputId": "4726db8e-8537-4dd4-c413-e8b5c12e8d67",
        "colab": {
          "base_uri": "https://localhost:8080/"
        }
      },
      "execution_count": 7,
      "outputs": [
        {
          "output_type": "execute_result",
          "data": {
            "text/plain": [
              "<function __main__.my_func()>"
            ]
          },
          "metadata": {},
          "execution_count": 7
        }
      ]
    },
    {
      "cell_type": "code",
      "source": [
        "def my_func(x):\n",
        "  pass\n",
        "\n",
        "my_func(1)"
      ],
      "metadata": {
        "id": "NaBupPsDKWIV"
      },
      "execution_count": 8,
      "outputs": []
    },
    {
      "cell_type": "markdown",
      "source": [
        "#値を返す関数"
      ],
      "metadata": {
        "id": "iqoaGV9EKpP_"
      }
    },
    {
      "cell_type": "code",
      "source": [
        "def my_func(x):\n",
        "  return x\n",
        "\n",
        "my_func(\"test\")"
      ],
      "metadata": {
        "id": "ej5GMH1zKsDD",
        "outputId": "4843ea18-bb2a-40fb-82b8-f36a87ec2d8e",
        "colab": {
          "base_uri": "https://localhost:8080/",
          "height": 35
        }
      },
      "execution_count": 10,
      "outputs": [
        {
          "output_type": "execute_result",
          "data": {
            "text/plain": [
              "'test'"
            ],
            "application/vnd.google.colaboratory.intrinsic+json": {
              "type": "string"
            }
          },
          "metadata": {},
          "execution_count": 10
        }
      ]
    },
    {
      "cell_type": "markdown",
      "source": [
        "#リストに関する関数"
      ],
      "metadata": {
        "id": "kaEVJ7-DLt9X"
      }
    },
    {
      "cell_type": "code",
      "source": [
        "my_list = [0,1,2,3]\n",
        "my_func(my_list)\n",
        "\n",
        "def my_func(x):\n",
        "  x.append(1)\n",
        "\n",
        "my_list"
      ],
      "metadata": {
        "id": "-xTTn7nDLL3U",
        "outputId": "5dc1d93b-de0f-4540-e393-413fa3009a9e",
        "colab": {
          "base_uri": "https://localhost:8080/"
        }
      },
      "execution_count": 12,
      "outputs": [
        {
          "output_type": "execute_result",
          "data": {
            "text/plain": [
              "[0, 1, 2, 3]"
            ]
          },
          "metadata": {},
          "execution_count": 12
        }
      ]
    }
  ]
}