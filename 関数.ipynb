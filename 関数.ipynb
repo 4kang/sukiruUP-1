{
  "nbformat": 4,
  "nbformat_minor": 0,
  "metadata": {
    "colab": {
      "provenance": [],
      "authorship_tag": "ABX9TyNcsUMTafJsNfEnsPTDfNnY",
      "include_colab_link": true
    },
    "kernelspec": {
      "name": "python3",
      "display_name": "Python 3"
    },
    "language_info": {
      "name": "python"
    }
  },
  "cells": [
    {
      "cell_type": "markdown",
      "metadata": {
        "id": "view-in-github",
        "colab_type": "text"
      },
      "source": [
        "<a href=\"https://colab.research.google.com/github/4kang/sukiruUP-1/blob/main/%E9%96%A2%E6%95%B0.ipynb\" target=\"_parent\"><img src=\"https://colab.research.google.com/assets/colab-badge.svg\" alt=\"Open In Colab\"/></a>"
      ]
    },
    {
      "cell_type": "markdown",
      "source": [
        "太郎くんは、1つ100円の桃を5つ、1つ40円のみかんを8つ買いました。全部でいくらか。\n",
        "\n",
        "\n",
        "1.   購入する桃の個数を入力\n",
        "2.   購入するみかんの個数を入力\n",
        "3.   桃を一つ100円、みかんを1つ40円として、合計金額を出力"
      ],
      "metadata": {
        "id": "rRyQa2SH2WPV"
      }
    },
    {
      "cell_type": "code",
      "source": [
        "momo = input(\"桃は何個買いますか？：\")\n",
        "num_momo = int(momo) #文字列を数値化\n",
        "\n",
        "mikan = input(\"みかんは何個買いますか？：\")\n",
        "num_mikan = int(mikan)\n",
        "\n",
        "price_momo = 100\n",
        "price_mikan = 40\n",
        "\n",
        "total_momo = num_momo * price_momo\n",
        "total_mikan = num_mikan * price_mikan\n",
        "total = total_momo + total_mikan\n",
        "\n",
        "print(\"桃は\", num_momo, \"個、みかんは\", num_mikan, \"個で合計\", total, \"円です\")"
      ],
      "metadata": {
        "colab": {
          "base_uri": "https://localhost:8080/"
        },
        "id": "ZJHvxUGJ297N",
        "outputId": "26e138cb-526b-4043-8973-b0d19296a40d"
      },
      "execution_count": 3,
      "outputs": [
        {
          "output_type": "stream",
          "name": "stdout",
          "text": [
            "桃は何個買いますか？：1\n",
            "みかんは何個買いますか？：1\n",
            "桃は 1 個、みかんは 1 個で合計 140 円です\n"
          ]
        }
      ]
    },
    {
      "cell_type": "markdown",
      "source": [
        "関数の定義"
      ],
      "metadata": {
        "id": "T3ScP6SUVxKM"
      }
    },
    {
      "cell_type": "code",
      "source": [
        "def fruit_price(number_of_momo, number_of_mikan):\n",
        "    total_momo = number_of_momo * 100\n",
        "    total_mikan = number_of_mikan * 40\n",
        "    total = total_momo + total_mikan\n",
        "    return total #戻り値\n",
        "\n",
        "fruit_price(1, 1)"
      ],
      "metadata": {
        "colab": {
          "base_uri": "https://localhost:8080/"
        },
        "id": "VSEHDttIVreO",
        "outputId": "ae26b73f-e38d-4e1b-c11b-43ee22fd153f"
      },
      "execution_count": 2,
      "outputs": [
        {
          "output_type": "execute_result",
          "data": {
            "text/plain": [
              "140"
            ]
          },
          "metadata": {},
          "execution_count": 2
        }
      ]
    },
    {
      "cell_type": "code",
      "source": [
        "def fruit_price(number_of_momo, number_of_mikan):\n",
        "\n",
        "    total_momo = number_of_momo * 100 #1つの桃の値段\n",
        "    total_mikan = number_of_mikan * 40 #1つのみかんの値段\n",
        "    total = total_momo + total_mikan #桃とみかんの合計数\n",
        "    return total #戻り値\n",
        "\n",
        "#桃5個、みかん10個の値段を計算\n",
        "total = fruit_price(5, 10)\n",
        "print(\"桃5個と、みかん10個で、\", total, \"円です\")"
      ],
      "metadata": {
        "colab": {
          "base_uri": "https://localhost:8080/"
        },
        "id": "tqCErqshc1HH",
        "outputId": "9f8d09bf-2163-423a-a1b3-27bf83d6772e"
      },
      "execution_count": 3,
      "outputs": [
        {
          "output_type": "stream",
          "name": "stdout",
          "text": [
            "桃5個と、みかん10個で、 900 円です\n"
          ]
        }
      ]
    },
    {
      "cell_type": "markdown",
      "source": [
        "位置引数"
      ],
      "metadata": {
        "id": "jBWAyIUQe-wB"
      }
    },
    {
      "cell_type": "code",
      "source": [
        "def func(arg1, arg2, arg3):\n",
        "    print(\"arg1は：\", arg1, \"arg2は：\", arg2, \"arg3は：\", arg3)\n",
        "\n",
        "func(\"引数1\", \"引数2\", \"引数3\")"
      ],
      "metadata": {
        "colab": {
          "base_uri": "https://localhost:8080/"
        },
        "id": "LjPtuSXjfGV1",
        "outputId": "915b447f-ca86-4b4f-df1b-73620b63a43b"
      },
      "execution_count": 4,
      "outputs": [
        {
          "output_type": "stream",
          "name": "stdout",
          "text": [
            "arg1は： 引数1 arg2は： 引数2 arg3は： 引数3\n"
          ]
        }
      ]
    },
    {
      "cell_type": "markdown",
      "source": [
        "キーワード引数"
      ],
      "metadata": {
        "id": "XDzrKMRcgSQ_"
      }
    },
    {
      "cell_type": "code",
      "source": [
        "func(arg1=\"引数4\", arg2=\"引数5\", arg3=\"引数6\")"
      ],
      "metadata": {
        "colab": {
          "base_uri": "https://localhost:8080/"
        },
        "id": "8wRu-6xpf8Ca",
        "outputId": "bb0eedd4-155f-40d3-daec-f7963991584f"
      },
      "execution_count": 6,
      "outputs": [
        {
          "output_type": "stream",
          "name": "stdout",
          "text": [
            "arg1は： 引数4 arg2は： 引数5 arg3は： 引数6\n"
          ]
        }
      ]
    },
    {
      "cell_type": "markdown",
      "source": [
        "docstring"
      ],
      "metadata": {
        "id": "HCh1aH9JhDCY"
      }
    },
    {
      "cell_type": "code",
      "source": [
        "# コメント\n",
        "\"\"\"\n",
        "ここから\n",
        "\n",
        "\n",
        "\n",
        "\n",
        "ここまでがdocstring状態になる\n",
        "\"\"\""
      ],
      "metadata": {
        "colab": {
          "base_uri": "https://localhost:8080/",
          "height": 36
        },
        "id": "iLWZ_rFwhHgp",
        "outputId": "fc0e3e26-3191-4e9c-8da3-6ac1a4d93a90"
      },
      "execution_count": 9,
      "outputs": [
        {
          "output_type": "execute_result",
          "data": {
            "text/plain": [
              "' \\nここから\\n\\n\\n\\n\\nここまでがdocstring状態になる \\n'"
            ],
            "application/vnd.google.colaboratory.intrinsic+json": {
              "type": "string"
            }
          },
          "metadata": {},
          "execution_count": 9
        }
      ]
    }
  ]
}