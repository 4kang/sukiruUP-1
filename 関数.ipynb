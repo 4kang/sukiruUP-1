{
  "nbformat": 4,
  "nbformat_minor": 0,
  "metadata": {
    "colab": {
      "provenance": [],
      "authorship_tag": "ABX9TyOzr9gPY4jhM6Kl1xttJURo",
      "include_colab_link": true
    },
    "kernelspec": {
      "name": "python3",
      "display_name": "Python 3"
    },
    "language_info": {
      "name": "python"
    }
  },
  "cells": [
    {
      "cell_type": "markdown",
      "metadata": {
        "id": "view-in-github",
        "colab_type": "text"
      },
      "source": [
        "<a href=\"https://colab.research.google.com/github/4kang/sukiruUP-1/blob/main/%E9%96%A2%E6%95%B0.ipynb\" target=\"_parent\"><img src=\"https://colab.research.google.com/assets/colab-badge.svg\" alt=\"Open In Colab\"/></a>"
      ]
    },
    {
      "cell_type": "markdown",
      "source": [
        "#何もしない関数"
      ],
      "metadata": {
        "id": "_UR1gqDXJ8OP"
      }
    },
    {
      "cell_type": "code",
      "source": [
        "def my_func(): #関数の書き方\n",
        "  pass\n",
        "\n",
        "my_func() #何も表示しない\n",
        "my_func"
      ],
      "metadata": {
        "id": "gr2BCUFtJ_vK",
        "outputId": "4726db8e-8537-4dd4-c413-e8b5c12e8d67",
        "colab": {
          "base_uri": "https://localhost:8080/"
        }
      },
      "execution_count": null,
      "outputs": [
        {
          "output_type": "execute_result",
          "data": {
            "text/plain": [
              "<function __main__.my_func()>"
            ]
          },
          "metadata": {},
          "execution_count": 7
        }
      ]
    },
    {
      "cell_type": "code",
      "source": [
        "def my_func(x):\n",
        "  pass\n",
        "\n",
        "my_func(1)"
      ],
      "metadata": {
        "id": "NaBupPsDKWIV"
      },
      "execution_count": null,
      "outputs": []
    },
    {
      "cell_type": "markdown",
      "source": [
        "#値を返す関数(return)"
      ],
      "metadata": {
        "id": "iqoaGV9EKpP_"
      }
    },
    {
      "cell_type": "code",
      "source": [
        "''' def 関数名(引数名1, 引数名2, ...): '''\n",
        "def xha(x):\n",
        "  return x #受け取った値を返す\n",
        "\n",
        "xha(\"test\") #受け取った値"
      ],
      "metadata": {
        "id": "ej5GMH1zKsDD",
        "outputId": "4843ea18-bb2a-40fb-82b8-f36a87ec2d8e",
        "colab": {
          "base_uri": "https://localhost:8080/",
          "height": 35
        }
      },
      "execution_count": null,
      "outputs": [
        {
          "output_type": "execute_result",
          "data": {
            "text/plain": [
              "'test'"
            ],
            "application/vnd.google.colaboratory.intrinsic+json": {
              "type": "string"
            }
          },
          "metadata": {},
          "execution_count": 10
        }
      ]
    },
    {
      "cell_type": "code",
      "source": [
        "def by_y(a):\n",
        "  return a\n",
        "\n",
        "by_y(\"パンツ\")"
      ],
      "metadata": {
        "colab": {
          "base_uri": "https://localhost:8080/",
          "height": 35
        },
        "id": "4jM7Cvgp43aL",
        "outputId": "3a1ba7bf-71cb-4965-ba68-e3e00f2d595b"
      },
      "execution_count": null,
      "outputs": [
        {
          "output_type": "execute_result",
          "data": {
            "text/plain": [
              "'パンツ'"
            ],
            "application/vnd.google.colaboratory.intrinsic+json": {
              "type": "string"
            }
          },
          "metadata": {},
          "execution_count": 1
        }
      ]
    },
    {
      "cell_type": "code",
      "source": [
        "def g_pro(x):\n",
        "  return x\n",
        "\n",
        "g_pro(\"ここがreturunを受け取る値\")"
      ],
      "metadata": {
        "id": "BX13F46e6kEi"
      },
      "execution_count": null,
      "outputs": []
    },
    {
      "cell_type": "code",
      "source": [
        "def trpeo_as(v):\n",
        "  return v\n",
        "\n",
        "trpeo_as(123)"
      ],
      "metadata": {
        "colab": {
          "base_uri": "https://localhost:8080/"
        },
        "id": "kfAd2qk17zpO",
        "outputId": "d1df886e-229e-4896-eed3-eab62175153e"
      },
      "execution_count": null,
      "outputs": [
        {
          "output_type": "execute_result",
          "data": {
            "text/plain": [
              "123"
            ]
          },
          "metadata": {},
          "execution_count": 2
        }
      ]
    },
    {
      "cell_type": "markdown",
      "source": [
        "#リストを生成する関数"
      ],
      "metadata": {
        "id": "kaEVJ7-DLt9X"
      }
    },
    {
      "cell_type": "code",
      "source": [
        "def g_pro(x):\n",
        "  result = [0] #リストを作成\n",
        "  return result * x\n",
        "\n",
        "g_pro(3)"
      ],
      "metadata": {
        "colab": {
          "base_uri": "https://localhost:8080/"
        },
        "id": "D-8O5RgW8FIh",
        "outputId": "43dde135-0bb0-46bf-b90c-5e7958199211"
      },
      "execution_count": null,
      "outputs": [
        {
          "output_type": "execute_result",
          "data": {
            "text/plain": [
              "[0, 0, 0]"
            ]
          },
          "metadata": {},
          "execution_count": 3
        }
      ]
    },
    {
      "cell_type": "code",
      "source": [
        "def wer_i(i):\n",
        "  list = [0]\n",
        "  return list * i\n",
        "\n",
        "wer_i(5)"
      ],
      "metadata": {
        "colab": {
          "base_uri": "https://localhost:8080/"
        },
        "id": "n0JBaIRk8nJO",
        "outputId": "917f242b-c6a4-4b08-9b73-cb90916ed32f"
      },
      "execution_count": null,
      "outputs": [
        {
          "output_type": "execute_result",
          "data": {
            "text/plain": [
              "[0, 0, 0, 0, 0]"
            ]
          },
          "metadata": {},
          "execution_count": 4
        }
      ]
    },
    {
      "cell_type": "code",
      "source": [
        "def list_kan(x):\n",
        "  list = [2]\n",
        "  return list * x\n",
        "\n",
        "list_kan(10)"
      ],
      "metadata": {
        "colab": {
          "base_uri": "https://localhost:8080/"
        },
        "id": "1i9nbTerLY8v",
        "outputId": "9033bf89-d967-49ed-d5f1-e4ea3454ae7c"
      },
      "execution_count": null,
      "outputs": [
        {
          "output_type": "execute_result",
          "data": {
            "text/plain": [
              "[2, 2, 2, 2, 2, 2, 2, 2, 2, 2]"
            ]
          },
          "metadata": {},
          "execution_count": 16
        }
      ]
    },
    {
      "cell_type": "markdown",
      "source": [
        "#リストを変更する関数"
      ],
      "metadata": {
        "id": "RrTQ8NgS8wDe"
      }
    },
    {
      "cell_type": "code",
      "source": [
        "''' 関数開始 '''\n",
        "def tca(x):\n",
        "  x.append(5)\n",
        "  x.append(6)\n",
        "  x.append(7)\n",
        "''' 関数終了 '''\n",
        "\n",
        "list = [1,2,3,4]\n",
        "tca(list)\n",
        "\n",
        "list"
      ],
      "metadata": {
        "id": "eGHXnWnU-9Kj",
        "outputId": "165d127e-f928-4a64-d534-e99e4dfd169a",
        "colab": {
          "base_uri": "https://localhost:8080/"
        }
      },
      "execution_count": 7,
      "outputs": [
        {
          "output_type": "execute_result",
          "data": {
            "text/plain": [
              "[1, 2, 3, 4, 5, 6, 7]"
            ]
          },
          "metadata": {},
          "execution_count": 7
        }
      ]
    },
    {
      "cell_type": "code",
      "source": [
        "def mkn(x):\n",
        "  x.append(4)\n",
        "\n",
        "my_list = [1,2,3]\n",
        "mkn(my_list)\n",
        "\n",
        "my_list"
      ],
      "metadata": {
        "id": "ufBrktkc8zxi",
        "outputId": "668c182a-3aa7-4801-895a-84706c4ccc47",
        "colab": {
          "base_uri": "https://localhost:8080/"
        }
      },
      "execution_count": 3,
      "outputs": [
        {
          "output_type": "execute_result",
          "data": {
            "text/plain": [
              "[1, 2, 3, 4]"
            ]
          },
          "metadata": {},
          "execution_count": 3
        }
      ]
    },
    {
      "cell_type": "markdown",
      "source": [
        "#フィボナッチ数列"
      ],
      "metadata": {
        "id": "G3E9sya887Tu"
      }
    },
    {
      "cell_type": "code",
      "source": [
        "def feb(n):\n",
        "  a, b = 0, 1\n",
        "  while a < n:\n",
        "    print(a, end=\" \")\n",
        "    a, b = b, a+b\n",
        "\n",
        "feb(100)"
      ],
      "metadata": {
        "colab": {
          "base_uri": "https://localhost:8080/"
        },
        "id": "i23jN9rO892u",
        "outputId": "79c672d3-64e7-4c61-9fb0-433e7d237116"
      },
      "execution_count": null,
      "outputs": [
        {
          "output_type": "stream",
          "name": "stdout",
          "text": [
            "0 1 1 2 3 5 8 13 21 34 55 89 "
          ]
        }
      ]
    },
    {
      "cell_type": "code",
      "source": [
        "#リストに格納\n",
        "def fib3(n):\n",
        "  a,b = 0,1\n",
        "  list = [] #空のリスト\n",
        "  while a < n: #aはnより小さい時、フィボナッチ数列をリストで返す\n",
        "    list.append(a) #appendでlistの要素を追加\n",
        "    a, b = b, a+b #0, 1 = 0 , 1 + 0\n",
        "  return list #戻り値はlist\n",
        "\n",
        "fib3(100)"
      ],
      "metadata": {
        "colab": {
          "base_uri": "https://localhost:8080/"
        },
        "id": "QYQ5Su2BLsct",
        "outputId": "6b3bfef7-4ae4-4a91-c838-210ea553b88c"
      },
      "execution_count": null,
      "outputs": [
        {
          "output_type": "execute_result",
          "data": {
            "text/plain": [
              "[0, 1, 1, 2, 3, 5, 8, 13, 21, 34, 55, 89]"
            ]
          },
          "metadata": {},
          "execution_count": 17
        }
      ]
    },
    {
      "cell_type": "code",
      "source": [
        "def fib(n):\n",
        "  list = []\n",
        "  a, b = 0, 1\n",
        "  while a < n:\n",
        "    list.append(a)\n",
        "    a,b = b, a+b\n",
        "  return list\n",
        "\n",
        "fib(100)"
      ],
      "metadata": {
        "colab": {
          "base_uri": "https://localhost:8080/"
        },
        "id": "MdT1BBYU-3ye",
        "outputId": "628df090-7141-488a-f8bd-94a222966df0"
      },
      "execution_count": null,
      "outputs": [
        {
          "output_type": "execute_result",
          "data": {
            "text/plain": [
              "[0, 1, 1, 2, 3, 5, 8, 13, 21, 34, 55, 89]"
            ]
          },
          "metadata": {},
          "execution_count": 11
        }
      ]
    },
    {
      "cell_type": "code",
      "source": [
        "def fib2(n):\n",
        "  a, b = 0, 1\n",
        "  list = []\n",
        "  while a < n:\n",
        "    list.append(a)\n",
        "    a, b = b, a+b\n",
        "  return list\n",
        "\n",
        "fib2(100)"
      ],
      "metadata": {
        "colab": {
          "base_uri": "https://localhost:8080/"
        },
        "id": "IW5JVmljIb-c",
        "outputId": "2af07a54-893d-4971-d846-d097ade5635d"
      },
      "execution_count": null,
      "outputs": [
        {
          "output_type": "execute_result",
          "data": {
            "text/plain": [
              "[0, 1, 1, 2, 3, 5, 8, 13, 21, 34, 55, 89]"
            ]
          },
          "metadata": {},
          "execution_count": 13
        }
      ]
    },
    {
      "cell_type": "markdown",
      "source": [
        "#キーワード引数"
      ],
      "metadata": {
        "id": "251ijK8UQV-I"
      }
    },
    {
      "cell_type": "code",
      "source": [
        "def house(bedroom, walk, type, yatin):\n",
        "  return {\"ベッド部屋\": bedroom, \"距離\": walk,\"家の名前\": type, \"家賃\": yatin}\n",
        "\n",
        "house(bedroom=2, walk=15, type=\"アパート\", yatin=50)"
      ],
      "metadata": {
        "id": "vQu9PqC7QZGd",
        "outputId": "c5042408-8d75-4888-cc5e-5c6873b45b77",
        "colab": {
          "base_uri": "https://localhost:8080/"
        }
      },
      "execution_count": null,
      "outputs": [
        {
          "output_type": "execute_result",
          "data": {
            "text/plain": [
              "{'ベッド部屋': 2, '距離': 15, '家の名前': 'アパート', '家賃': 50}"
            ]
          },
          "metadata": {},
          "execution_count": 20
        }
      ]
    }
  ]
}