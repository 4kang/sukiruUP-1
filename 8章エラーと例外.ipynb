{
  "nbformat": 4,
  "nbformat_minor": 0,
  "metadata": {
    "colab": {
      "provenance": [],
      "authorship_tag": "ABX9TyMhF4/Myctp4YdvFv1Rzovr",
      "include_colab_link": true
    },
    "kernelspec": {
      "name": "python3",
      "display_name": "Python 3"
    },
    "language_info": {
      "name": "python"
    }
  },
  "cells": [
    {
      "cell_type": "markdown",
      "metadata": {
        "id": "view-in-github",
        "colab_type": "text"
      },
      "source": [
        "<a href=\"https://colab.research.google.com/github/4kang/sukiruUP-1/blob/main/8%E7%AB%A0%E3%82%A8%E3%83%A9%E3%83%BC%E3%81%A8%E4%BE%8B%E5%A4%96.ipynb\" target=\"_parent\"><img src=\"https://colab.research.google.com/assets/colab-badge.svg\" alt=\"Open In Colab\"/></a>"
      ]
    },
    {
      "cell_type": "markdown",
      "source": [
        "#構文エラー"
      ],
      "metadata": {
        "id": "gs6As8Hs6lcz"
      }
    },
    {
      "cell_type": "code",
      "source": [
        "while True print(\"Hello\") #print関数の前に[:]がない"
      ],
      "metadata": {
        "colab": {
          "base_uri": "https://localhost:8080/",
          "height": 137
        },
        "id": "fC0ITMUU6pN2",
        "outputId": "00c60129-9799-4fa0-95e9-21dfc3eb93bc"
      },
      "execution_count": null,
      "outputs": [
        {
          "output_type": "error",
          "ename": "SyntaxError",
          "evalue": "ignored",
          "traceback": [
            "\u001b[0;36m  File \u001b[0;32m\"<ipython-input-1-40f417ebce1c>\"\u001b[0;36m, line \u001b[0;32m1\u001b[0m\n\u001b[0;31m    while True print(\"Hello\")\u001b[0m\n\u001b[0m               ^\u001b[0m\n\u001b[0;31mSyntaxError\u001b[0m\u001b[0;31m:\u001b[0m invalid syntax\n"
          ]
        }
      ]
    },
    {
      "cell_type": "code",
      "source": [
        "while True : print(\"Hello\")"
      ],
      "metadata": {
        "id": "EX4FPE5d8xIM"
      },
      "execution_count": null,
      "outputs": []
    },
    {
      "cell_type": "code",
      "source": [
        "my_val = [1,2,3]\n",
        "\n",
        "[x for x of my_val]"
      ],
      "metadata": {
        "colab": {
          "base_uri": "https://localhost:8080/",
          "height": 137
        },
        "id": "IocFsXnB9Pam",
        "outputId": "d8e3bec5-d7b9-455e-99a3-594796dc1b9e"
      },
      "execution_count": null,
      "outputs": [
        {
          "output_type": "error",
          "ename": "SyntaxError",
          "evalue": "ignored",
          "traceback": [
            "\u001b[0;36m  File \u001b[0;32m\"<ipython-input-5-b3917fbd32e6>\"\u001b[0;36m, line \u001b[0;32m3\u001b[0m\n\u001b[0;31m    [x for x of my_val]\u001b[0m\n\u001b[0m           ^\u001b[0m\n\u001b[0;31mSyntaxError\u001b[0m\u001b[0;31m:\u001b[0m invalid syntax. Perhaps you forgot a comma?\n"
          ]
        }
      ]
    },
    {
      "cell_type": "code",
      "source": [
        "my_val = [1,2,3]\n",
        "\n",
        "[x for x in my_val]"
      ],
      "metadata": {
        "colab": {
          "base_uri": "https://localhost:8080/"
        },
        "id": "-IEV0B2D9kXf",
        "outputId": "93d3a49b-9ad7-430e-afb4-6d082e74035f"
      },
      "execution_count": null,
      "outputs": [
        {
          "output_type": "execute_result",
          "data": {
            "text/plain": [
              "[1, 2, 3]"
            ]
          },
          "metadata": {},
          "execution_count": 7
        }
      ]
    },
    {
      "cell_type": "markdown",
      "source": [
        "#例外"
      ],
      "metadata": {
        "id": "EJlA0tjeEMGZ"
      }
    },
    {
      "cell_type": "markdown",
      "source": [
        "#ValueError"
      ],
      "metadata": {
        "id": "VnRjetDNFYHd"
      }
    },
    {
      "cell_type": "code",
      "source": [
        "int(\"a\")"
      ],
      "metadata": {
        "colab": {
          "base_uri": "https://localhost:8080/",
          "height": 173
        },
        "id": "D9Vyoh62EKvh",
        "outputId": "d675525c-673c-4a4a-dbe9-8b7e1dc6b38c"
      },
      "execution_count": null,
      "outputs": [
        {
          "output_type": "error",
          "ename": "ValueError",
          "evalue": "ignored",
          "traceback": [
            "\u001b[0;31m---------------------------------------------------------------------------\u001b[0m",
            "\u001b[0;31mValueError\u001b[0m                                Traceback (most recent call last)",
            "\u001b[0;32m<ipython-input-8-d9136db7b558>\u001b[0m in \u001b[0;36m<cell line: 1>\u001b[0;34m()\u001b[0m\n\u001b[0;32m----> 1\u001b[0;31m \u001b[0mint\u001b[0m\u001b[0;34m(\u001b[0m\u001b[0;34m\"a\"\u001b[0m\u001b[0;34m)\u001b[0m\u001b[0;34m\u001b[0m\u001b[0;34m\u001b[0m\u001b[0m\n\u001b[0m",
            "\u001b[0;31mValueError\u001b[0m: invalid literal for int() with base 10: 'a'"
          ]
        }
      ]
    },
    {
      "cell_type": "markdown",
      "source": [
        "#TypeError"
      ],
      "metadata": {
        "id": "TFBsCmb8FZ0y"
      }
    },
    {
      "cell_type": "code",
      "source": [
        "\"2\" + 2"
      ],
      "metadata": {
        "colab": {
          "base_uri": "https://localhost:8080/",
          "height": 173
        },
        "id": "k0CYRSukFLcX",
        "outputId": "c1a47439-8c04-46de-9645-ace13c202c60"
      },
      "execution_count": null,
      "outputs": [
        {
          "output_type": "error",
          "ename": "TypeError",
          "evalue": "ignored",
          "traceback": [
            "\u001b[0;31m---------------------------------------------------------------------------\u001b[0m",
            "\u001b[0;31mTypeError\u001b[0m                                 Traceback (most recent call last)",
            "\u001b[0;32m<ipython-input-9-192a1d19ca7a>\u001b[0m in \u001b[0;36m<cell line: 1>\u001b[0;34m()\u001b[0m\n\u001b[0;32m----> 1\u001b[0;31m \u001b[0;34m\"2\"\u001b[0m \u001b[0;34m+\u001b[0m \u001b[0;36m2\u001b[0m\u001b[0;34m\u001b[0m\u001b[0;34m\u001b[0m\u001b[0m\n\u001b[0m",
            "\u001b[0;31mTypeError\u001b[0m: can only concatenate str (not \"int\") to str"
          ]
        }
      ]
    },
    {
      "cell_type": "markdown",
      "source": [
        "#NameError"
      ],
      "metadata": {
        "id": "p-zns88TFeqC"
      }
    },
    {
      "cell_type": "code",
      "source": [
        "4 + spam * 3"
      ],
      "metadata": {
        "colab": {
          "base_uri": "https://localhost:8080/",
          "height": 173
        },
        "id": "MIpqjGbTFhip",
        "outputId": "0c2510b2-1655-4398-9a2f-1c6155cd40e4"
      },
      "execution_count": null,
      "outputs": [
        {
          "output_type": "error",
          "ename": "NameError",
          "evalue": "ignored",
          "traceback": [
            "\u001b[0;31m---------------------------------------------------------------------------\u001b[0m",
            "\u001b[0;31mNameError\u001b[0m                                 Traceback (most recent call last)",
            "\u001b[0;32m<ipython-input-10-c8ef1c0a2ff8>\u001b[0m in \u001b[0;36m<cell line: 1>\u001b[0;34m()\u001b[0m\n\u001b[0;32m----> 1\u001b[0;31m \u001b[0;36m4\u001b[0m \u001b[0;34m+\u001b[0m \u001b[0mspam\u001b[0m \u001b[0;34m*\u001b[0m \u001b[0;36m3\u001b[0m\u001b[0;34m\u001b[0m\u001b[0;34m\u001b[0m\u001b[0m\n\u001b[0m",
            "\u001b[0;31mNameError\u001b[0m: name 'spam' is not defined"
          ]
        }
      ]
    },
    {
      "cell_type": "markdown",
      "source": [
        "#ZeroDivisionError"
      ],
      "metadata": {
        "id": "zbZjGGdPGIdw"
      }
    },
    {
      "cell_type": "code",
      "source": [
        "100.0 / 0"
      ],
      "metadata": {
        "colab": {
          "base_uri": "https://localhost:8080/",
          "height": 173
        },
        "id": "JdqhfBqrGD8X",
        "outputId": "7dbe1739-4fc6-41be-c983-37a807cc9aa4"
      },
      "execution_count": null,
      "outputs": [
        {
          "output_type": "error",
          "ename": "ZeroDivisionError",
          "evalue": "ignored",
          "traceback": [
            "\u001b[0;31m---------------------------------------------------------------------------\u001b[0m",
            "\u001b[0;31mZeroDivisionError\u001b[0m                         Traceback (most recent call last)",
            "\u001b[0;32m<ipython-input-11-86cc1d298a3f>\u001b[0m in \u001b[0;36m<cell line: 1>\u001b[0;34m()\u001b[0m\n\u001b[0;32m----> 1\u001b[0;31m \u001b[0;36m100.0\u001b[0m \u001b[0;34m/\u001b[0m \u001b[0;36m0\u001b[0m\u001b[0;34m\u001b[0m\u001b[0;34m\u001b[0m\u001b[0m\n\u001b[0m",
            "\u001b[0;31mZeroDivisionError\u001b[0m: float division by zero"
          ]
        }
      ]
    },
    {
      "cell_type": "markdown",
      "source": [
        "#例外の処理"
      ],
      "metadata": {
        "id": "4sjApey-GoCI"
      }
    },
    {
      "cell_type": "code",
      "source": [
        "try:\n",
        "  x = 2\n",
        "  print(\"10 / x =\", 10 / x)\n",
        "except TypeError:\n",
        "  print(\"入力ミスです\")"
      ],
      "metadata": {
        "id": "OYXa_Zw3fEaI",
        "outputId": "b11f9450-e4c0-4966-c0a6-7365b1c66835",
        "colab": {
          "base_uri": "https://localhost:8080/"
        }
      },
      "execution_count": 4,
      "outputs": [
        {
          "output_type": "stream",
          "name": "stdout",
          "text": [
            "10 / x = 5.0\n"
          ]
        }
      ]
    },
    {
      "cell_type": "code",
      "source": [
        "try:\n",
        "  x = \"2\"\n",
        "  print(\"10 / x =\", 10 / x)\n",
        "except TypeError:\n",
        "  print(\"入力ミスです\")"
      ],
      "metadata": {
        "id": "PnEQW_gwfgMm",
        "outputId": "5b22bcb9-e0c7-4ebe-ffe5-94d41d829110",
        "colab": {
          "base_uri": "https://localhost:8080/"
        }
      },
      "execution_count": 5,
      "outputs": [
        {
          "output_type": "stream",
          "name": "stdout",
          "text": [
            "入力ミスです\n"
          ]
        }
      ]
    },
    {
      "cell_type": "code",
      "source": [
        "def to_int(x):\n",
        "  try:\n",
        "    return int(x)\n",
        "  except:\n",
        "    return None\n",
        "\n",
        "print(to_int(\"a\"))\n",
        "print(to_int(\"5\"))"
      ],
      "metadata": {
        "colab": {
          "base_uri": "https://localhost:8080/"
        },
        "id": "0Q36mHjRGrag",
        "outputId": "12ded513-7954-4e65-8d91-79c6cc84deea"
      },
      "execution_count": null,
      "outputs": [
        {
          "output_type": "stream",
          "name": "stdout",
          "text": [
            "None\n",
            "5\n"
          ]
        }
      ]
    },
    {
      "cell_type": "code",
      "source": [
        "def listinf(x, index):\n",
        "  try:\n",
        "    return x[index]\n",
        "  except:\n",
        "    print(\"list index out of range\")\n",
        "    return None\n",
        "\n",
        "fib_num_list = [0,1,1,2,3,5,8]\n",
        "listinf(fib_num_list, 2)"
      ],
      "metadata": {
        "colab": {
          "base_uri": "https://localhost:8080/"
        },
        "id": "qrfBgJAuKYmN",
        "outputId": "8c0bb0db-d201-4114-d565-a209cabd051b"
      },
      "execution_count": 1,
      "outputs": [
        {
          "output_type": "execute_result",
          "data": {
            "text/plain": [
              "1"
            ]
          },
          "metadata": {},
          "execution_count": 1
        }
      ]
    },
    {
      "cell_type": "code",
      "source": [
        "name_age = {\"Arice\": 12, \"Noah\": 8, \"Cozetto\": 12}\n",
        "\n",
        "def dict_info(dict_tbl, key):\n",
        "  try:\n",
        "    return dict_tbl[key]\n",
        "  except:\n",
        "    return \"key is not found\"\n",
        "\n",
        "print(dict_info(name_age,\"Arice\"))\n",
        "print(dict_info(name_age,\"Kurara\"))"
      ],
      "metadata": {
        "colab": {
          "base_uri": "https://localhost:8080/"
        },
        "id": "t9Way_o2RqbH",
        "outputId": "0b173fd7-deff-4007-8a34-397e61caebac"
      },
      "execution_count": null,
      "outputs": [
        {
          "output_type": "stream",
          "name": "stdout",
          "text": [
            "12\n",
            "key is not found\n"
          ]
        }
      ]
    },
    {
      "cell_type": "markdown",
      "source": [
        "#as[変数]"
      ],
      "metadata": {
        "id": "tB86JqC0IT5C"
      }
    },
    {
      "cell_type": "code",
      "source": [
        "try:\n",
        "  x = 10 / 0\n",
        "except ZeroDivisionError as eee: #eeeにエラーの情報(ZeroDivisionError)を渡す\n",
        "  print(eee)\n",
        "  print(type(eee))\n",
        "  print(eee.args)\n",
        "  print(eee.args[0])"
      ],
      "metadata": {
        "id": "ol2esJy8IWrH",
        "outputId": "dd98dd6f-dc1a-4e06-b527-71e6a3c8f6ad",
        "colab": {
          "base_uri": "https://localhost:8080/"
        }
      },
      "execution_count": 11,
      "outputs": [
        {
          "output_type": "stream",
          "name": "stdout",
          "text": [
            "division by zero\n",
            "<class 'ZeroDivisionError'>\n",
            "('division by zero',)\n",
            "division by zero\n"
          ]
        }
      ]
    },
    {
      "cell_type": "code",
      "source": [],
      "metadata": {
        "id": "7anS_ROCBRSt"
      },
      "execution_count": null,
      "outputs": []
    }
  ]
}