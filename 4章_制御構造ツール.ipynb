{
  "nbformat": 4,
  "nbformat_minor": 0,
  "metadata": {
    "colab": {
      "provenance": [],
      "authorship_tag": "ABX9TyMIcNzPheCosyhDc5DI0LFB",
      "include_colab_link": true
    },
    "kernelspec": {
      "name": "python3",
      "display_name": "Python 3"
    },
    "language_info": {
      "name": "python"
    }
  },
  "cells": [
    {
      "cell_type": "markdown",
      "metadata": {
        "id": "view-in-github",
        "colab_type": "text"
      },
      "source": [
        "<a href=\"https://colab.research.google.com/github/4kang/sukiruUP-1/blob/main/4%E7%AB%A0_%E5%88%B6%E5%BE%A1%E6%A7%8B%E9%80%A0%E3%83%84%E3%83%BC%E3%83%AB.ipynb\" target=\"_parent\"><img src=\"https://colab.research.google.com/assets/colab-badge.svg\" alt=\"Open In Colab\"/></a>"
      ]
    },
    {
      "cell_type": "code",
      "execution_count": 1,
      "metadata": {
        "colab": {
          "base_uri": "https://localhost:8080/"
        },
        "id": "8FZRCWMu193f",
        "outputId": "cd44c7ce-38f9-41b7-caa0-571aa9db264f"
      },
      "outputs": [
        {
          "name": "stdout",
          "output_type": "stream",
          "text": [
            "Please enter an integer: 45\n"
          ]
        }
      ],
      "source": [
        "# if,elif,else\n",
        "\n",
        "x = int(input(\"Please enter an integer: \")) #入力コード"
      ]
    },
    {
      "cell_type": "code",
      "source": [
        "if x < 0:\n",
        "    x = 0\n",
        "    print('Negative changed to zero')\n",
        "elif x == 0:\n",
        "    print('Zero')\n",
        "elif x == 1:\n",
        "    print('Single')\n",
        "else:\n",
        "    print('More')"
      ],
      "metadata": {
        "colab": {
          "base_uri": "https://localhost:8080/"
        },
        "id": "1mT74kGDKxgU",
        "outputId": "ee4800e1-bdd6-4181-a86e-77fbc67c1581"
      },
      "execution_count": 2,
      "outputs": [
        {
          "output_type": "stream",
          "name": "stdout",
          "text": [
            "More\n"
          ]
        }
      ]
    },
    {
      "cell_type": "code",
      "source": [
        "score = 100\n",
        "\n",
        "if score == 100:\n",
        "  print(\"良い点数です\")\n",
        "elif score >= 50:\n",
        "  print('もう少し頑張りましょう')\n",
        "else:\n",
        "  print(\"ダメです\")"
      ],
      "metadata": {
        "colab": {
          "base_uri": "https://localhost:8080/"
        },
        "id": "TtWrfmKhBgna",
        "outputId": "3902e7d4-9d04-4331-cac1-97219ae0fe30"
      },
      "execution_count": 13,
      "outputs": [
        {
          "output_type": "stream",
          "name": "stdout",
          "text": [
            "良い点数です\n"
          ]
        }
      ]
    },
    {
      "cell_type": "code",
      "source": [
        "a = 30\n",
        "\n",
        "if a % 15 == 0: #15の倍数なら\n",
        "  print(str(15))\n",
        "elif a % 3 == 0:\n",
        "  print(str(3))\n",
        "elif a % 5 == 0:\n",
        "  print(str(5))\n",
        "else:\n",
        "  pass"
      ],
      "metadata": {
        "colab": {
          "base_uri": "https://localhost:8080/"
        },
        "id": "7C6d0bavRHGX",
        "outputId": "65dabe86-6635-47cc-b2a5-c8da5f309960"
      },
      "execution_count": 41,
      "outputs": [
        {
          "output_type": "stream",
          "name": "stdout",
          "text": [
            "15\n"
          ]
        }
      ]
    },
    {
      "cell_type": "code",
      "source": [
        "#比較演算子\n",
        "a = 80\n",
        "if a > 10:\n",
        "  print(\"OK\")"
      ],
      "metadata": {
        "colab": {
          "base_uri": "https://localhost:8080/"
        },
        "id": "_FB1ND_LDUmy",
        "outputId": "af96667a-19ee-4b83-ce6a-920952a6f943"
      },
      "execution_count": 17,
      "outputs": [
        {
          "output_type": "stream",
          "name": "stdout",
          "text": [
            "OK\n"
          ]
        }
      ]
    },
    {
      "cell_type": "code",
      "source": [
        "#in演算子\n",
        "if \"a\" in [\"a\", \"b\", \"c\"] :\n",
        "  print(\"OK\")"
      ],
      "metadata": {
        "colab": {
          "base_uri": "https://localhost:8080/"
        },
        "id": "KR41tSuPD-Re",
        "outputId": "6b443a76-361a-4851-bf7d-69b7cb0bfea9"
      },
      "execution_count": 18,
      "outputs": [
        {
          "output_type": "stream",
          "name": "stdout",
          "text": [
            "OK\n"
          ]
        }
      ]
    },
    {
      "cell_type": "code",
      "source": [
        "#論理演算子\n",
        "\n",
        "time = 14\n",
        "\n",
        "if time < 18 and time > 10:\n",
        "  print(\"就業時間です\")"
      ],
      "metadata": {
        "colab": {
          "base_uri": "https://localhost:8080/"
        },
        "id": "0BAS1xj5F0qQ",
        "outputId": "e394a818-9bda-4e5e-ae76-81e1b8ec559e"
      },
      "execution_count": 19,
      "outputs": [
        {
          "output_type": "stream",
          "name": "stdout",
          "text": [
            "就業時間です\n"
          ]
        }
      ]
    },
    {
      "cell_type": "code",
      "source": [
        "# andの省略\n",
        "if 10 < time < 18:\n",
        "  print(\"就業時間です\")"
      ],
      "metadata": {
        "colab": {
          "base_uri": "https://localhost:8080/"
        },
        "id": "PZvUoqF0HL3j",
        "outputId": "e0968334-6d02-4394-9000-ef4c4c1a5447"
      },
      "execution_count": 24,
      "outputs": [
        {
          "output_type": "stream",
          "name": "stdout",
          "text": [
            "就業時間です\n"
          ]
        }
      ]
    },
    {
      "cell_type": "code",
      "source": [
        "time = 15\n",
        "\n",
        "if time == 15 or time == 18:\n",
        "  print(\"おやつの時間です\")"
      ],
      "metadata": {
        "colab": {
          "base_uri": "https://localhost:8080/"
        },
        "id": "fi-rUOy6Gk7s",
        "outputId": "f912dea8-c9de-428f-c50c-04e7ee990fd0"
      },
      "execution_count": 23,
      "outputs": [
        {
          "output_type": "stream",
          "name": "stdout",
          "text": [
            "おやつの時間です\n"
          ]
        }
      ]
    },
    {
      "cell_type": "code",
      "source": [
        "#　for文\n",
        "words = [\"cat\", \"window\", \"defenestrate\"]\n",
        "\n",
        "# wordsリスト内にある文字列と文字列の数を表示させる\n",
        "for w in words:\n",
        "  print(w, len(w))"
      ],
      "metadata": {
        "colab": {
          "base_uri": "https://localhost:8080/"
        },
        "id": "IIU7SFetHfan",
        "outputId": "5c41f1b8-0e44-41f8-abbd-996731838aea"
      },
      "execution_count": 27,
      "outputs": [
        {
          "output_type": "stream",
          "name": "stdout",
          "text": [
            "cat 3\n",
            "window 6\n",
            "defenestrate 12\n"
          ]
        }
      ]
    },
    {
      "cell_type": "code",
      "source": [
        "lenth = [\"xiao\", \"zhonli\", \"lumine\"]\n",
        "\n",
        "for g in lenth:\n",
        "  print(g)"
      ],
      "metadata": {
        "colab": {
          "base_uri": "https://localhost:8080/"
        },
        "id": "bcOykdZPIeVa",
        "outputId": "ed39f37f-3e8c-4e25-82ed-d6bb214130c7"
      },
      "execution_count": 28,
      "outputs": [
        {
          "output_type": "stream",
          "name": "stdout",
          "text": [
            "xiao\n",
            "zhonli\n",
            "lumine\n"
          ]
        }
      ]
    },
    {
      "cell_type": "code",
      "source": [
        "# サンプルコレクションを作成する\n",
        "users = {\"Hans\": \"active\", \"Eleonore\": \"inactive\", \"啓太郎\": \"active\"}\n",
        "\n",
        "# 戦略: コピーを反復処理する\n",
        "for user, status in users.copy().items():\n",
        "  if status == \"inactive\":\n",
        "    del users[user]\n",
        "\n",
        "# 戦略: 新しいコレクションを作成する\n",
        "active_users = {}\n",
        "for user, status in users.items():\n",
        "  if status == \"active\":\n",
        "    active_users[user] = status"
      ],
      "metadata": {
        "id": "Ts0kQOWEKJll"
      },
      "execution_count": 29,
      "outputs": []
    },
    {
      "cell_type": "code",
      "source": [
        "# range()　関数\n",
        "\n",
        "for i in range(5): #0～4まで出力\n",
        "  print(i)"
      ],
      "metadata": {
        "colab": {
          "base_uri": "https://localhost:8080/"
        },
        "id": "z8jbTQYkNCAJ",
        "outputId": "69df1c61-0580-48d5-acf2-21a9439f5528"
      },
      "execution_count": 30,
      "outputs": [
        {
          "output_type": "stream",
          "name": "stdout",
          "text": [
            "0\n",
            "1\n",
            "2\n",
            "3\n",
            "4\n"
          ]
        }
      ]
    },
    {
      "cell_type": "code",
      "source": [
        "for g in range(12):\n",
        "  print(g)"
      ],
      "metadata": {
        "colab": {
          "base_uri": "https://localhost:8080/"
        },
        "id": "XoJIZdnlNUtI",
        "outputId": "16c119af-6059-4d92-f1f5-a027909e9deb"
      },
      "execution_count": 31,
      "outputs": [
        {
          "output_type": "stream",
          "name": "stdout",
          "text": [
            "0\n",
            "1\n",
            "2\n",
            "3\n",
            "4\n",
            "5\n",
            "6\n",
            "7\n",
            "8\n",
            "9\n",
            "10\n",
            "11\n"
          ]
        }
      ]
    },
    {
      "cell_type": "code",
      "source": [
        "# range()の数値を指定\n",
        "list(range(5, 10))"
      ],
      "metadata": {
        "colab": {
          "base_uri": "https://localhost:8080/"
        },
        "id": "AFnvdX-xNb6Y",
        "outputId": "26ea27c4-cb5d-42ad-cd50-518e0ddf37f0"
      },
      "execution_count": 32,
      "outputs": [
        {
          "output_type": "execute_result",
          "data": {
            "text/plain": [
              "[5, 6, 7, 8, 9]"
            ]
          },
          "metadata": {},
          "execution_count": 32
        }
      ]
    },
    {
      "cell_type": "code",
      "source": [
        "list(range(0, 10, 3))"
      ],
      "metadata": {
        "colab": {
          "base_uri": "https://localhost:8080/"
        },
        "id": "tWTkfO-yN3qr",
        "outputId": "c24a13e8-22be-4bb8-b43f-029434810676"
      },
      "execution_count": 33,
      "outputs": [
        {
          "output_type": "execute_result",
          "data": {
            "text/plain": [
              "[0, 3, 6, 9]"
            ]
          },
          "metadata": {},
          "execution_count": 33
        }
      ]
    },
    {
      "cell_type": "code",
      "source": [
        "list(range(-10, -100, -30))"
      ],
      "metadata": {
        "colab": {
          "base_uri": "https://localhost:8080/"
        },
        "id": "Dqa7Buw7OETI",
        "outputId": "4a227ca3-a273-4848-e182-77b7a8f5c907"
      },
      "execution_count": 34,
      "outputs": [
        {
          "output_type": "execute_result",
          "data": {
            "text/plain": [
              "[-10, -40, -70]"
            ]
          },
          "metadata": {},
          "execution_count": 34
        }
      ]
    },
    {
      "cell_type": "code",
      "source": [
        "# range()とlen()\n",
        "a = [\"Mary\", \"had\", \"a\", \"little\", \"lamb\"]\n",
        "\n",
        "for i in range(len(a)):\n",
        "  print(i, a[i])"
      ],
      "metadata": {
        "colab": {
          "base_uri": "https://localhost:8080/"
        },
        "id": "WDST09JGONMf",
        "outputId": "987a23d0-5268-40a7-ad69-7d9ad0ba0660"
      },
      "execution_count": 35,
      "outputs": [
        {
          "output_type": "stream",
          "name": "stdout",
          "text": [
            "0 Mary\n",
            "1 had\n",
            "2 a\n",
            "3 little\n",
            "4 lamb\n"
          ]
        }
      ]
    },
    {
      "cell_type": "code",
      "source": [
        "arc = [\"クロノア\", \"ミネルヴァ\", \"ライザ\", \"リオセスリ\"]\n",
        "\n",
        "for f in range(len(arc)):\n",
        "  print(f, arc[f])"
      ],
      "metadata": {
        "colab": {
          "base_uri": "https://localhost:8080/"
        },
        "id": "Ig8D_BnVO6vH",
        "outputId": "668e0a54-6251-47c6-94ed-c77625fd601a"
      },
      "execution_count": 36,
      "outputs": [
        {
          "output_type": "stream",
          "name": "stdout",
          "text": [
            "0 クロノア\n",
            "1 ミネルヴァ\n",
            "2 ライザ\n",
            "3 リオセスリ\n"
          ]
        }
      ]
    },
    {
      "cell_type": "code",
      "source": [
        "range(10)"
      ],
      "metadata": {
        "colab": {
          "base_uri": "https://localhost:8080/"
        },
        "id": "BkQfsCPhPnNk",
        "outputId": "0a293745-0524-4fc5-f52c-1d4ab0479849"
      },
      "execution_count": 38,
      "outputs": [
        {
          "output_type": "execute_result",
          "data": {
            "text/plain": [
              "range(0, 10)"
            ]
          },
          "metadata": {},
          "execution_count": 38
        }
      ]
    },
    {
      "cell_type": "code",
      "source": [
        "sum(range(4)) #0 + 1 + 2 + 3"
      ],
      "metadata": {
        "colab": {
          "base_uri": "https://localhost:8080/"
        },
        "id": "NrDJF7lnPtxX",
        "outputId": "7fa6adc8-dc22-4eb9-bfae-af86346481d6"
      },
      "execution_count": 39,
      "outputs": [
        {
          "output_type": "execute_result",
          "data": {
            "text/plain": [
              "6"
            ]
          },
          "metadata": {},
          "execution_count": 39
        }
      ]
    },
    {
      "cell_type": "code",
      "source": [
        "# break文\n",
        "for n in range(2, 10):\n",
        "  for x in range(2, n):\n",
        "    if n % x == 0:\n",
        "      print(n, 'equals', x, '*', n//x)\n",
        "      break\n",
        "  else:\n",
        "    print(n, 'is a prime number')"
      ],
      "metadata": {
        "colab": {
          "base_uri": "https://localhost:8080/"
        },
        "id": "x5ng1mrRP51c",
        "outputId": "7d797690-4532-446c-8daa-11e45f71fa05"
      },
      "execution_count": 40,
      "outputs": [
        {
          "output_type": "stream",
          "name": "stdout",
          "text": [
            "2 is a prime number\n",
            "3 is a prime number\n",
            "4 equals 2 * 2\n",
            "5 is a prime number\n",
            "6 equals 2 * 3\n",
            "7 is a prime number\n",
            "8 equals 2 * 4\n",
            "9 equals 3 * 3\n"
          ]
        }
      ]
    }
  ]
}