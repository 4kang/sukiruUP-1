{
  "nbformat": 4,
  "nbformat_minor": 0,
  "metadata": {
    "colab": {
      "provenance": [],
      "authorship_tag": "ABX9TyOOQmrvgiKQ7DubyXXr0bHF",
      "include_colab_link": true
    },
    "kernelspec": {
      "name": "python3",
      "display_name": "Python 3"
    },
    "language_info": {
      "name": "python"
    }
  },
  "cells": [
    {
      "cell_type": "markdown",
      "metadata": {
        "id": "view-in-github",
        "colab_type": "text"
      },
      "source": [
        "<a href=\"https://colab.research.google.com/github/4kang/sukiruUP-1/blob/main/4%E7%AB%A0_%E5%88%B6%E5%BE%A1%E6%A7%8B%E9%80%A0%E3%83%84%E3%83%BC%E3%83%AB.ipynb\" target=\"_parent\"><img src=\"https://colab.research.google.com/assets/colab-badge.svg\" alt=\"Open In Colab\"/></a>"
      ]
    },
    {
      "cell_type": "code",
      "execution_count": 1,
      "metadata": {
        "colab": {
          "base_uri": "https://localhost:8080/"
        },
        "id": "8FZRCWMu193f",
        "outputId": "cd44c7ce-38f9-41b7-caa0-571aa9db264f"
      },
      "outputs": [
        {
          "name": "stdout",
          "output_type": "stream",
          "text": [
            "Please enter an integer: 45\n"
          ]
        }
      ],
      "source": [
        "# if,elif,else\n",
        "\n",
        "x = int(input(\"Please enter an integer: \")) #入力コード"
      ]
    },
    {
      "cell_type": "code",
      "source": [
        "if x < 0:\n",
        "    x = 0\n",
        "    print('Negative changed to zero')\n",
        "elif x == 0:\n",
        "    print('Zero')\n",
        "elif x == 1:\n",
        "    print('Single')\n",
        "else:\n",
        "    print('More')"
      ],
      "metadata": {
        "colab": {
          "base_uri": "https://localhost:8080/"
        },
        "id": "1mT74kGDKxgU",
        "outputId": "ee4800e1-bdd6-4181-a86e-77fbc67c1581"
      },
      "execution_count": 2,
      "outputs": [
        {
          "output_type": "stream",
          "name": "stdout",
          "text": [
            "More\n"
          ]
        }
      ]
    },
    {
      "cell_type": "code",
      "source": [
        "score = 100\n",
        "\n",
        "if score == 100:\n",
        "  print(\"良い点数です\")\n",
        "elif score >= 50:\n",
        "  print('もう少し頑張りましょう')\n",
        "else:\n",
        "  print(\"ダメです\")"
      ],
      "metadata": {
        "colab": {
          "base_uri": "https://localhost:8080/"
        },
        "id": "TtWrfmKhBgna",
        "outputId": "3902e7d4-9d04-4331-cac1-97219ae0fe30"
      },
      "execution_count": 13,
      "outputs": [
        {
          "output_type": "stream",
          "name": "stdout",
          "text": [
            "良い点数です\n"
          ]
        }
      ]
    },
    {
      "cell_type": "code",
      "source": [
        "#比較演算子\n",
        "a = 80\n",
        "if a > 10:\n",
        "  print(\"OK\")"
      ],
      "metadata": {
        "colab": {
          "base_uri": "https://localhost:8080/"
        },
        "id": "_FB1ND_LDUmy",
        "outputId": "af96667a-19ee-4b83-ce6a-920952a6f943"
      },
      "execution_count": 17,
      "outputs": [
        {
          "output_type": "stream",
          "name": "stdout",
          "text": [
            "OK\n"
          ]
        }
      ]
    },
    {
      "cell_type": "code",
      "source": [
        "#in演算子\n",
        "if \"a\" in [\"a\", \"b\", \"c\"] :\n",
        "  print(\"OK\")"
      ],
      "metadata": {
        "colab": {
          "base_uri": "https://localhost:8080/"
        },
        "id": "KR41tSuPD-Re",
        "outputId": "6b443a76-361a-4851-bf7d-69b7cb0bfea9"
      },
      "execution_count": 18,
      "outputs": [
        {
          "output_type": "stream",
          "name": "stdout",
          "text": [
            "OK\n"
          ]
        }
      ]
    },
    {
      "cell_type": "code",
      "source": [
        "#論理演算子\n",
        "\n",
        "time = 14\n",
        "\n",
        "if time < 18 and time > 10:\n",
        "  print(\"就業時間です\")"
      ],
      "metadata": {
        "colab": {
          "base_uri": "https://localhost:8080/"
        },
        "id": "0BAS1xj5F0qQ",
        "outputId": "e394a818-9bda-4e5e-ae76-81e1b8ec559e"
      },
      "execution_count": 19,
      "outputs": [
        {
          "output_type": "stream",
          "name": "stdout",
          "text": [
            "就業時間です\n"
          ]
        }
      ]
    },
    {
      "cell_type": "code",
      "source": [
        "# andの省略\n",
        "if 10 < time < 18:\n",
        "  print(\"就業時間です\")"
      ],
      "metadata": {
        "colab": {
          "base_uri": "https://localhost:8080/"
        },
        "id": "PZvUoqF0HL3j",
        "outputId": "e0968334-6d02-4394-9000-ef4c4c1a5447"
      },
      "execution_count": 24,
      "outputs": [
        {
          "output_type": "stream",
          "name": "stdout",
          "text": [
            "就業時間です\n"
          ]
        }
      ]
    },
    {
      "cell_type": "code",
      "source": [
        "time = 15\n",
        "\n",
        "if time == 15 or time == 18:\n",
        "  print(\"おやつの時間です\")"
      ],
      "metadata": {
        "colab": {
          "base_uri": "https://localhost:8080/"
        },
        "id": "fi-rUOy6Gk7s",
        "outputId": "f912dea8-c9de-428f-c50c-04e7ee990fd0"
      },
      "execution_count": 23,
      "outputs": [
        {
          "output_type": "stream",
          "name": "stdout",
          "text": [
            "おやつの時間です\n"
          ]
        }
      ]
    }
  ]
}