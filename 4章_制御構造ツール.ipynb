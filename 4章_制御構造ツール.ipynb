{
  "nbformat": 4,
  "nbformat_minor": 0,
  "metadata": {
    "colab": {
      "provenance": [],
      "authorship_tag": "ABX9TyOX1gvz5XGGeKT2jMGJGQjw",
      "include_colab_link": true
    },
    "kernelspec": {
      "name": "python3",
      "display_name": "Python 3"
    },
    "language_info": {
      "name": "python"
    }
  },
  "cells": [
    {
      "cell_type": "markdown",
      "metadata": {
        "id": "view-in-github",
        "colab_type": "text"
      },
      "source": [
        "<a href=\"https://colab.research.google.com/github/4kang/sukiruUP-1/blob/main/4%E7%AB%A0_%E5%88%B6%E5%BE%A1%E6%A7%8B%E9%80%A0%E3%83%84%E3%83%BC%E3%83%AB.ipynb\" target=\"_parent\"><img src=\"https://colab.research.google.com/assets/colab-badge.svg\" alt=\"Open In Colab\"/></a>"
      ]
    },
    {
      "cell_type": "code",
      "execution_count": null,
      "metadata": {
        "colab": {
          "base_uri": "https://localhost:8080/"
        },
        "id": "8FZRCWMu193f",
        "outputId": "cd44c7ce-38f9-41b7-caa0-571aa9db264f"
      },
      "outputs": [
        {
          "name": "stdout",
          "output_type": "stream",
          "text": [
            "Please enter an integer: 45\n"
          ]
        }
      ],
      "source": [
        "# if,elif,else\n",
        "\n",
        "x = int(input(\"Please enter an integer: \")) #入力コード"
      ]
    },
    {
      "cell_type": "code",
      "source": [
        "if x < 0:\n",
        "    x = 0\n",
        "    print('Negative changed to zero')\n",
        "elif x == 0:\n",
        "    print('Zero')\n",
        "elif x == 1:\n",
        "    print('Single')\n",
        "else:\n",
        "    print('More')"
      ],
      "metadata": {
        "colab": {
          "base_uri": "https://localhost:8080/"
        },
        "id": "1mT74kGDKxgU",
        "outputId": "ee4800e1-bdd6-4181-a86e-77fbc67c1581"
      },
      "execution_count": null,
      "outputs": [
        {
          "output_type": "stream",
          "name": "stdout",
          "text": [
            "More\n"
          ]
        }
      ]
    },
    {
      "cell_type": "code",
      "source": [
        "score = 100\n",
        "\n",
        "if score == 100:\n",
        "  print(\"良い点数です\")\n",
        "elif score >= 50:\n",
        "  print('もう少し頑張りましょう')\n",
        "else:\n",
        "  print(\"ダメです\")"
      ],
      "metadata": {
        "colab": {
          "base_uri": "https://localhost:8080/"
        },
        "id": "TtWrfmKhBgna",
        "outputId": "3902e7d4-9d04-4331-cac1-97219ae0fe30"
      },
      "execution_count": null,
      "outputs": [
        {
          "output_type": "stream",
          "name": "stdout",
          "text": [
            "良い点数です\n"
          ]
        }
      ]
    },
    {
      "cell_type": "code",
      "source": [
        "print(\"123はアルファベットですか？\", \"123\".isalpha())\n",
        "print(\"abcはアルファベットですか？\", \"abc\".isalpha())"
      ],
      "metadata": {
        "colab": {
          "base_uri": "https://localhost:8080/"
        },
        "id": "3MUY6pzmUmO1",
        "outputId": "9c1de50f-f465-4bbe-f90c-6f8313abe3ee"
      },
      "execution_count": 6,
      "outputs": [
        {
          "output_type": "stream",
          "name": "stdout",
          "text": [
            "123はアルファベットですか？ False\n",
            "abcはアルファベットですか？ True\n"
          ]
        }
      ]
    },
    {
      "cell_type": "code",
      "source": [
        "a = 30\n",
        "\n",
        "if a % 15 == 0: #15の倍数なら\n",
        "  print(str(15))\n",
        "elif a % 3 == 0:\n",
        "  print(str(3))\n",
        "elif a % 5 == 0:\n",
        "  print(str(5))\n",
        "else:\n",
        "  pass"
      ],
      "metadata": {
        "colab": {
          "base_uri": "https://localhost:8080/"
        },
        "id": "7C6d0bavRHGX",
        "outputId": "65dabe86-6635-47cc-b2a5-c8da5f309960"
      },
      "execution_count": null,
      "outputs": [
        {
          "output_type": "stream",
          "name": "stdout",
          "text": [
            "15\n"
          ]
        }
      ]
    },
    {
      "cell_type": "code",
      "source": [
        "a = 10 #変数aに数値を設定する\n",
        "\n",
        "if a == 100: #aと100が等しいときtrueとして成立する\n",
        "    print(\"100点満点です\")\n",
        "else: #100と等しくない場合はfalseで返す\n",
        "    print(\"頑張りましょう\")"
      ],
      "metadata": {
        "colab": {
          "base_uri": "https://localhost:8080/"
        },
        "id": "YypKOgkbHXo9",
        "outputId": "8e04ee20-f5f7-485a-90d3-7413c3349af1"
      },
      "execution_count": 3,
      "outputs": [
        {
          "output_type": "stream",
          "name": "stdout",
          "text": [
            "頑張りましょう\n"
          ]
        }
      ]
    },
    {
      "cell_type": "code",
      "source": [
        "string = input(\"文字を入力してください：\")"
      ],
      "metadata": {
        "colab": {
          "base_uri": "https://localhost:8080/"
        },
        "id": "HgBjgkC7TK7T",
        "outputId": "9bf86249-9a67-45cf-dd75-8f8f6f549d37"
      },
      "execution_count": 4,
      "outputs": [
        {
          "name": "stdout",
          "output_type": "stream",
          "text": [
            "文字を入力してください：333\n"
          ]
        }
      ]
    },
    {
      "cell_type": "code",
      "source": [
        "if string.isdecimal(): #isdecimal()は文字列が数字ならtrue、数字以外の文字ならfalseで返す\n",
        "     print(string, \"は数字です\")\n",
        "else:\n",
        "    print(string, \"は数字ではありません\")"
      ],
      "metadata": {
        "colab": {
          "base_uri": "https://localhost:8080/"
        },
        "id": "zCWDOHl4TTEs",
        "outputId": "88336dd6-4737-4d2c-9ee4-9303c0d7a45d"
      },
      "execution_count": 5,
      "outputs": [
        {
          "output_type": "stream",
          "name": "stdout",
          "text": [
            "333 は数字です\n"
          ]
        }
      ]
    },
    {
      "cell_type": "code",
      "source": [
        "a = 10\n",
        "if a > 10:\n",
        "  a /= 2\n",
        "  print(a)\n",
        "else:\n",
        "  a += 1\n",
        "  print(a)"
      ],
      "metadata": {
        "colab": {
          "base_uri": "https://localhost:8080/"
        },
        "id": "bUCtnHQDSS1e",
        "outputId": "c29a273e-8a67-493c-e8a5-2b14efb645f9"
      },
      "execution_count": null,
      "outputs": [
        {
          "output_type": "stream",
          "name": "stdout",
          "text": [
            "11\n"
          ]
        }
      ]
    },
    {
      "cell_type": "code",
      "source": [
        "#比較演算子\n",
        "a = 80\n",
        "if a > 10:\n",
        "  print(\"OK\")"
      ],
      "metadata": {
        "colab": {
          "base_uri": "https://localhost:8080/"
        },
        "id": "_FB1ND_LDUmy",
        "outputId": "af96667a-19ee-4b83-ce6a-920952a6f943"
      },
      "execution_count": null,
      "outputs": [
        {
          "output_type": "stream",
          "name": "stdout",
          "text": [
            "OK\n"
          ]
        }
      ]
    },
    {
      "cell_type": "code",
      "source": [
        "#in演算子\n",
        "if \"a\" in [\"a\", \"b\", \"c\"] :\n",
        "  print(\"OK\")"
      ],
      "metadata": {
        "colab": {
          "base_uri": "https://localhost:8080/"
        },
        "id": "KR41tSuPD-Re",
        "outputId": "6b443a76-361a-4851-bf7d-69b7cb0bfea9"
      },
      "execution_count": null,
      "outputs": [
        {
          "output_type": "stream",
          "name": "stdout",
          "text": [
            "OK\n"
          ]
        }
      ]
    },
    {
      "cell_type": "code",
      "source": [
        "#論理演算子\n",
        "\n",
        "time = 14\n",
        "\n",
        "if time < 18 and time > 10:\n",
        "  print(\"就業時間です\")"
      ],
      "metadata": {
        "colab": {
          "base_uri": "https://localhost:8080/"
        },
        "id": "0BAS1xj5F0qQ",
        "outputId": "e394a818-9bda-4e5e-ae76-81e1b8ec559e"
      },
      "execution_count": null,
      "outputs": [
        {
          "output_type": "stream",
          "name": "stdout",
          "text": [
            "就業時間です\n"
          ]
        }
      ]
    },
    {
      "cell_type": "code",
      "source": [
        "# andの省略\n",
        "if 10 < time < 18:\n",
        "  print(\"就業時間です\")"
      ],
      "metadata": {
        "colab": {
          "base_uri": "https://localhost:8080/"
        },
        "id": "PZvUoqF0HL3j",
        "outputId": "e0968334-6d02-4394-9000-ef4c4c1a5447"
      },
      "execution_count": null,
      "outputs": [
        {
          "output_type": "stream",
          "name": "stdout",
          "text": [
            "就業時間です\n"
          ]
        }
      ]
    },
    {
      "cell_type": "code",
      "source": [
        "time = 15\n",
        "\n",
        "if time == 15 or time == 18:\n",
        "  print(\"おやつの時間です\")"
      ],
      "metadata": {
        "colab": {
          "base_uri": "https://localhost:8080/"
        },
        "id": "fi-rUOy6Gk7s",
        "outputId": "f912dea8-c9de-428f-c50c-04e7ee990fd0"
      },
      "execution_count": null,
      "outputs": [
        {
          "output_type": "stream",
          "name": "stdout",
          "text": [
            "おやつの時間です\n"
          ]
        }
      ]
    },
    {
      "cell_type": "code",
      "source": [
        "# not演算子\n",
        "\n",
        "a = 20 #aは20\n",
        "\n",
        "if not (a < 10): #a(20)は10より小さい(false→true)\n",
        "  print(\"乗車できます\")"
      ],
      "metadata": {
        "colab": {
          "base_uri": "https://localhost:8080/"
        },
        "id": "eWed4ObtViQt",
        "outputId": "4a291340-f3e3-4799-d400-e992b6ed89d5"
      },
      "execution_count": 7,
      "outputs": [
        {
          "output_type": "stream",
          "name": "stdout",
          "text": [
            "乗車できます\n"
          ]
        }
      ]
    },
    {
      "cell_type": "code",
      "source": [
        "#　for文\n",
        "words = [\"cat\", \"window\", \"defenestrate\"]\n",
        "\n",
        "# wordsリスト内にある文字列と文字列の数を表示させる\n",
        "for w in words:\n",
        "  print(w, len(w))"
      ],
      "metadata": {
        "colab": {
          "base_uri": "https://localhost:8080/"
        },
        "id": "IIU7SFetHfan",
        "outputId": "5c41f1b8-0e44-41f8-abbd-996731838aea"
      },
      "execution_count": null,
      "outputs": [
        {
          "output_type": "stream",
          "name": "stdout",
          "text": [
            "cat 3\n",
            "window 6\n",
            "defenestrate 12\n"
          ]
        }
      ]
    },
    {
      "cell_type": "code",
      "source": [
        "lenth = [\"xiao\", \"zhonli\", \"lumine\"]\n",
        "\n",
        "for g in lenth:\n",
        "  print(g)"
      ],
      "metadata": {
        "colab": {
          "base_uri": "https://localhost:8080/"
        },
        "id": "bcOykdZPIeVa",
        "outputId": "ed39f37f-3e8c-4e25-82ed-d6bb214130c7"
      },
      "execution_count": null,
      "outputs": [
        {
          "output_type": "stream",
          "name": "stdout",
          "text": [
            "xiao\n",
            "zhonli\n",
            "lumine\n"
          ]
        }
      ]
    },
    {
      "cell_type": "code",
      "source": [
        "#反復可能体(イテラブル)\n",
        "for s in \"Genshinimpact\":\n",
        "  print(s)"
      ],
      "metadata": {
        "colab": {
          "base_uri": "https://localhost:8080/"
        },
        "id": "vb2tjCw8TTXA",
        "outputId": "97d0c175-33a7-4a24-a025-72c664703f92"
      },
      "execution_count": null,
      "outputs": [
        {
          "output_type": "stream",
          "name": "stdout",
          "text": [
            "G\n",
            "e\n",
            "n\n",
            "s\n",
            "h\n",
            "i\n",
            "n\n",
            "i\n",
            "m\n",
            "p\n",
            "a\n",
            "c\n",
            "t\n"
          ]
        }
      ]
    },
    {
      "cell_type": "code",
      "source": [
        "# サンプルコレクションを作成する\n",
        "users = {\"Hans\": \"active\", \"Eleonore\": \"inactive\", \"啓太郎\": \"active\"}\n",
        "\n",
        "# 戦略: コピーを反復処理する\n",
        "for user, status in users.copy().items():\n",
        "  if status == \"inactive\":\n",
        "    del users[user]\n",
        "\n",
        "# 戦略: 新しいコレクションを作成する\n",
        "active_users = {}\n",
        "for user, status in users.items():\n",
        "  if status == \"active\":\n",
        "    active_users[user] = status"
      ],
      "metadata": {
        "id": "Ts0kQOWEKJll"
      },
      "execution_count": null,
      "outputs": []
    },
    {
      "cell_type": "code",
      "source": [
        "# range()　関数\n",
        "\n",
        "for i in range(5): #0～4まで出力\n",
        "  print(i)"
      ],
      "metadata": {
        "colab": {
          "base_uri": "https://localhost:8080/"
        },
        "id": "z8jbTQYkNCAJ",
        "outputId": "69df1c61-0580-48d5-acf2-21a9439f5528"
      },
      "execution_count": null,
      "outputs": [
        {
          "output_type": "stream",
          "name": "stdout",
          "text": [
            "0\n",
            "1\n",
            "2\n",
            "3\n",
            "4\n"
          ]
        }
      ]
    },
    {
      "cell_type": "code",
      "source": [
        "for g in range(12):\n",
        "  print(g)"
      ],
      "metadata": {
        "colab": {
          "base_uri": "https://localhost:8080/"
        },
        "id": "XoJIZdnlNUtI",
        "outputId": "16c119af-6059-4d92-f1f5-a027909e9deb"
      },
      "execution_count": null,
      "outputs": [
        {
          "output_type": "stream",
          "name": "stdout",
          "text": [
            "0\n",
            "1\n",
            "2\n",
            "3\n",
            "4\n",
            "5\n",
            "6\n",
            "7\n",
            "8\n",
            "9\n",
            "10\n",
            "11\n"
          ]
        }
      ]
    },
    {
      "cell_type": "code",
      "source": [
        "# range()の数値を指定\n",
        "list(range(5, 10))"
      ],
      "metadata": {
        "colab": {
          "base_uri": "https://localhost:8080/"
        },
        "id": "AFnvdX-xNb6Y",
        "outputId": "26ea27c4-cb5d-42ad-cd50-518e0ddf37f0"
      },
      "execution_count": null,
      "outputs": [
        {
          "output_type": "execute_result",
          "data": {
            "text/plain": [
              "[5, 6, 7, 8, 9]"
            ]
          },
          "metadata": {},
          "execution_count": 32
        }
      ]
    },
    {
      "cell_type": "code",
      "source": [
        "list(range(0, 10, 3))"
      ],
      "metadata": {
        "colab": {
          "base_uri": "https://localhost:8080/"
        },
        "id": "tWTkfO-yN3qr",
        "outputId": "c24a13e8-22be-4bb8-b43f-029434810676"
      },
      "execution_count": null,
      "outputs": [
        {
          "output_type": "execute_result",
          "data": {
            "text/plain": [
              "[0, 3, 6, 9]"
            ]
          },
          "metadata": {},
          "execution_count": 33
        }
      ]
    },
    {
      "cell_type": "code",
      "source": [
        "list(range(-10, -100, -30))"
      ],
      "metadata": {
        "colab": {
          "base_uri": "https://localhost:8080/"
        },
        "id": "Dqa7Buw7OETI",
        "outputId": "4a227ca3-a273-4848-e182-77b7a8f5c907"
      },
      "execution_count": null,
      "outputs": [
        {
          "output_type": "execute_result",
          "data": {
            "text/plain": [
              "[-10, -40, -70]"
            ]
          },
          "metadata": {},
          "execution_count": 34
        }
      ]
    },
    {
      "cell_type": "code",
      "source": [
        "# range()とlen()\n",
        "a = [\"Mary\", \"had\", \"a\", \"little\", \"lamb\"]\n",
        "\n",
        "for i in range(len(a)):\n",
        "  print(i, a[i])"
      ],
      "metadata": {
        "colab": {
          "base_uri": "https://localhost:8080/"
        },
        "id": "WDST09JGONMf",
        "outputId": "987a23d0-5268-40a7-ad69-7d9ad0ba0660"
      },
      "execution_count": null,
      "outputs": [
        {
          "output_type": "stream",
          "name": "stdout",
          "text": [
            "0 Mary\n",
            "1 had\n",
            "2 a\n",
            "3 little\n",
            "4 lamb\n"
          ]
        }
      ]
    },
    {
      "cell_type": "code",
      "source": [
        "arc = [\"クロノア\", \"ミネルヴァ\", \"ライザ\", \"リオセスリ\"]\n",
        "\n",
        "for f in range(len(arc)):\n",
        "  print(f, arc[f])"
      ],
      "metadata": {
        "colab": {
          "base_uri": "https://localhost:8080/"
        },
        "id": "Ig8D_BnVO6vH",
        "outputId": "668e0a54-6251-47c6-94ed-c77625fd601a"
      },
      "execution_count": null,
      "outputs": [
        {
          "output_type": "stream",
          "name": "stdout",
          "text": [
            "0 クロノア\n",
            "1 ミネルヴァ\n",
            "2 ライザ\n",
            "3 リオセスリ\n"
          ]
        }
      ]
    },
    {
      "cell_type": "code",
      "source": [
        "range(10)"
      ],
      "metadata": {
        "colab": {
          "base_uri": "https://localhost:8080/"
        },
        "id": "BkQfsCPhPnNk",
        "outputId": "0a293745-0524-4fc5-f52c-1d4ab0479849"
      },
      "execution_count": null,
      "outputs": [
        {
          "output_type": "execute_result",
          "data": {
            "text/plain": [
              "range(0, 10)"
            ]
          },
          "metadata": {},
          "execution_count": 38
        }
      ]
    },
    {
      "cell_type": "code",
      "source": [
        "sum(range(4)) #0 + 1 + 2 + 3"
      ],
      "metadata": {
        "colab": {
          "base_uri": "https://localhost:8080/"
        },
        "id": "NrDJF7lnPtxX",
        "outputId": "7fa6adc8-dc22-4eb9-bfae-af86346481d6"
      },
      "execution_count": null,
      "outputs": [
        {
          "output_type": "execute_result",
          "data": {
            "text/plain": [
              "6"
            ]
          },
          "metadata": {},
          "execution_count": 39
        }
      ]
    },
    {
      "cell_type": "code",
      "source": [
        "# break文\n",
        "for n in range(2, 10):\n",
        "  for x in range(2, n):\n",
        "    if n % x == 0:\n",
        "      print(n, 'equals', x, '*', n//x)\n",
        "      break\n",
        "  else:\n",
        "    print(n, 'is a prime number')"
      ],
      "metadata": {
        "colab": {
          "base_uri": "https://localhost:8080/"
        },
        "id": "x5ng1mrRP51c",
        "outputId": "7d797690-4532-446c-8daa-11e45f71fa05"
      },
      "execution_count": null,
      "outputs": [
        {
          "output_type": "stream",
          "name": "stdout",
          "text": [
            "2 is a prime number\n",
            "3 is a prime number\n",
            "4 equals 2 * 2\n",
            "5 is a prime number\n",
            "6 equals 2 * 3\n",
            "7 is a prime number\n",
            "8 equals 2 * 4\n",
            "9 equals 3 * 3\n"
          ]
        }
      ]
    },
    {
      "cell_type": "code",
      "source": [
        "for y in range(35):\n",
        "  if y == 15:\n",
        "    break\n",
        "  print(y)"
      ],
      "metadata": {
        "colab": {
          "base_uri": "https://localhost:8080/"
        },
        "id": "lZrzkeJrTBVX",
        "outputId": "152ea588-d1a7-46be-ceb8-63a352602d90"
      },
      "execution_count": null,
      "outputs": [
        {
          "output_type": "stream",
          "name": "stdout",
          "text": [
            "0\n",
            "1\n",
            "2\n",
            "3\n",
            "4\n",
            "5\n",
            "6\n",
            "7\n",
            "8\n",
            "9\n",
            "10\n",
            "11\n",
            "12\n",
            "13\n",
            "14\n"
          ]
        }
      ]
    },
    {
      "cell_type": "code",
      "source": [
        "# while文\n",
        "\n",
        "answer = \"\" #初期値として\"\"を設定する\n",
        "\n",
        "while answer != \"3825\":\n",
        "  # 数字を入力する\n",
        "    answer = input(\"番号を入力してください：\")\n",
        "    print(answer, \"と入力されました\")\n",
        "\n",
        "print(\"扉があいた\")"
      ],
      "metadata": {
        "colab": {
          "base_uri": "https://localhost:8080/"
        },
        "id": "Xsqod5-DF09G",
        "outputId": "759cfa30-8411-4d45-fd07-a6e8f19e4214"
      },
      "execution_count": 12,
      "outputs": [
        {
          "output_type": "stream",
          "name": "stdout",
          "text": [
            "番号を入力してください：3825\n",
            "3825 と入力されました\n",
            "番号が違うようだ\n",
            "扉があいた\n"
          ]
        }
      ]
    },
    {
      "cell_type": "code",
      "source": [
        "con = 1 #現在、何回目かを記録する変数\n",
        "\n",
        "while con <= 5: #conの値が5以下なら繰り返す\n",
        "    text = input(\"数字を入力してください：\")\n",
        "    number = int(text) #入力した数値を文字列化\n",
        "    print(con, \"回目：\", number * number) #入力した数値の2乗を表示\n",
        "    con = con + 1 # 1を足す\n",
        "\n",
        "print(\"終了しました\")"
      ],
      "metadata": {
        "colab": {
          "base_uri": "https://localhost:8080/"
        },
        "id": "-s_6nPNUc6Vg",
        "outputId": "51893d3a-7937-40fe-c8bd-f442fd8b3ec7"
      },
      "execution_count": 13,
      "outputs": [
        {
          "output_type": "stream",
          "name": "stdout",
          "text": [
            "数字を入力してください：１\n",
            "1 回目： 1\n",
            "数字を入力してください：１０\n",
            "2 回目： 100\n",
            "数字を入力してください：１２８\n",
            "3 回目： 16384\n",
            "数字を入力してください：２５６\n",
            "4 回目： 65536\n",
            "数字を入力してください：５１２\n",
            "5 回目： 262144\n",
            "終了しました\n"
          ]
        }
      ]
    }
  ]
}