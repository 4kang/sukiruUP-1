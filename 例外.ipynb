{
  "nbformat": 4,
  "nbformat_minor": 0,
  "metadata": {
    "colab": {
      "provenance": [],
      "authorship_tag": "ABX9TyPUYOpw4S57nw4kxN9OtvoN",
      "include_colab_link": true
    },
    "kernelspec": {
      "name": "python3",
      "display_name": "Python 3"
    },
    "language_info": {
      "name": "python"
    }
  },
  "cells": [
    {
      "cell_type": "markdown",
      "metadata": {
        "id": "view-in-github",
        "colab_type": "text"
      },
      "source": [
        "<a href=\"https://colab.research.google.com/github/4kang/sukiruUP-1/blob/main/%E4%BE%8B%E5%A4%96.ipynb\" target=\"_parent\"><img src=\"https://colab.research.google.com/assets/colab-badge.svg\" alt=\"Open In Colab\"/></a>"
      ]
    },
    {
      "cell_type": "markdown",
      "source": [
        "#例外の処理"
      ],
      "metadata": {
        "id": "5HOuPHjqkrR5"
      }
    },
    {
      "cell_type": "code",
      "source": [
        "while True:\n",
        "    try:\n",
        "        x = int(input(\"Please enter a number: \"))\n",
        "        break\n",
        "    except ValueError:\n",
        "        print(\"Oops!  That was no valid number.  Try again...\")\n"
      ],
      "metadata": {
        "colab": {
          "base_uri": "https://localhost:8080/"
        },
        "id": "kUoAiXTJksY1",
        "outputId": "e3a82d54-3746-4823-ae33-f6ef48d08c8c"
      },
      "execution_count": 2,
      "outputs": [
        {
          "name": "stdout",
          "output_type": "stream",
          "text": [
            "Please enter a number: g\n",
            "Oops!  That was no valid number.  Try again...\n",
            "Please enter a number: 7\n"
          ]
        }
      ]
    },
    {
      "cell_type": "code",
      "source": [
        "while True:\n",
        "  try:\n",
        "    x = int(input(\"数字を入力してください：\"))\n",
        "    break\n",
        "  except ValueError:\n",
        "    print(\"なんと！これらは数字ではありません、再度試してください…\")"
      ],
      "metadata": {
        "colab": {
          "base_uri": "https://localhost:8080/"
        },
        "id": "AnQaEcA39sfT",
        "outputId": "4454bbec-2988-4c01-e3b8-145f75ffc7f8"
      },
      "execution_count": 5,
      "outputs": [
        {
          "name": "stdout",
          "output_type": "stream",
          "text": [
            "数字を入力してください：3\n"
          ]
        }
      ]
    },
    {
      "cell_type": "code",
      "source": [
        "class B(Exception):\n",
        "    pass\n",
        "\n",
        "class C(B):\n",
        "    pass\n",
        "\n",
        "class D(C):\n",
        "    pass\n",
        "\n",
        "for cls in [B, C, D]:\n",
        "    try:\n",
        "        raise cls()\n",
        "    except D:\n",
        "        print(\"D\")\n",
        "    except C:\n",
        "        print(\"C\")\n",
        "    except B:\n",
        "        print(\"B\")"
      ],
      "metadata": {
        "colab": {
          "base_uri": "https://localhost:8080/"
        },
        "id": "wWUkZKS6D4Xt",
        "outputId": "f98b327f-3896-4d8e-efd6-c4597a105acd"
      },
      "execution_count": 6,
      "outputs": [
        {
          "output_type": "stream",
          "name": "stdout",
          "text": [
            "B\n",
            "C\n",
            "D\n"
          ]
        }
      ]
    },
    {
      "cell_type": "code",
      "source": [
        "val1 = (1,2,3,5)\n",
        "val2 = (1,2,6)\n",
        "\n",
        "print(val1<val2)"
      ],
      "metadata": {
        "colab": {
          "base_uri": "https://localhost:8080/"
        },
        "id": "NaS6K-zBxZSN",
        "outputId": "b97b3454-3167-460a-956c-e1519f24f90b"
      },
      "execution_count": 9,
      "outputs": [
        {
          "output_type": "stream",
          "name": "stdout",
          "text": [
            "True\n"
          ]
        }
      ]
    }
  ]
}