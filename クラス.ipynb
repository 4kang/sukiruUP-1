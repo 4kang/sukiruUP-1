{
  "nbformat": 4,
  "nbformat_minor": 0,
  "metadata": {
    "colab": {
      "provenance": [],
      "authorship_tag": "ABX9TyOqYeQ3YFGugDX8xUtmH+Yt",
      "include_colab_link": true
    },
    "kernelspec": {
      "name": "python3",
      "display_name": "Python 3"
    },
    "language_info": {
      "name": "python"
    }
  },
  "cells": [
    {
      "cell_type": "markdown",
      "metadata": {
        "id": "view-in-github",
        "colab_type": "text"
      },
      "source": [
        "<a href=\"https://colab.research.google.com/github/4kang/sukiruUP-1/blob/main/%E3%82%AF%E3%83%A9%E3%82%B9.ipynb\" target=\"_parent\"><img src=\"https://colab.research.google.com/assets/colab-badge.svg\" alt=\"Open In Colab\"/></a>"
      ]
    },
    {
      "cell_type": "markdown",
      "source": [
        "#スコープ"
      ],
      "metadata": {
        "id": "05RfHyXICtNg"
      }
    },
    {
      "cell_type": "code",
      "source": [
        "#ビルトインスコープ\n",
        "\n",
        "#グローバルスコープ\n",
        "x0 = 0\n",
        "x5 = 5\n",
        "#関数xxx1、xxx2、xxx3はそれぞれ入れ子構造(ネスト)になっている\n",
        "#ローカルスコープ1\n",
        "def xxx1():\n",
        "  x1 = 1\n",
        "  x5 = 5\n",
        "  #ローカルスコープ2\n",
        "  def xxx2():\n",
        "    x1 = 7\n",
        "    x2 = 2\n",
        "    #ローカルスコープ3\n",
        "    def xxx3():\n",
        "      x3 = 3\n",
        "      yyy1() #関数xxx3のなかで実行される\n",
        "    xxx3()\n",
        "  xxx2()\n",
        "\n",
        "#変数x0～5,x9,y1は、それぞれのスコープが様々な形で重なるように配置\n",
        "#ローカルスコープ4\n",
        "def yyy1():\n",
        "  y1 = 1\n",
        "#グローバルスコープ\n",
        "if __name__ == \"__main__\":\n",
        "  x9 = 9\n",
        "  xxx1()"
      ],
      "metadata": {
        "id": "yhdT_Y2_Cs4m"
      },
      "execution_count": 5,
      "outputs": []
    }
  ]
}