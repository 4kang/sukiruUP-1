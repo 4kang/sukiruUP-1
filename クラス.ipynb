{
  "nbformat": 4,
  "nbformat_minor": 0,
  "metadata": {
    "colab": {
      "provenance": [],
      "authorship_tag": "ABX9TyNCQuXYQaZExKjwYu7jv50A",
      "include_colab_link": true
    },
    "kernelspec": {
      "name": "python3",
      "display_name": "Python 3"
    },
    "language_info": {
      "name": "python"
    }
  },
  "cells": [
    {
      "cell_type": "markdown",
      "metadata": {
        "id": "view-in-github",
        "colab_type": "text"
      },
      "source": [
        "<a href=\"https://colab.research.google.com/github/4kang/sukiruUP-1/blob/main/%E3%82%AF%E3%83%A9%E3%82%B9.ipynb\" target=\"_parent\"><img src=\"https://colab.research.google.com/assets/colab-badge.svg\" alt=\"Open In Colab\"/></a>"
      ]
    },
    {
      "cell_type": "markdown",
      "source": [
        "#スコープ"
      ],
      "metadata": {
        "id": "05RfHyXICtNg"
      }
    },
    {
      "cell_type": "code",
      "source": [
        "#ビルトインスコープ\n",
        "\n",
        "#グローバルスコープ\n",
        "x0 = 0\n",
        "x5 = 5\n",
        "#関数xxx1、xxx2、xxx3はそれぞれ入れ子構造(ネスト)になっている\n",
        "#ローカルスコープ1\n",
        "def xxx1():\n",
        "  x1 = 1\n",
        "  x5 = 5\n",
        "  #ローカルスコープ2\n",
        "  def xxx2():\n",
        "    x1 = 7\n",
        "    x2 = 2\n",
        "    #ローカルスコープ3\n",
        "    def xxx3():\n",
        "      x3 = 3\n",
        "      yyy1() #関数xxx3のなかで実行される\n",
        "    xxx3()\n",
        "  xxx2()\n",
        "\n",
        "#変数x0～5,x9,y1は、それぞれのスコープが様々な形で重なるように配置\n",
        "#ローカルスコープ4\n",
        "def yyy1():\n",
        "  y1 = 1\n",
        "#グローバルスコープ\n",
        "if __name__ == \"__main__\":\n",
        "  x9 = 9\n",
        "  xxx1()"
      ],
      "metadata": {
        "id": "yhdT_Y2_Cs4m"
      },
      "execution_count": null,
      "outputs": []
    },
    {
      "cell_type": "code",
      "source": [
        "def yyy():\n",
        "  '''yyy()のローカル変数の値がxxx()に影響を与える'''\n",
        "  def xxx():\n",
        "    print(\"a =\", a)\n",
        "  a = 10\n",
        "  xxx()\n",
        "\n",
        "a = 1 #1ではなく１０が出力される\n",
        "yyy()"
      ],
      "metadata": {
        "colab": {
          "base_uri": "https://localhost:8080/"
        },
        "id": "McTq0FkIx56Q",
        "outputId": "84f3a76d-2f21-4e84-eb3b-78b5f5c3b844"
      },
      "execution_count": 1,
      "outputs": [
        {
          "output_type": "stream",
          "name": "stdout",
          "text": [
            "a = 10\n"
          ]
        }
      ]
    },
    {
      "cell_type": "code",
      "source": [
        "#互いに入れ子構造になっていない\n",
        "def xxx():\n",
        "  print(\"a =\", a)\n",
        "\n",
        "def yyy():\n",
        "  a = 10\n",
        "  xxx()\n",
        "\n",
        "a = 1\n",
        "yyy()"
      ],
      "metadata": {
        "colab": {
          "base_uri": "https://localhost:8080/"
        },
        "id": "byllzWEsyakt",
        "outputId": "a3ffaec3-7b09-4e65-8f65-e25697aa82d2"
      },
      "execution_count": 2,
      "outputs": [
        {
          "output_type": "stream",
          "name": "stdout",
          "text": [
            "a = 1\n"
          ]
        }
      ]
    },
    {
      "cell_type": "markdown",
      "source": [
        "#return"
      ],
      "metadata": {
        "id": "iqqYbtt1xRvO"
      }
    },
    {
      "cell_type": "code",
      "source": [
        "tmp=[0]\n",
        "def xxx1():\n",
        "    print('xxx1-start')\n",
        "    if tmp[0] == 1:\n",
        "        print('return発動')\n",
        "        return\n",
        "    def xxx2():\n",
        "        print('xxx2-start')\n",
        "        tmp[0] = 1\n",
        "        xxx1()\n",
        "        print('xxx2-end')\n",
        "    xxx2()\n",
        "    print('xxx1-end')\n",
        "xxx1()\n",
        "print('end')"
      ],
      "metadata": {
        "colab": {
          "base_uri": "https://localhost:8080/"
        },
        "id": "gULa4nlfxUTO",
        "outputId": "715effa9-89f0-4aee-a748-70d11b4c0000"
      },
      "execution_count": 4,
      "outputs": [
        {
          "output_type": "stream",
          "name": "stdout",
          "text": [
            "xxx1-start\n",
            "xxx2-start\n",
            "xxx1-start\n",
            "return発動\n",
            "xxx2-end\n",
            "xxx1-end\n",
            "end\n"
          ]
        }
      ]
    },
    {
      "cell_type": "code",
      "source": [
        "temp = [0]\n",
        "def xxx1():\n",
        "    print('xxx_1番目')\n",
        "    if temp[0] == 1:\n",
        "        print('return_1番目')\n",
        "        return\n",
        "    def xxx2():\n",
        "        print('xxx_2番目')\n",
        "        if temp[0] == 1:\n",
        "           print('return_2番目')\n",
        "           return\n",
        "        def xxx3():\n",
        "            print('xxx_3番目')\n",
        "            if temp[0] == 0:\n",
        "                temp[0] = 1\n",
        "                print('temp = 1')\n",
        "                xxx1()\n",
        "            yyy1()\n",
        "            print('xxx_3番目_end')\n",
        "        xxx3()\n",
        "    xxx2()\n",
        "\n",
        "def yyy1():\n",
        "  print('yyy1')\n",
        "\n",
        "if __name__ == \"__main__\":\n",
        "  xxx1()"
      ],
      "metadata": {
        "colab": {
          "base_uri": "https://localhost:8080/"
        },
        "id": "rYt7n3E784LJ",
        "outputId": "d89895a3-98fb-4c72-971b-1426b53fe63e"
      },
      "execution_count": 5,
      "outputs": [
        {
          "output_type": "stream",
          "name": "stdout",
          "text": [
            "xxx_1番目\n",
            "xxx_2番目\n",
            "xxx_3番目\n",
            "temp = 1\n",
            "xxx_1番目\n",
            "return_1番目\n",
            "yyy1\n",
            "xxx_3番目_end\n"
          ]
        }
      ]
    }
  ]
}