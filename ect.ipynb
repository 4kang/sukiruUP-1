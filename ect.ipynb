{
  "nbformat": 4,
  "nbformat_minor": 0,
  "metadata": {
    "colab": {
      "provenance": [],
      "authorship_tag": "ABX9TyPS4E1MfaJRfGOU/QxYRJPZ",
      "include_colab_link": true
    },
    "kernelspec": {
      "name": "python3",
      "display_name": "Python 3"
    },
    "language_info": {
      "name": "python"
    }
  },
  "cells": [
    {
      "cell_type": "markdown",
      "metadata": {
        "id": "view-in-github",
        "colab_type": "text"
      },
      "source": [
        "<a href=\"https://colab.research.google.com/github/4kang/sukiruUP-1/blob/main/ect.ipynb\" target=\"_parent\"><img src=\"https://colab.research.google.com/assets/colab-badge.svg\" alt=\"Open In Colab\"/></a>"
      ]
    },
    {
      "cell_type": "markdown",
      "source": [
        "#集合"
      ],
      "metadata": {
        "id": "AmVTC9Ye5Ykr"
      }
    },
    {
      "cell_type": "code",
      "source": [
        "#一般的な集合\n",
        "shugo = {\"Sapporo\", \"Tokyo\", \"Osaka\", \"Okinawa\", \"Nagoya\", \"Chiba\"}\n",
        "print(shugo)"
      ],
      "metadata": {
        "colab": {
          "base_uri": "https://localhost:8080/"
        },
        "id": "Og5xdpE_5aXq",
        "outputId": "876ab1f2-3494-4374-8ca7-c96584d42511"
      },
      "execution_count": 8,
      "outputs": [
        {
          "output_type": "stream",
          "name": "stdout",
          "text": [
            "{'Osaka', 'Okinawa', 'Nagoya', 'Sapporo', 'Tokyo', 'Chiba'}\n"
          ]
        }
      ]
    },
    {
      "cell_type": "code",
      "source": [
        "#重複がある集合\n",
        "shugo = {\"Sapporo\", \"Tokyo\", \"Osaka\", \"Okinawa\", \"Nagoya\", \"Chiba\", \"Osaka\"}\n",
        "shugo"
      ],
      "metadata": {
        "colab": {
          "base_uri": "https://localhost:8080/"
        },
        "id": "5nZEyY8k7i3H",
        "outputId": "b3f97d66-a362-4102-dc29-cce4a32054c6"
      },
      "execution_count": 12,
      "outputs": [
        {
          "output_type": "execute_result",
          "data": {
            "text/plain": [
              "{'Chiba', 'Nagoya', 'Okinawa', 'Osaka', 'Sapporo', 'Tokyo'}"
            ]
          },
          "metadata": {},
          "execution_count": 12
        }
      ]
    },
    {
      "cell_type": "code",
      "source": [
        "set_a = set(\"ABCDEFGHI\")\n",
        "set_a"
      ],
      "metadata": {
        "colab": {
          "base_uri": "https://localhost:8080/"
        },
        "id": "OZ1-_4RG7wGg",
        "outputId": "f1cb0261-7d04-4b1c-e92a-f20d72430149"
      },
      "execution_count": 11,
      "outputs": [
        {
          "output_type": "execute_result",
          "data": {
            "text/plain": [
              "{'A', 'B', 'C', 'D', 'E', 'F', 'G', 'H', 'I'}"
            ]
          },
          "metadata": {},
          "execution_count": 11
        }
      ]
    },
    {
      "cell_type": "code",
      "source": [
        "#add()\n",
        "set_a.add(\"J\")\n",
        "set_a"
      ],
      "metadata": {
        "colab": {
          "base_uri": "https://localhost:8080/"
        },
        "id": "VKfniesQ8YLj",
        "outputId": "2d8058d5-f21c-4793-8cb0-1d4c4fa334e2"
      },
      "execution_count": 14,
      "outputs": [
        {
          "output_type": "execute_result",
          "data": {
            "text/plain": [
              "{'A', 'B', 'C', 'D', 'E', 'F', 'G', 'H', 'I', 'J'}"
            ]
          },
          "metadata": {},
          "execution_count": 14
        }
      ]
    },
    {
      "cell_type": "markdown",
      "source": [
        "#集合を使った演算"
      ],
      "metadata": {
        "id": "fJY03O4F02gG"
      }
    },
    {
      "cell_type": "code",
      "source": [
        "A = set(\"ABCDEF\")\n",
        "B = set(\"DEFGHI\")"
      ],
      "metadata": {
        "id": "2606sj0U0xBr"
      },
      "execution_count": 1,
      "outputs": []
    },
    {
      "cell_type": "code",
      "source": [
        "# -演算子\n",
        "A - B"
      ],
      "metadata": {
        "colab": {
          "base_uri": "https://localhost:8080/"
        },
        "id": "4KO6gvGn1ILW",
        "outputId": "59e0f882-9ed0-4abd-fff6-c4e01cf4973b"
      },
      "execution_count": 2,
      "outputs": [
        {
          "output_type": "execute_result",
          "data": {
            "text/plain": [
              "{'A', 'B', 'C'}"
            ]
          },
          "metadata": {},
          "execution_count": 2
        }
      ]
    },
    {
      "cell_type": "code",
      "source": [
        "B - A"
      ],
      "metadata": {
        "colab": {
          "base_uri": "https://localhost:8080/"
        },
        "id": "7b80644w1LMn",
        "outputId": "51b3bc51-7161-4519-8514-1c6eec400d31"
      },
      "execution_count": 3,
      "outputs": [
        {
          "output_type": "execute_result",
          "data": {
            "text/plain": [
              "{'G', 'H', 'I'}"
            ]
          },
          "metadata": {},
          "execution_count": 3
        }
      ]
    },
    {
      "cell_type": "code",
      "source": [
        "# |演算子\n",
        "A | B"
      ],
      "metadata": {
        "colab": {
          "base_uri": "https://localhost:8080/"
        },
        "id": "nhXf2AcV1vS4",
        "outputId": "7f96e0ff-2553-4009-dab9-df096a302ab8"
      },
      "execution_count": 4,
      "outputs": [
        {
          "output_type": "execute_result",
          "data": {
            "text/plain": [
              "{'A', 'B', 'C', 'D', 'E', 'F', 'G', 'H', 'I'}"
            ]
          },
          "metadata": {},
          "execution_count": 4
        }
      ]
    },
    {
      "cell_type": "code",
      "source": [
        "# &演算子\n",
        "A & B"
      ],
      "metadata": {
        "colab": {
          "base_uri": "https://localhost:8080/"
        },
        "id": "CDBc6OYb2Fn8",
        "outputId": "1fc562ec-d0ce-4568-9504-791d2d893381"
      },
      "execution_count": 5,
      "outputs": [
        {
          "output_type": "execute_result",
          "data": {
            "text/plain": [
              "{'D', 'E', 'F'}"
            ]
          },
          "metadata": {},
          "execution_count": 5
        }
      ]
    },
    {
      "cell_type": "code",
      "source": [
        "# ^演算子\n",
        "A ^ B"
      ],
      "metadata": {
        "colab": {
          "base_uri": "https://localhost:8080/"
        },
        "id": "HQxDqlFD3wcX",
        "outputId": "32b41a65-3b9b-4f75-cba4-0b3d1ec93acc"
      },
      "execution_count": 6,
      "outputs": [
        {
          "output_type": "execute_result",
          "data": {
            "text/plain": [
              "{'A', 'B', 'C', 'G', 'H', 'I'}"
            ]
          },
          "metadata": {},
          "execution_count": 6
        }
      ]
    },
    {
      "cell_type": "code",
      "source": [
        "#==演算子\n",
        "A = set(\"ABCDEF\")\n",
        "B = set(\"ABCDEF\")\n",
        "C = set(\"ABC\")\n",
        "\n",
        "print(A == B)\n",
        "print(A == C)"
      ],
      "metadata": {
        "colab": {
          "base_uri": "https://localhost:8080/"
        },
        "id": "mpYhMfrv3_oy",
        "outputId": "289bfe15-cc04-477c-adbf-6b5e20099ece"
      },
      "execution_count": 7,
      "outputs": [
        {
          "output_type": "stream",
          "name": "stdout",
          "text": [
            "True\n",
            "False\n"
          ]
        }
      ]
    }
  ]
}