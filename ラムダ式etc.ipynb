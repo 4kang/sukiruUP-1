{
  "nbformat": 4,
  "nbformat_minor": 0,
  "metadata": {
    "colab": {
      "provenance": [],
      "authorship_tag": "ABX9TyOTVRXgOm0nVIUhBoQIREe7",
      "include_colab_link": true
    },
    "kernelspec": {
      "name": "python3",
      "display_name": "Python 3"
    },
    "language_info": {
      "name": "python"
    }
  },
  "cells": [
    {
      "cell_type": "markdown",
      "metadata": {
        "id": "view-in-github",
        "colab_type": "text"
      },
      "source": [
        "<a href=\"https://colab.research.google.com/github/4kang/sukiruUP-1/blob/main/%E3%83%A9%E3%83%A0%E3%83%80%E5%BC%8Fetc.ipynb\" target=\"_parent\"><img src=\"https://colab.research.google.com/assets/colab-badge.svg\" alt=\"Open In Colab\"/></a>"
      ]
    },
    {
      "cell_type": "markdown",
      "source": [
        "#lamba(ラムダ)式"
      ],
      "metadata": {
        "id": "DX-K60jJZBPu"
      }
    },
    {
      "cell_type": "code",
      "execution_count": 2,
      "metadata": {
        "id": "rbebi8654pAV",
        "colab": {
          "base_uri": "https://localhost:8080/"
        },
        "outputId": "2491b948-19ad-4370-e325-f7074d189ca4"
      },
      "outputs": [
        {
          "output_type": "stream",
          "name": "stdout",
          "text": [
            "100\n"
          ]
        }
      ],
      "source": [
        "a = lambda x: x ** 2\n",
        "\n",
        "print(a(10))"
      ]
    },
    {
      "cell_type": "code",
      "source": [
        "i_num_list = range(1, 11)\n",
        "\n",
        "'''1から10の数値のリスト(i_num_list)が与えられたとき、\n",
        "   No.1、No.2のように数字入り文字列のリストに変換した場合'''\n",
        "\n",
        "s_num_list = list(map(lambda x: \"No.\" + str(x), i_num_list))\n",
        "print(\"文字列リスト\", s_num_list)"
      ],
      "metadata": {
        "colab": {
          "base_uri": "https://localhost:8080/"
        },
        "id": "sL3M_J8kcAgE",
        "outputId": "2790673b-1458-47cb-cb87-a3c1c2762a57"
      },
      "execution_count": 3,
      "outputs": [
        {
          "output_type": "stream",
          "name": "stdout",
          "text": [
            "文字列リスト ['No.1', 'No.2', 'No.3', 'No.4', 'No.5', 'No.6', 'No.7', 'No.8', 'No.9', 'No.10']\n"
          ]
        }
      ]
    }
  ]
}