{
  "nbformat": 4,
  "nbformat_minor": 0,
  "metadata": {
    "colab": {
      "provenance": [],
      "authorship_tag": "ABX9TyOXgBB5nQcGpKiI2GA2zkmv",
      "include_colab_link": true
    },
    "kernelspec": {
      "name": "python3",
      "display_name": "Python 3"
    },
    "language_info": {
      "name": "python"
    }
  },
  "cells": [
    {
      "cell_type": "markdown",
      "metadata": {
        "id": "view-in-github",
        "colab_type": "text"
      },
      "source": [
        "<a href=\"https://colab.research.google.com/github/4kang/sukiruUP-1/blob/main/random.ipynb\" target=\"_parent\"><img src=\"https://colab.research.google.com/assets/colab-badge.svg\" alt=\"Open In Colab\"/></a>"
      ]
    },
    {
      "cell_type": "markdown",
      "source": [
        "#random.choice(s)"
      ],
      "metadata": {
        "id": "jlHS-f267j5A"
      }
    },
    {
      "cell_type": "code",
      "source": [
        "import random\n",
        "\n",
        "x = random.choice([\"a\",\"b\",\"c\"])\n",
        "print(\"リスト:\", x)\n",
        "x = random.choice((\"a\",\"b\",\"c\"))\n",
        "print(\"タプル:\", x)\n",
        "x = random.choice((\"abc\"))\n",
        "print(\"文字列:\", x)\n",
        "x = random.choice(range(10))\n",
        "print(\"rangeオブジェクト:\", x)"
      ],
      "metadata": {
        "colab": {
          "base_uri": "https://localhost:8080/"
        },
        "id": "irRugpZa7pvM",
        "outputId": "96a832b8-bea1-4dc8-c733-ba6aa5197a48"
      },
      "execution_count": 2,
      "outputs": [
        {
          "output_type": "stream",
          "name": "stdout",
          "text": [
            "リスト: b\n",
            "タプル: b\n",
            "文字列: c\n",
            "rangeオブジェクト: 7\n"
          ]
        }
      ]
    },
    {
      "cell_type": "markdown",
      "source": [
        "#random.choices(s, k = i)"
      ],
      "metadata": {
        "id": "62gi3X6m8zFb"
      }
    },
    {
      "cell_type": "code",
      "source": [
        "import random\n",
        "\n",
        "x = random.choices([\"a\",\"b\",\"c\"], k = 5)\n",
        "print(\"リスト:\", x)\n",
        "x = random.choices((\"a\",\"b\",\"c\"), k = 5)\n",
        "print(\"タプル:\", x)\n",
        "x = random.choices(\"abc\", k = 5)\n",
        "print(\"文字列\", x)\n",
        "x = random.choices(range(10), k = 5)\n",
        "print(\"rangeオブジェクト:\", x)"
      ],
      "metadata": {
        "colab": {
          "base_uri": "https://localhost:8080/"
        },
        "id": "YhLHrgMM84N8",
        "outputId": "778f21ef-164a-40f6-8351-e1cb8be7a09e"
      },
      "execution_count": 4,
      "outputs": [
        {
          "output_type": "stream",
          "name": "stdout",
          "text": [
            "リスト: ['a', 'b', 'b', 'b', 'a']\n",
            "タプル: ['b', 'a', 'b', 'a', 'c']\n",
            "文字列 ['b', 'b', 'c', 'a', 'a']\n",
            "rangeオブジェクト: [8, 1, 5, 4, 4]\n"
          ]
        }
      ]
    },
    {
      "cell_type": "markdown",
      "source": [
        "#random.sample(p, i)"
      ],
      "metadata": {
        "id": "bNQhpK4C-pIL"
      }
    },
    {
      "cell_type": "code",
      "source": [
        "import random\n",
        "\n",
        "x = random.sample([\"a\",\"b\",\"c\"], 2)\n",
        "print(\"リスト:\", x)\n",
        "x = random.sample(('a','b','c'), 2)\n",
        "print('タプル:', x)\n",
        "x = random.sample('abc', 2)\n",
        "print('文字列', x)\n",
        "x = random.sample(range(10), 2)\n",
        "print('rangeオブジェクト:', x)\n",
        "x = random.sample({'a','b','c'}, 2)\n",
        "print('集合:', x)"
      ],
      "metadata": {
        "colab": {
          "base_uri": "https://localhost:8080/"
        },
        "id": "zDZKK0L8--du",
        "outputId": "937dc4a8-94e5-4a96-b7ac-e45282fc8008"
      },
      "execution_count": 6,
      "outputs": [
        {
          "output_type": "stream",
          "name": "stdout",
          "text": [
            "リスト: ['a', 'c']\n",
            "タプル: ['b', 'a']\n",
            "文字列 ['b', 'a']\n",
            "rangeオブジェクト: [7, 1]\n",
            "集合: ['b', 'c']\n"
          ]
        },
        {
          "output_type": "stream",
          "name": "stderr",
          "text": [
            "<ipython-input-6-8e30c56cb6b7>:11: DeprecationWarning: Sampling from a set deprecated\n",
            "since Python 3.9 and will be removed in a subsequent version.\n",
            "  x = random.sample({'a','b','c'}, 2)\n"
          ]
        }
      ]
    },
    {
      "cell_type": "markdown",
      "source": [
        "#random.randrange()"
      ],
      "metadata": {
        "id": "WVo8tuzlHhlm"
      }
    },
    {
      "cell_type": "code",
      "source": [
        "random.randrange(10)"
      ],
      "metadata": {
        "colab": {
          "base_uri": "https://localhost:8080/"
        },
        "id": "bZhIvruGASx2",
        "outputId": "131ca9dc-a465-4c2e-ca1c-888a07a2b358"
      },
      "execution_count": 7,
      "outputs": [
        {
          "output_type": "execute_result",
          "data": {
            "text/plain": [
              "8"
            ]
          },
          "metadata": {},
          "execution_count": 7
        }
      ]
    },
    {
      "cell_type": "code",
      "source": [
        "random.randrange(2, 6)"
      ],
      "metadata": {
        "colab": {
          "base_uri": "https://localhost:8080/"
        },
        "id": "nWjjBvyjBqQG",
        "outputId": "0f434d19-26aa-4798-c9ff-5315ba52cc5c"
      },
      "execution_count": 8,
      "outputs": [
        {
          "output_type": "execute_result",
          "data": {
            "text/plain": [
              "4"
            ]
          },
          "metadata": {},
          "execution_count": 8
        }
      ]
    },
    {
      "cell_type": "code",
      "source": [
        "for i in range(10):\n",
        "  x = random.randrange(2,8,3)\n",
        "  print(x)"
      ],
      "metadata": {
        "colab": {
          "base_uri": "https://localhost:8080/"
        },
        "id": "q95HpAguGHFC",
        "outputId": "c1fafa7d-9e1a-45d2-9c74-5c334bcfb2b8"
      },
      "execution_count": 10,
      "outputs": [
        {
          "output_type": "stream",
          "name": "stdout",
          "text": [
            "5\n",
            "2\n",
            "5\n",
            "2\n",
            "2\n",
            "2\n",
            "2\n",
            "2\n",
            "2\n",
            "2\n"
          ]
        }
      ]
    },
    {
      "cell_type": "markdown",
      "source": [
        "#random.random()"
      ],
      "metadata": {
        "id": "FTkh0spRHmnm"
      }
    },
    {
      "cell_type": "code",
      "source": [
        "import random\n",
        "\n",
        "for i in range(10):\n",
        "  x = random.random()\n",
        "  print(x)"
      ],
      "metadata": {
        "colab": {
          "base_uri": "https://localhost:8080/"
        },
        "id": "WbORjWADG7mR",
        "outputId": "f3ee4ee8-4e54-45f6-ab86-69d23de7cb1d"
      },
      "execution_count": 11,
      "outputs": [
        {
          "output_type": "stream",
          "name": "stdout",
          "text": [
            "0.7147118944947933\n",
            "0.41148403500051367\n",
            "0.771667497851335\n",
            "0.13139356007260983\n",
            "0.0663561419573675\n",
            "0.296087113930545\n",
            "0.2741750180018654\n",
            "0.8274572198252388\n",
            "0.581777675961265\n",
            "0.6597078973778349\n"
          ]
        }
      ]
    },
    {
      "cell_type": "markdown",
      "source": [
        "#random.choices(s, weights = list, k = i)"
      ],
      "metadata": {
        "id": "tVcDegt4H3nU"
      }
    },
    {
      "cell_type": "code",
      "source": [],
      "metadata": {
        "id": "PpRvgO6kH5w5"
      },
      "execution_count": null,
      "outputs": []
    }
  ]
}