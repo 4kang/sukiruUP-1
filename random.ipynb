{
  "nbformat": 4,
  "nbformat_minor": 0,
  "metadata": {
    "colab": {
      "provenance": [],
      "authorship_tag": "ABX9TyNeIUWSH+WP5/Hnd7/fAg95",
      "include_colab_link": true
    },
    "kernelspec": {
      "name": "python3",
      "display_name": "Python 3"
    },
    "language_info": {
      "name": "python"
    }
  },
  "cells": [
    {
      "cell_type": "markdown",
      "metadata": {
        "id": "view-in-github",
        "colab_type": "text"
      },
      "source": [
        "<a href=\"https://colab.research.google.com/github/4kang/sukiruUP-1/blob/main/random.ipynb\" target=\"_parent\"><img src=\"https://colab.research.google.com/assets/colab-badge.svg\" alt=\"Open In Colab\"/></a>"
      ]
    },
    {
      "cell_type": "markdown",
      "source": [
        "#random.choice(s)"
      ],
      "metadata": {
        "id": "jlHS-f267j5A"
      }
    },
    {
      "cell_type": "code",
      "source": [
        "import random\n",
        "\n",
        "x = random.choice([\"a\",\"b\",\"c\"])\n",
        "print(\"リスト:\", x)\n",
        "x = random.choice((\"a\",\"b\",\"c\"))\n",
        "print(\"タプル:\", x)\n",
        "x = random.choice((\"abc\"))\n",
        "print(\"文字列:\", x)\n",
        "x = random.choice(range(10))\n",
        "print(\"rangeオブジェクト:\", x)"
      ],
      "metadata": {
        "colab": {
          "base_uri": "https://localhost:8080/"
        },
        "id": "irRugpZa7pvM",
        "outputId": "96a832b8-bea1-4dc8-c733-ba6aa5197a48"
      },
      "execution_count": 2,
      "outputs": [
        {
          "output_type": "stream",
          "name": "stdout",
          "text": [
            "リスト: b\n",
            "タプル: b\n",
            "文字列: c\n",
            "rangeオブジェクト: 7\n"
          ]
        }
      ]
    },
    {
      "cell_type": "markdown",
      "source": [
        "#random.choices(s, k = i)"
      ],
      "metadata": {
        "id": "62gi3X6m8zFb"
      }
    },
    {
      "cell_type": "code",
      "source": [
        "import random\n",
        "\n",
        "x = random.choices([\"a\",\"b\",\"c\"], k = 5)\n",
        "print(\"リスト:\", x)\n",
        "x = random.choices((\"a\",\"b\",\"c\"), k = 5)\n",
        "print(\"タプル:\", x)"
      ],
      "metadata": {
        "id": "YhLHrgMM84N8"
      },
      "execution_count": null,
      "outputs": []
    }
  ]
}