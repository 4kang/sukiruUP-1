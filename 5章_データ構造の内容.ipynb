{
  "nbformat": 4,
  "nbformat_minor": 0,
  "metadata": {
    "colab": {
      "provenance": [],
      "authorship_tag": "ABX9TyNb+ilfC0x6yj066qLSapVV",
      "include_colab_link": true
    },
    "kernelspec": {
      "name": "python3",
      "display_name": "Python 3"
    },
    "language_info": {
      "name": "python"
    }
  },
  "cells": [
    {
      "cell_type": "markdown",
      "metadata": {
        "id": "view-in-github",
        "colab_type": "text"
      },
      "source": [
        "<a href=\"https://colab.research.google.com/github/4kang/sukiruUP-1/blob/main/5%E7%AB%A0_%E3%83%87%E3%83%BC%E3%82%BF%E6%A7%8B%E9%80%A0%E3%81%AE%E5%86%85%E5%AE%B9.ipynb\" target=\"_parent\"><img src=\"https://colab.research.google.com/assets/colab-badge.svg\" alt=\"Open In Colab\"/></a>"
      ]
    },
    {
      "cell_type": "markdown",
      "source": [
        "#リストと添え字"
      ],
      "metadata": {
        "id": "EYDcMyW0-BOZ"
      }
    },
    {
      "cell_type": "code",
      "execution_count": null,
      "metadata": {
        "colab": {
          "base_uri": "https://localhost:8080/"
        },
        "id": "Ncpj1g2mbWk5",
        "outputId": "3ac37756-85ab-42aa-91e3-efe87aede29f"
      },
      "outputs": [
        {
          "output_type": "stream",
          "name": "stdout",
          "text": [
            "2\n"
          ]
        }
      ],
      "source": [
        "\n",
        "my_list = [0, 1, 2, 3, 4, 5, 6, 7, 8]\n",
        "print(my_list[2])"
      ]
    },
    {
      "cell_type": "code",
      "source": [
        "print(my_list[5])"
      ],
      "metadata": {
        "colab": {
          "base_uri": "https://localhost:8080/"
        },
        "id": "lU5pUYIacoKU",
        "outputId": "3694171b-2c9a-43e2-8c27-e7e83c61f3ab"
      },
      "execution_count": null,
      "outputs": [
        {
          "output_type": "stream",
          "name": "stdout",
          "text": [
            "5\n"
          ]
        }
      ]
    },
    {
      "cell_type": "code",
      "source": [
        "print(my_list[-1])"
      ],
      "metadata": {
        "colab": {
          "base_uri": "https://localhost:8080/"
        },
        "id": "fA02nQDYcaqy",
        "outputId": "dd9c0e5e-43be-4cfe-b265-3529cff3ab78"
      },
      "execution_count": null,
      "outputs": [
        {
          "output_type": "stream",
          "name": "stdout",
          "text": [
            "8\n"
          ]
        }
      ]
    },
    {
      "cell_type": "code",
      "source": [
        "print(my_list[-4])"
      ],
      "metadata": {
        "colab": {
          "base_uri": "https://localhost:8080/"
        },
        "id": "D_F7YS5_ciil",
        "outputId": "2eb2b0ab-5a35-4ab6-b434-eb8f07efa118"
      },
      "execution_count": null,
      "outputs": [
        {
          "output_type": "stream",
          "name": "stdout",
          "text": [
            "5\n"
          ]
        }
      ]
    },
    {
      "cell_type": "markdown",
      "source": [
        "#スライス"
      ],
      "metadata": {
        "id": "0m-4cPyj-9h4"
      }
    },
    {
      "cell_type": "code",
      "source": [
        "\n",
        "print(my_list[2:7]) #2(開始位置)：7(終了位置)(6で終わる)"
      ],
      "metadata": {
        "colab": {
          "base_uri": "https://localhost:8080/"
        },
        "id": "tl_ho-b-ctBu",
        "outputId": "2ca0adcf-f793-4875-ddaa-22c744fdc2a5"
      },
      "execution_count": null,
      "outputs": [
        {
          "output_type": "stream",
          "name": "stdout",
          "text": [
            "[2, 3, 4, 5, 6]\n"
          ]
        }
      ]
    },
    {
      "cell_type": "code",
      "source": [
        "print(my_list[2:7:2])"
      ],
      "metadata": {
        "colab": {
          "base_uri": "https://localhost:8080/"
        },
        "id": "iGxp9KMDdOro",
        "outputId": "d9fdceaf-8af7-4129-e9d7-c824ae4f0620"
      },
      "execution_count": null,
      "outputs": [
        {
          "output_type": "stream",
          "name": "stdout",
          "text": [
            "[2, 4, 6]\n"
          ]
        }
      ]
    },
    {
      "cell_type": "code",
      "source": [
        "print(my_list[2:7:3])"
      ],
      "metadata": {
        "colab": {
          "base_uri": "https://localhost:8080/"
        },
        "id": "dPSUv_aidY4h",
        "outputId": "0b10b8a4-cc5e-407b-c626-48697ebc0438"
      },
      "execution_count": null,
      "outputs": [
        {
          "output_type": "stream",
          "name": "stdout",
          "text": [
            "[2, 5]\n"
          ]
        }
      ]
    },
    {
      "cell_type": "markdown",
      "source": [
        "#逆順"
      ],
      "metadata": {
        "id": "NL28O46jAShe"
      }
    },
    {
      "cell_type": "code",
      "source": [
        "print(my_list[6:1:-1])"
      ],
      "metadata": {
        "colab": {
          "base_uri": "https://localhost:8080/"
        },
        "id": "Za79CTJdeAg-",
        "outputId": "08c53501-ae45-4109-ab56-253a71f083f4"
      },
      "execution_count": null,
      "outputs": [
        {
          "output_type": "stream",
          "name": "stdout",
          "text": [
            "[6, 5, 4, 3, 2]\n"
          ]
        }
      ]
    },
    {
      "cell_type": "markdown",
      "source": [
        "#reverse リストを逆順"
      ],
      "metadata": {
        "id": "hKSyE_3Kiusr"
      }
    },
    {
      "cell_type": "code",
      "source": [
        "gyaku = [1,4,9,16,25]\n",
        "\n",
        "gyaku.reverse()\n",
        "gyaku"
      ],
      "metadata": {
        "colab": {
          "base_uri": "https://localhost:8080/"
        },
        "id": "R-_Ui_ojifTt",
        "outputId": "bb333fec-bb5f-4732-e060-a1e19df5dc3c"
      },
      "execution_count": 2,
      "outputs": [
        {
          "output_type": "execute_result",
          "data": {
            "text/plain": [
              "[25, 16, 9, 4, 1]"
            ]
          },
          "metadata": {},
          "execution_count": 2
        }
      ]
    },
    {
      "cell_type": "markdown",
      "source": [
        "#リスト全体コピー"
      ],
      "metadata": {
        "id": "j0cfsg-XAWqu"
      }
    },
    {
      "cell_type": "code",
      "source": [
        "print(my_list[:])"
      ],
      "metadata": {
        "colab": {
          "base_uri": "https://localhost:8080/"
        },
        "id": "jRDuFbFeeqcw",
        "outputId": "86af73d5-2bbd-4a00-8b69-546da6d21003"
      },
      "execution_count": null,
      "outputs": [
        {
          "output_type": "stream",
          "name": "stdout",
          "text": [
            "[0, 1, 2, 3, 4, 5, 6, 7, 8]\n"
          ]
        }
      ]
    },
    {
      "cell_type": "code",
      "source": [
        "print(my_list[::-1])"
      ],
      "metadata": {
        "colab": {
          "base_uri": "https://localhost:8080/"
        },
        "id": "aiJIKkLXfEgD",
        "outputId": "da151941-7a16-4967-8fc1-517551798ab9"
      },
      "execution_count": null,
      "outputs": [
        {
          "output_type": "stream",
          "name": "stdout",
          "text": [
            "[8, 7, 6, 5, 4, 3, 2, 1, 0]\n"
          ]
        }
      ]
    },
    {
      "cell_type": "code",
      "source": [
        "print(my_list[:3])"
      ],
      "metadata": {
        "colab": {
          "base_uri": "https://localhost:8080/"
        },
        "id": "Jdq8BfBvfvtx",
        "outputId": "267d3989-b349-4767-8e39-463c95269dfe"
      },
      "execution_count": null,
      "outputs": [
        {
          "output_type": "stream",
          "name": "stdout",
          "text": [
            "[0, 1, 2]\n"
          ]
        }
      ]
    },
    {
      "cell_type": "code",
      "source": [
        "print(my_list[4:])"
      ],
      "metadata": {
        "colab": {
          "base_uri": "https://localhost:8080/"
        },
        "id": "wg7kVlD9f251",
        "outputId": "40f1f2dc-300c-4097-9a71-6935ede72253"
      },
      "execution_count": null,
      "outputs": [
        {
          "output_type": "stream",
          "name": "stdout",
          "text": [
            "[4, 5, 6, 7, 8]\n"
          ]
        }
      ]
    },
    {
      "cell_type": "code",
      "source": [
        "my_list[0] = -1\n",
        "print(my_list)"
      ],
      "metadata": {
        "colab": {
          "base_uri": "https://localhost:8080/"
        },
        "id": "Ux4g1istgBkU",
        "outputId": "1420175a-32e2-4429-f7e4-8d83f5deca90"
      },
      "execution_count": null,
      "outputs": [
        {
          "output_type": "stream",
          "name": "stdout",
          "text": [
            "[-1, 1, 2, 3, 4, 5, 6, 7, 8]\n"
          ]
        }
      ]
    },
    {
      "cell_type": "code",
      "source": [
        "my_list[2:4] = [102, 103]\n",
        "print(my_list)"
      ],
      "metadata": {
        "colab": {
          "base_uri": "https://localhost:8080/"
        },
        "id": "3tU1bcIShh-U",
        "outputId": "e07c2920-8f69-46cf-e0c7-e463de5b5e98"
      },
      "execution_count": null,
      "outputs": [
        {
          "output_type": "stream",
          "name": "stdout",
          "text": [
            "[-1, 1, 102, 103, 4, 5, 6, 7, 8]\n"
          ]
        }
      ]
    },
    {
      "cell_type": "code",
      "source": [
        "my_list[2:4] = [2, 3]\n",
        "print(my_list)"
      ],
      "metadata": {
        "colab": {
          "base_uri": "https://localhost:8080/"
        },
        "id": "mPZA0Q-PiL3b",
        "outputId": "65f736e8-d0e9-49e2-e75c-1ae51f3317c5"
      },
      "execution_count": null,
      "outputs": [
        {
          "output_type": "stream",
          "name": "stdout",
          "text": [
            "[-1, 1, 2, 3, 4, 5, 6, 7, 8]\n"
          ]
        }
      ]
    },
    {
      "cell_type": "code",
      "source": [
        "my_list = [0, 1, 2, 3, 4, 5, 6, 7, 8]\n",
        "my_list[2:6] = [101, 102]\n",
        "print(my_list)"
      ],
      "metadata": {
        "colab": {
          "base_uri": "https://localhost:8080/"
        },
        "id": "MGOp7GWDiVk4",
        "outputId": "d28fe1d6-5aa6-4bdd-d127-80964f193f7c"
      },
      "execution_count": null,
      "outputs": [
        {
          "output_type": "stream",
          "name": "stdout",
          "text": [
            "[0, 1, 101, 102, 6, 7, 8]\n"
          ]
        }
      ]
    },
    {
      "cell_type": "code",
      "source": [
        "my_list = [0, 1, 2, 3, 4, 5, 6, 7, 8]\n",
        "my_list[2:6] = []\n",
        "print(my_list)"
      ],
      "metadata": {
        "colab": {
          "base_uri": "https://localhost:8080/"
        },
        "id": "0RujlIfUjlA7",
        "outputId": "d9d85e95-1ca8-43e3-8417-d0040e50922b"
      },
      "execution_count": null,
      "outputs": [
        {
          "output_type": "stream",
          "name": "stdout",
          "text": [
            "[0, 1, 6, 7, 8]\n"
          ]
        }
      ]
    },
    {
      "cell_type": "markdown",
      "source": [
        "#内包表記"
      ],
      "metadata": {
        "id": "h49Dh9wc-mwu"
      }
    },
    {
      "cell_type": "code",
      "source": [
        "prime = [2,3,5,7,11,13]\n",
        "\n",
        "prime_sqare = [x**2 for x in prime]\n",
        "prime_sqare"
      ],
      "metadata": {
        "colab": {
          "base_uri": "https://localhost:8080/"
        },
        "id": "sDVFhptwjvWk",
        "outputId": "5db147f1-ec69-4bb5-e8c5-c590574b98a7"
      },
      "execution_count": 3,
      "outputs": [
        {
          "output_type": "execute_result",
          "data": {
            "text/plain": [
              "[4, 9, 25, 49, 121, 169]"
            ]
          },
          "metadata": {},
          "execution_count": 3
        }
      ]
    },
    {
      "cell_type": "code",
      "source": [
        "#for節ネスト\n",
        "mulplition = [i * j for i in range(1,3) for j in range(1,10)]\n",
        "mulplition"
      ],
      "metadata": {
        "colab": {
          "base_uri": "https://localhost:8080/"
        },
        "id": "q58NcGOQkumo",
        "outputId": "2fd620a3-0e6e-43e9-c98c-ac32fcdf9d1d"
      },
      "execution_count": 4,
      "outputs": [
        {
          "output_type": "execute_result",
          "data": {
            "text/plain": [
              "[1, 2, 3, 4, 5, 6, 7, 8, 9, 2, 4, 6, 8, 10, 12, 14, 16, 18]"
            ]
          },
          "metadata": {},
          "execution_count": 4
        }
      ]
    },
    {
      "cell_type": "markdown",
      "source": [
        "#append(要素の追加)"
      ],
      "metadata": {
        "id": "bSzKSH6C_Dq-"
      }
    },
    {
      "cell_type": "code",
      "source": [
        "tuika = []\n",
        "\n",
        "tuika.append(1)\n",
        "tuika.append(2)\n",
        "tuika.append(3)\n",
        "tuika.append(4)\n",
        "tuika.append(5)\n",
        "\n",
        "tuika"
      ],
      "metadata": {
        "colab": {
          "base_uri": "https://localhost:8080/"
        },
        "id": "KGWF1A42_GWf",
        "outputId": "54bd87b0-448e-402a-802a-e82645a9ce5f"
      },
      "execution_count": null,
      "outputs": [
        {
          "output_type": "execute_result",
          "data": {
            "text/plain": [
              "[1, 2, 3, 4, 5]"
            ]
          },
          "metadata": {},
          "execution_count": 2
        }
      ]
    },
    {
      "cell_type": "markdown",
      "source": [
        "#extend(リストの追加)"
      ],
      "metadata": {
        "id": "2GxjZC0egEeK"
      }
    },
    {
      "cell_type": "code",
      "source": [
        "sqare = [1,4,9,16,25]\n",
        "\n",
        "sqare2 = [36,49]\n",
        "sqare.extend(sqare2)\n",
        "\n",
        "sqare"
      ],
      "metadata": {
        "colab": {
          "base_uri": "https://localhost:8080/"
        },
        "id": "NgWE4OaDgL6k",
        "outputId": "693e4778-9c7f-46a9-f345-fade64630376"
      },
      "execution_count": 1,
      "outputs": [
        {
          "output_type": "execute_result",
          "data": {
            "text/plain": [
              "[1, 4, 9, 16, 25, 36, 49]"
            ]
          },
          "metadata": {},
          "execution_count": 1
        }
      ]
    },
    {
      "cell_type": "markdown",
      "source": [
        "#insert(指定位置への要素の挿入)"
      ],
      "metadata": {
        "id": "_cqJiGs2gmd1"
      }
    },
    {
      "cell_type": "code",
      "source": [
        "sqare.insert(2, 7)\n",
        "\n",
        "sqare"
      ],
      "metadata": {
        "colab": {
          "base_uri": "https://localhost:8080/"
        },
        "id": "5tHqPxq3gtz0",
        "outputId": "bc4251e8-e2d3-41cc-bce6-5e576042e27b"
      },
      "execution_count": 2,
      "outputs": [
        {
          "output_type": "execute_result",
          "data": {
            "text/plain": [
              "[1, 4, 7, 9, 16, 25, 36, 49]"
            ]
          },
          "metadata": {},
          "execution_count": 2
        }
      ]
    },
    {
      "cell_type": "markdown",
      "source": [
        "#remove(指定した値の要素の削除)"
      ],
      "metadata": {
        "id": "kmPYR1Hig7k-"
      }
    },
    {
      "cell_type": "code",
      "source": [
        "sqare.remove(7)\n",
        "\n",
        "sqare"
      ],
      "metadata": {
        "colab": {
          "base_uri": "https://localhost:8080/"
        },
        "id": "ajHQZUXahA_r",
        "outputId": "6bc8062a-b362-4a3c-8a93-5865488f3f79"
      },
      "execution_count": 3,
      "outputs": [
        {
          "output_type": "execute_result",
          "data": {
            "text/plain": [
              "[1, 4, 9, 16, 25, 36, 49]"
            ]
          },
          "metadata": {},
          "execution_count": 3
        }
      ]
    },
    {
      "cell_type": "markdown",
      "source": [
        "#pop(指定位置の要素の削除と取得)"
      ],
      "metadata": {
        "id": "344jc8sDhUx_"
      }
    },
    {
      "cell_type": "code",
      "source": [
        "sqare = [1,4,9,16,25,36,49]\n",
        "sqare"
      ],
      "metadata": {
        "colab": {
          "base_uri": "https://localhost:8080/"
        },
        "id": "QnHexinYilN-",
        "outputId": "cbd37b5d-20cf-4888-ba1c-7df47fdf93b6"
      },
      "execution_count": 21,
      "outputs": [
        {
          "output_type": "execute_result",
          "data": {
            "text/plain": [
              "[1, 4, 9, 16, 25, 36, 49]"
            ]
          },
          "metadata": {},
          "execution_count": 21
        }
      ]
    },
    {
      "cell_type": "code",
      "source": [
        "sqare.pop(1)\n",
        "\n",
        "sqare"
      ],
      "metadata": {
        "colab": {
          "base_uri": "https://localhost:8080/"
        },
        "id": "vHftOOYeiZUs",
        "outputId": "f6b83681-021f-413e-adc6-6d2955d52a44"
      },
      "execution_count": 22,
      "outputs": [
        {
          "output_type": "execute_result",
          "data": {
            "text/plain": [
              "[1, 9, 16, 25, 36, 49]"
            ]
          },
          "metadata": {},
          "execution_count": 22
        }
      ]
    },
    {
      "cell_type": "markdown",
      "source": [
        "#clear(全要素の削除)"
      ],
      "metadata": {
        "id": "7knoDP-oi0ki"
      }
    },
    {
      "cell_type": "code",
      "source": [
        "sqare.clear()\n",
        "sqare"
      ],
      "metadata": {
        "colab": {
          "base_uri": "https://localhost:8080/"
        },
        "id": "W5tddceki6PS",
        "outputId": "416fe1b1-8eed-4632-81a8-f97901e8b4d8"
      },
      "execution_count": 23,
      "outputs": [
        {
          "output_type": "execute_result",
          "data": {
            "text/plain": [
              "[]"
            ]
          },
          "metadata": {},
          "execution_count": 23
        }
      ]
    },
    {
      "cell_type": "markdown",
      "source": [
        "#index(指定した値の最初の要素のインデックスを返す)"
      ],
      "metadata": {
        "id": "qDK8bBIz_g4J"
      }
    },
    {
      "cell_type": "code",
      "source": [
        "sqare = [1,4,9,16,25]\n",
        "\n",
        "sqare.index(16)"
      ],
      "metadata": {
        "colab": {
          "base_uri": "https://localhost:8080/"
        },
        "id": "pLgZbpm_kGN-",
        "outputId": "fd7d488e-9f65-4a32-bd38-e4a79ca746ea"
      },
      "execution_count": 24,
      "outputs": [
        {
          "output_type": "execute_result",
          "data": {
            "text/plain": [
              "3"
            ]
          },
          "metadata": {},
          "execution_count": 24
        }
      ]
    },
    {
      "cell_type": "code",
      "source": [
        "appex = [1,2,3,4,5,6,7,8,9,0]\n",
        "\n",
        "print(appex[0])"
      ],
      "metadata": {
        "colab": {
          "base_uri": "https://localhost:8080/"
        },
        "id": "25dEibxG_lEP",
        "outputId": "0235f15d-39b8-4cf8-807c-ae5c8b9b04a3"
      },
      "execution_count": null,
      "outputs": [
        {
          "output_type": "stream",
          "name": "stdout",
          "text": [
            "1\n"
          ]
        }
      ]
    },
    {
      "cell_type": "markdown",
      "source": [
        "#count(指定値の要素のカウント)"
      ],
      "metadata": {
        "id": "Y0WhtMTvm_Qj"
      }
    },
    {
      "cell_type": "code",
      "source": [
        "sqare.count(16)"
      ],
      "metadata": {
        "colab": {
          "base_uri": "https://localhost:8080/"
        },
        "id": "MBkLyT-TnKJY",
        "outputId": "9f65ae85-af63-43ff-8a15-a994220bb19c"
      },
      "execution_count": 25,
      "outputs": [
        {
          "output_type": "execute_result",
          "data": {
            "text/plain": [
              "1"
            ]
          },
          "metadata": {},
          "execution_count": 25
        }
      ]
    },
    {
      "cell_type": "markdown",
      "source": [
        "#sort(リストをソート)"
      ],
      "metadata": {
        "id": "twN6_84VnkW0"
      }
    },
    {
      "cell_type": "code",
      "source": [
        "moria = [16,9,25,1,4]\n",
        "\n",
        "moria.sort()\n",
        "moria"
      ],
      "metadata": {
        "colab": {
          "base_uri": "https://localhost:8080/"
        },
        "id": "aS7f6qXxnpTH",
        "outputId": "d1b7b53e-87eb-4e33-d2fa-3224f6ce83b4"
      },
      "execution_count": 27,
      "outputs": [
        {
          "output_type": "execute_result",
          "data": {
            "text/plain": [
              "[1, 4, 9, 16, 25]"
            ]
          },
          "metadata": {},
          "execution_count": 27
        }
      ]
    }
  ]
}