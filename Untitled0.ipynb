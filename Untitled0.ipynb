{
  "nbformat": 4,
  "nbformat_minor": 0,
  "metadata": {
    "colab": {
      "provenance": [],
      "gpuType": "T4",
      "authorship_tag": "ABX9TyPndy/EFbHeC5GNoWrhAhkf",
      "include_colab_link": true
    },
    "kernelspec": {
      "name": "python3",
      "display_name": "Python 3"
    },
    "language_info": {
      "name": "python"
    },
    "accelerator": "GPU"
  },
  "cells": [
    {
      "cell_type": "markdown",
      "metadata": {
        "id": "view-in-github",
        "colab_type": "text"
      },
      "source": [
        "<a href=\"https://colab.research.google.com/github/4kang/sukiruUP-1/blob/main/Untitled0.ipynb\" target=\"_parent\"><img src=\"https://colab.research.google.com/assets/colab-badge.svg\" alt=\"Open In Colab\"/></a>"
      ]
    },
    {
      "cell_type": "code",
      "execution_count": null,
      "metadata": {
        "colab": {
          "base_uri": "https://localhost:8080/"
        },
        "id": "wLCIP5aSIsXJ",
        "outputId": "1f3dab58-9bdd-47e2-ab82-8e80000ba7cc"
      },
      "outputs": [
        {
          "output_type": "stream",
          "name": "stdout",
          "text": [
            "Hello\n"
          ]
        }
      ],
      "source": [
        "print(\"Hello\")"
      ]
    },
    {
      "cell_type": "code",
      "source": [
        "#改行とタブ\n",
        "my_str = 'この後改行\\nしてからタブ\\tで空白'\n",
        "print(my_str)"
      ],
      "metadata": {
        "colab": {
          "base_uri": "https://localhost:8080/"
        },
        "id": "IvLMR9CXQ8Ly",
        "outputId": "2552eeed-717d-431f-c779-bdc2e54cfc23"
      },
      "execution_count": null,
      "outputs": [
        {
          "output_type": "stream",
          "name": "stdout",
          "text": [
            "この後改行\n",
            "してからタブ\tで空白\n"
          ]
        }
      ]
    },
    {
      "cell_type": "code",
      "source": [
        "import math\n",
        "math.gcd(253,341)"
      ],
      "metadata": {
        "colab": {
          "base_uri": "https://localhost:8080/"
        },
        "id": "D418tpTsLBkz",
        "outputId": "8f5eea84-57de-44cd-be42-d200d4ba5bdc"
      },
      "execution_count": null,
      "outputs": [
        {
          "output_type": "execute_result",
          "data": {
            "text/plain": [
              "11"
            ]
          },
          "metadata": {},
          "execution_count": 2
        }
      ]
    },
    {
      "cell_type": "code",
      "source": [
        "#べき乗！！\n",
        "9 ** 22 % 23\n",
        "pow(16, 0.5)"
      ],
      "metadata": {
        "colab": {
          "base_uri": "https://localhost:8080/"
        },
        "id": "vupLff2GL8Vp",
        "outputId": "24fa3efc-a345-4968-abbe-72a982c37082"
      },
      "execution_count": null,
      "outputs": [
        {
          "output_type": "execute_result",
          "data": {
            "text/plain": [
              "4.0"
            ]
          },
          "metadata": {},
          "execution_count": 15
        }
      ]
    },
    {
      "cell_type": "code",
      "source": [
        "1.2"
      ],
      "metadata": {
        "colab": {
          "base_uri": "https://localhost:8080/"
        },
        "id": "9aiDySkrMUE9",
        "outputId": "6e8f6ffc-5f2e-4fdb-c813-458570c90622"
      },
      "execution_count": null,
      "outputs": [
        {
          "output_type": "execute_result",
          "data": {
            "text/plain": [
              "1.2"
            ]
          },
          "metadata": {},
          "execution_count": 7
        }
      ]
    },
    {
      "cell_type": "code",
      "source": [
        ".6"
      ],
      "metadata": {
        "colab": {
          "base_uri": "https://localhost:8080/"
        },
        "id": "72E9CDdiMeY-",
        "outputId": "809cf12e-49c9-459e-8e8d-2ddb8fe4fa6e"
      },
      "execution_count": null,
      "outputs": [
        {
          "output_type": "execute_result",
          "data": {
            "text/plain": [
              "0.6"
            ]
          },
          "metadata": {},
          "execution_count": 8
        }
      ]
    },
    {
      "cell_type": "code",
      "source": [
        "#これはコメント行\n",
        "print(\"a\") #ここにも書ける"
      ],
      "metadata": {
        "colab": {
          "base_uri": "https://localhost:8080/"
        },
        "id": "WOxB7lI0U3_t",
        "outputId": "f8afa5e2-aff3-40dc-8e4b-32523a2c4a8b"
      },
      "execution_count": null,
      "outputs": [
        {
          "output_type": "stream",
          "name": "stdout",
          "text": [
            "a\n"
          ]
        }
      ]
    },
    {
      "cell_type": "code",
      "source": [
        "print('repeat me!' * 3)"
      ],
      "metadata": {
        "colab": {
          "base_uri": "https://localhost:8080/"
        },
        "id": "o_7UNac_VF9M",
        "outputId": "24a2ec11-cda2-483c-d235-69e1b3c1a7b5"
      },
      "execution_count": null,
      "outputs": [
        {
          "output_type": "stream",
          "name": "stdout",
          "text": [
            "repeat me!repeat me!repeat me!\n"
          ]
        }
      ]
    },
    {
      "cell_type": "code",
      "source": [
        "ord('あ')"
      ],
      "metadata": {
        "colab": {
          "base_uri": "https://localhost:8080/"
        },
        "id": "sZEEVwRvViOh",
        "outputId": "d93f2b0e-5dbf-4723-bca3-a0a9ce83988d"
      },
      "execution_count": null,
      "outputs": [
        {
          "output_type": "execute_result",
          "data": {
            "text/plain": [
              "12354"
            ]
          },
          "metadata": {},
          "execution_count": 5
        }
      ]
    },
    {
      "cell_type": "code",
      "source": [
        "chr(12354)"
      ],
      "metadata": {
        "colab": {
          "base_uri": "https://localhost:8080/",
          "height": 35
        },
        "id": "ytJJ1YFkVpAn",
        "outputId": "41ec751b-1368-487f-ec3b-9582cf029826"
      },
      "execution_count": null,
      "outputs": [
        {
          "output_type": "execute_result",
          "data": {
            "text/plain": [
              "'あ'"
            ],
            "application/vnd.google.colaboratory.intrinsic+json": {
              "type": "string"
            }
          },
          "metadata": {},
          "execution_count": 7
        }
      ]
    },
    {
      "cell_type": "code",
      "source": [
        "answer = '''〇●●●\n",
        "●〇●●\n",
        "●●〇●\n",
        "●●●〇\n",
        "'''\n",
        "print(answer)"
      ],
      "metadata": {
        "colab": {
          "base_uri": "https://localhost:8080/"
        },
        "id": "U8ZPEZfOXE3l",
        "outputId": "684d81b7-6ea9-43fd-93ce-446eb67daf23"
      },
      "execution_count": null,
      "outputs": [
        {
          "output_type": "stream",
          "name": "stdout",
          "text": [
            "〇●●●\n",
            "●〇●●\n",
            "●●〇●\n",
            "●●●〇\n",
            "\n"
          ]
        }
      ]
    },
    {
      "cell_type": "code",
      "source": [
        "w = '〇'\n",
        "b = '●'\n",
        "answer = w + b*3 + '\\n' + b + w + b*2 + '\\n' + b*2 + w + b + '\\n' + b*3 + w\n",
        "print(answer)"
      ],
      "metadata": {
        "id": "VOe7C9wRXiF-",
        "colab": {
          "base_uri": "https://localhost:8080/"
        },
        "outputId": "a56f4b84-21d4-43a7-b4ab-eb11041223b6"
      },
      "execution_count": 2,
      "outputs": [
        {
          "output_type": "stream",
          "name": "stdout",
          "text": [
            "〇●●●\n",
            "●〇●●\n",
            "●●〇●\n",
            "●●●〇\n"
          ]
        }
      ]
    },
    {
      "cell_type": "code",
      "source": [
        "answer = ''\n",
        "for i in range(4):\n",
        "  for j in range(4):\n",
        "    if i == j:\n",
        "      answer += w\n",
        "    else:\n",
        "      answer += b\n",
        "  answer += '\\n'\n",
        "print(answer)"
      ],
      "metadata": {
        "colab": {
          "base_uri": "https://localhost:8080/"
        },
        "id": "6qL1sFnGsrCG",
        "outputId": "467cf8f5-4ba4-476c-a66a-e2b8ca8087b1"
      },
      "execution_count": 3,
      "outputs": [
        {
          "output_type": "stream",
          "name": "stdout",
          "text": [
            "〇●●●\n",
            "●〇●●\n",
            "●●〇●\n",
            "●●●〇\n",
            "\n"
          ]
        }
      ]
    }
  ]
}