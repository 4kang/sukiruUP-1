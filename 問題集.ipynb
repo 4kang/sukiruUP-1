{
  "nbformat": 4,
  "nbformat_minor": 0,
  "metadata": {
    "colab": {
      "provenance": [],
      "authorship_tag": "ABX9TyOCn4zsQWNDUzwyNg6k7UAQ",
      "include_colab_link": true
    },
    "kernelspec": {
      "name": "python3",
      "display_name": "Python 3"
    },
    "language_info": {
      "name": "python"
    }
  },
  "cells": [
    {
      "cell_type": "markdown",
      "metadata": {
        "id": "view-in-github",
        "colab_type": "text"
      },
      "source": [
        "<a href=\"https://colab.research.google.com/github/4kang/sukiruUP-1/blob/main/%E5%95%8F%E9%A1%8C%E9%9B%86.ipynb\" target=\"_parent\"><img src=\"https://colab.research.google.com/assets/colab-badge.svg\" alt=\"Open In Colab\"/></a>"
      ]
    },
    {
      "cell_type": "code",
      "source": [
        "a = 10\n",
        "\n",
        "if a >= 100:\n",
        "    a *= 2\n",
        "elif a >= 50:\n",
        "    a /= 2\n",
        "else:\n",
        "    a += 2\n",
        "\n",
        "print(a)"
      ],
      "metadata": {
        "colab": {
          "base_uri": "https://localhost:8080/"
        },
        "id": "eHDIfv2NLiMn",
        "outputId": "90fc9f0c-ecc0-428b-c0a4-0d41f57ee418"
      },
      "execution_count": null,
      "outputs": [
        {
          "output_type": "stream",
          "name": "stdout",
          "text": [
            "12\n"
          ]
        }
      ]
    },
    {
      "cell_type": "code",
      "source": [
        "#もととなるリスト(my_list)を定義\n",
        "my_list = [\"Tokyo\", \"Osaka\", \"Fukuoka\", \"Aich\", \"Kyoto\", \"Chiba\", \"Saitama\", \"Gunma\"]\n",
        "my_list_6 = [] #文字数6文字以上の文字列を格納するための空リスト\n",
        "\n",
        "for x in my_list: #for文で元のリストから要素を一つずつ取り出しています\n",
        "  if len(x) >= 6:\n",
        "    my_list_6.append(x)\n",
        "\n",
        "print(my_list_6)"
      ],
      "metadata": {
        "colab": {
          "base_uri": "https://localhost:8080/"
        },
        "id": "L6_krZr5Mm4H",
        "outputId": "1e5a0335-610c-436f-bff8-9c0d1509d72b"
      },
      "execution_count": null,
      "outputs": [
        {
          "output_type": "stream",
          "name": "stdout",
          "text": [
            "['Fukuoka', 'Saitama']\n"
          ]
        }
      ]
    },
    {
      "cell_type": "code",
      "source": [
        "you_list = [1,1,2,3,5,8,13]\n",
        "x = 0\n",
        "\n",
        "for s in you_list:\n",
        "  if s % 2 != 0: #等しくないので奇数が真で偶数が偽\n",
        "    x += s\n",
        "\n",
        "print(x)"
      ],
      "metadata": {
        "colab": {
          "base_uri": "https://localhost:8080/"
        },
        "id": "mkfsewEMQaVv",
        "outputId": "c9451ee9-7ab6-4500-a020-cf28e0f43c24"
      },
      "execution_count": null,
      "outputs": [
        {
          "output_type": "stream",
          "name": "stdout",
          "text": [
            "23\n"
          ]
        }
      ]
    },
    {
      "cell_type": "code",
      "source": [
        "a = 10\n",
        "b = a ** 2\n",
        "c = b % 20 + 5\n",
        "c"
      ],
      "metadata": {
        "id": "KIOIYLsZzAZF",
        "outputId": "3957b5ee-efa9-4244-8c89-89e10b2b9c89",
        "colab": {
          "base_uri": "https://localhost:8080/"
        }
      },
      "execution_count": null,
      "outputs": [
        {
          "output_type": "execute_result",
          "data": {
            "text/plain": [
              "5"
            ]
          },
          "metadata": {},
          "execution_count": 8
        }
      ]
    },
    {
      "cell_type": "code",
      "source": [
        "stack = []\n",
        "\n",
        "stack.append(1)\n",
        "print(\"stack:\",stack)\n",
        "stack.append(2)\n",
        "print(\"stack:\", stack)\n",
        "print(\"pop 1st value:\", stack.pop())\n",
        "print(\"pop 2nd value:\", stack.pop())\n",
        "print(\"stack:\",stack)"
      ],
      "metadata": {
        "id": "hsEtvZxSXoUt",
        "outputId": "d4d66f8f-5d19-4011-9e1e-cf417d96bdba",
        "colab": {
          "base_uri": "https://localhost:8080/"
        }
      },
      "execution_count": 2,
      "outputs": [
        {
          "output_type": "stream",
          "name": "stdout",
          "text": [
            "stack: [1]\n",
            "stack: [1, 2]\n",
            "pop 1st value: 2\n",
            "pop 2nd value: 1\n",
            "stack: []\n"
          ]
        }
      ]
    }
  ]
}