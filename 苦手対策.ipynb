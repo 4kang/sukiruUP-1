{
  "nbformat": 4,
  "nbformat_minor": 0,
  "metadata": {
    "colab": {
      "provenance": [],
      "authorship_tag": "ABX9TyNoxzkUZRMVRSuoMcpjbnTp",
      "include_colab_link": true
    },
    "kernelspec": {
      "name": "python3",
      "display_name": "Python 3"
    },
    "language_info": {
      "name": "python"
    }
  },
  "cells": [
    {
      "cell_type": "markdown",
      "metadata": {
        "id": "view-in-github",
        "colab_type": "text"
      },
      "source": [
        "<a href=\"https://colab.research.google.com/github/4kang/sukiruUP-1/blob/main/%E8%8B%A6%E6%89%8B%E5%AF%BE%E7%AD%96.ipynb\" target=\"_parent\"><img src=\"https://colab.research.google.com/assets/colab-badge.svg\" alt=\"Open In Colab\"/></a>"
      ]
    },
    {
      "cell_type": "code",
      "execution_count": 1,
      "metadata": {
        "id": "K7IcKRCqDKtj",
        "colab": {
          "base_uri": "https://localhost:8080/"
        },
        "outputId": "d02c9f0a-16af-45f9-a995-76bbde283621"
      },
      "outputs": [
        {
          "output_type": "stream",
          "name": "stdout",
          "text": [
            "range(0, 5)\n"
          ]
        }
      ],
      "source": [
        "print(range(5))"
      ]
    },
    {
      "cell_type": "code",
      "source": [
        "d = 'diveinto'\n",
        "\n",
        "d + 'code'\n",
        "\n",
        "print(d) #イコールがないためcodeは足されない"
      ],
      "metadata": {
        "colab": {
          "base_uri": "https://localhost:8080/"
        },
        "id": "BjBgUKU6vWah",
        "outputId": "f9da960a-7140-4738-f3b4-c175ea99c267"
      },
      "execution_count": 3,
      "outputs": [
        {
          "output_type": "stream",
          "name": "stdout",
          "text": [
            "diveinto\n"
          ]
        }
      ]
    },
    {
      "cell_type": "code",
      "source": [
        "d = \"diveinto\"\n",
        "\n",
        "d += \"code\"\n",
        "\n",
        "print(d)"
      ],
      "metadata": {
        "colab": {
          "base_uri": "https://localhost:8080/"
        },
        "id": "Xcr-TkKewfo_",
        "outputId": "ba10370e-74f6-4a7b-bc4a-f7be88e3ff7c"
      },
      "execution_count": 5,
      "outputs": [
        {
          "output_type": "stream",
          "name": "stdout",
          "text": [
            "diveintocode\n"
          ]
        }
      ]
    },
    {
      "cell_type": "code",
      "source": [
        "i = 10\n",
        "\n",
        "def num(arg = i):\n",
        "  print(arg)\n",
        "\n",
        "i = 7"
      ],
      "metadata": {
        "colab": {
          "base_uri": "https://localhost:8080/"
        },
        "id": "BTspuqQHwJaO",
        "outputId": "638c35bf-0168-4504-fed2-2506dad8da9a"
      },
      "execution_count": 4,
      "outputs": [
        {
          "output_type": "stream",
          "name": "stdout",
          "text": [
            "10\n"
          ]
        }
      ]
    },
    {
      "cell_type": "code",
      "source": [
        "print(\"出力結果：\")\n",
        "\n",
        "try:\n",
        "  raise Exception(\"開始前\", \"Exception発生\")\n",
        "  print(\"開始\")\n",
        "except IOError as msg:\n",
        "  print(\"IOError発生：\",msg.args[0])\n",
        "except Exception as msg:\n",
        "  print(\"予期せぬ問題発生：\",msg.args[1])\n",
        "else:\n",
        "  print(\"Else表示\")"
      ],
      "metadata": {
        "colab": {
          "base_uri": "https://localhost:8080/"
        },
        "id": "YKqt05jmxud2",
        "outputId": "8638192f-a47e-478b-ae68-8f5bfd883699"
      },
      "execution_count": 7,
      "outputs": [
        {
          "output_type": "stream",
          "name": "stdout",
          "text": [
            "出力結果：\n",
            "予期せぬ問題発生： Exception発生\n"
          ]
        }
      ]
    }
  ]
}