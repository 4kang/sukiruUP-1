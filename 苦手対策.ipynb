{
  "nbformat": 4,
  "nbformat_minor": 0,
  "metadata": {
    "colab": {
      "provenance": [],
      "authorship_tag": "ABX9TyO6j81otn+agvrRdtHarAHX",
      "include_colab_link": true
    },
    "kernelspec": {
      "name": "python3",
      "display_name": "Python 3"
    },
    "language_info": {
      "name": "python"
    }
  },
  "cells": [
    {
      "cell_type": "markdown",
      "metadata": {
        "id": "view-in-github",
        "colab_type": "text"
      },
      "source": [
        "<a href=\"https://colab.research.google.com/github/4kang/sukiruUP-1/blob/main/%E8%8B%A6%E6%89%8B%E5%AF%BE%E7%AD%96.ipynb\" target=\"_parent\"><img src=\"https://colab.research.google.com/assets/colab-badge.svg\" alt=\"Open In Colab\"/></a>"
      ]
    },
    {
      "cell_type": "code",
      "execution_count": 1,
      "metadata": {
        "id": "K7IcKRCqDKtj",
        "colab": {
          "base_uri": "https://localhost:8080/"
        },
        "outputId": "d02c9f0a-16af-45f9-a995-76bbde283621"
      },
      "outputs": [
        {
          "output_type": "stream",
          "name": "stdout",
          "text": [
            "range(0, 5)\n"
          ]
        }
      ],
      "source": [
        "print(range(5))"
      ]
    },
    {
      "cell_type": "code",
      "source": [
        "d = 'diveinto'\n",
        "\n",
        "d + 'code'\n",
        "\n",
        "print(d) #イコールがないためcodeは足されない"
      ],
      "metadata": {
        "colab": {
          "base_uri": "https://localhost:8080/"
        },
        "id": "BjBgUKU6vWah",
        "outputId": "f9da960a-7140-4738-f3b4-c175ea99c267"
      },
      "execution_count": 3,
      "outputs": [
        {
          "output_type": "stream",
          "name": "stdout",
          "text": [
            "diveinto\n"
          ]
        }
      ]
    },
    {
      "cell_type": "code",
      "source": [
        "d = \"diveinto\"\n",
        "\n",
        "d += \"code\"\n",
        "\n",
        "print(d)"
      ],
      "metadata": {
        "colab": {
          "base_uri": "https://localhost:8080/"
        },
        "id": "Xcr-TkKewfo_",
        "outputId": "ba10370e-74f6-4a7b-bc4a-f7be88e3ff7c"
      },
      "execution_count": 5,
      "outputs": [
        {
          "output_type": "stream",
          "name": "stdout",
          "text": [
            "diveintocode\n"
          ]
        }
      ]
    },
    {
      "cell_type": "code",
      "source": [
        "i = 10\n",
        "\n",
        "def num(arg = i):\n",
        "  print(arg)\n",
        "\n",
        "i = 7"
      ],
      "metadata": {
        "colab": {
          "base_uri": "https://localhost:8080/"
        },
        "id": "BTspuqQHwJaO",
        "outputId": "638c35bf-0168-4504-fed2-2506dad8da9a"
      },
      "execution_count": 4,
      "outputs": [
        {
          "output_type": "stream",
          "name": "stdout",
          "text": [
            "10\n"
          ]
        }
      ]
    },
    {
      "cell_type": "code",
      "source": [
        "print(\"出力結果：\")\n",
        "\n",
        "try:\n",
        "  raise Exception(\"開始前\", \"Exception発生\")\n",
        "  print(\"開始\")\n",
        "except IOError as msg:\n",
        "  print(\"IOError発生：\",msg.args[0])\n",
        "except Exception as msg:\n",
        "  print(\"予期せぬ問題発生：\",msg.args[1])\n",
        "else:\n",
        "  print(\"Else表示\")"
      ],
      "metadata": {
        "colab": {
          "base_uri": "https://localhost:8080/"
        },
        "id": "YKqt05jmxud2",
        "outputId": "8638192f-a47e-478b-ae68-8f5bfd883699"
      },
      "execution_count": 7,
      "outputs": [
        {
          "output_type": "stream",
          "name": "stdout",
          "text": [
            "出力結果：\n",
            "予期せぬ問題発生： Exception発生\n"
          ]
        }
      ]
    },
    {
      "cell_type": "code",
      "source": [
        "(1,3,5)<(1,2,3,4)"
      ],
      "metadata": {
        "colab": {
          "base_uri": "https://localhost:8080/"
        },
        "id": "Aa4YCYbozpxo",
        "outputId": "80a95378-7ff5-4a0a-b565-2fe6dfddeef7"
      },
      "execution_count": 12,
      "outputs": [
        {
          "output_type": "execute_result",
          "data": {
            "text/plain": [
              "False"
            ]
          },
          "metadata": {},
          "execution_count": 12
        }
      ]
    },
    {
      "cell_type": "code",
      "source": [
        "import math\n",
        "\n",
        "print(\"出力結果：\")\n",
        "print(\"円周率は%5.3fである\"%math.pi)"
      ],
      "metadata": {
        "colab": {
          "base_uri": "https://localhost:8080/"
        },
        "id": "qlsp6OVI0WLp",
        "outputId": "bb16ba44-9abc-49a4-bb48-17f91d03a3e4"
      },
      "execution_count": 15,
      "outputs": [
        {
          "output_type": "stream",
          "name": "stdout",
          "text": [
            "出力結果：\n",
            "円周率は3.142である\n"
          ]
        }
      ]
    },
    {
      "cell_type": "code",
      "source": [
        "for i in range(20):\n",
        "  if i % 3 == 0:\n",
        "    print(\"{}は3で割り切れます\".format(i), end=\"\")\n",
        "  elif i>8 and i%2 == 0:\n",
        "    break\n",
        "  else:\n",
        "    continue"
      ],
      "metadata": {
        "colab": {
          "base_uri": "https://localhost:8080/"
        },
        "id": "d0Qbncit2U2v",
        "outputId": "e9532f7e-2d04-4c83-f30c-a197bf7eeba6"
      },
      "execution_count": 16,
      "outputs": [
        {
          "output_type": "stream",
          "name": "stdout",
          "text": [
            "0は3で割り切れます3は3で割り切れます6は3で割り切れます9は3で割り切れます"
          ]
        }
      ]
    },
    {
      "cell_type": "code",
      "source": [
        "titles = {\"title\":\"hoge1\",\"title2\":\"hoge2\",\"title3\":\"hoge3\"}\n",
        "\n",
        "print(\"出力結果：\")\n",
        "\n",
        "for k, v in titles.items():\n",
        "  print(v)"
      ],
      "metadata": {
        "colab": {
          "base_uri": "https://localhost:8080/"
        },
        "id": "Is2ZvqAyXqQ-",
        "outputId": "7ee7a349-e18f-4b05-8706-10ba60e2378c"
      },
      "execution_count": 3,
      "outputs": [
        {
          "output_type": "stream",
          "name": "stdout",
          "text": [
            "出力結果：\n",
            "hoge1\n",
            "hoge2\n",
            "hoge3\n"
          ]
        }
      ]
    },
    {
      "cell_type": "code",
      "source": [
        "list = [5,3,1,2,3,4,5,2]\n",
        "\n",
        "list.remove(2) #数字の2が消える\n",
        "print(list)"
      ],
      "metadata": {
        "colab": {
          "base_uri": "https://localhost:8080/"
        },
        "id": "uPL4ctSUZc1O",
        "outputId": "4e311935-6b37-4f5c-8e79-6fa4e44c1912"
      },
      "execution_count": 6,
      "outputs": [
        {
          "output_type": "stream",
          "name": "stdout",
          "text": [
            "[5, 3, 1, 3, 4, 5, 2]\n"
          ]
        }
      ]
    },
    {
      "cell_type": "code",
      "source": [
        "dic = [\n",
        "    [\"Noro\", \"Nakao\", \"Miyaoka\"],\n",
        "    [\"Kimura\", \"Miyashita\", \"Shibata\"],\n",
        "    [\"Matumoto\", \"Tanaka\", \"Ivan\"],\n",
        "]\n",
        "\n",
        "print(list(zip(*dic)))"
      ],
      "metadata": {
        "id": "NYDD24-4aBOi"
      },
      "execution_count": null,
      "outputs": []
    }
  ]
}