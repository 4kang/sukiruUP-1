{
  "nbformat": 4,
  "nbformat_minor": 0,
  "metadata": {
    "colab": {
      "provenance": [],
      "authorship_tag": "ABX9TyOifPRYV06RFL+JWT4YkvAv",
      "include_colab_link": true
    },
    "kernelspec": {
      "name": "python3",
      "display_name": "Python 3"
    },
    "language_info": {
      "name": "python"
    }
  },
  "cells": [
    {
      "cell_type": "markdown",
      "metadata": {
        "id": "view-in-github",
        "colab_type": "text"
      },
      "source": [
        "<a href=\"https://colab.research.google.com/github/4kang/sukiruUP-1/blob/main/%E4%BE%8B%E5%A4%96%E3%81%AE%E5%87%A6%E7%90%862.ipynb\" target=\"_parent\"><img src=\"https://colab.research.google.com/assets/colab-badge.svg\" alt=\"Open In Colab\"/></a>"
      ]
    },
    {
      "cell_type": "markdown",
      "source": [
        "#raise"
      ],
      "metadata": {
        "id": "i9Z3CFVGU7d2"
      }
    },
    {
      "cell_type": "code",
      "source": [
        "def xxx(x, a):\n",
        "  try:\n",
        "    y = x + x / a\n",
        "    if -0.000000000000001 < a and a < 0.000000000000001 and a != 0:\n",
        "      raise ZeroDivisionError(\"aの絶対値 < 0.000000000000001\")\n",
        "  except ZeroDivisionError as eee:\n",
        "    print(\"warning:関数xxx()\")\n",
        "    raise\n",
        "  else:\n",
        "    return y\n",
        "\n",
        "#以下、関数の実行\n",
        "try:\n",
        "  y = xxx(1, 0)\n",
        "except ZeroDivisionError as eee:\n",
        "  print(eee.args[0])\n",
        "else:\n",
        "  print(\"x + x / a =\", y)\n",
        "\n",
        "try:\n",
        "  y = xxx(1, 0.000000000000000001)\n",
        "except ZeroDivisionError as eee:\n",
        "  print(eee.args[0])\n",
        "else:\n",
        "  print(\"x + x / a =\", y)\n",
        "\n",
        "try:\n",
        "  y = xxx(1, 0.1)\n",
        "except ZeroDivisionError as eee:\n",
        "  print(eee.args[0])\n",
        "else:\n",
        "  print(\"x + x / a =\", y)"
      ],
      "metadata": {
        "colab": {
          "base_uri": "https://localhost:8080/"
        },
        "id": "HdwRPmxEU9Qe",
        "outputId": "75bbf100-99e0-4c80-d84a-c04231731710"
      },
      "execution_count": 4,
      "outputs": [
        {
          "output_type": "stream",
          "name": "stdout",
          "text": [
            "warning:関数xxx()\n",
            "division by zero\n",
            "warning:関数xxx()\n",
            "aの絶対値 < 0.000000000000001\n",
            "x + x / a = 11.0\n"
          ]
        }
      ]
    }
  ]
}