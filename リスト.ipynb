{
  "nbformat": 4,
  "nbformat_minor": 0,
  "metadata": {
    "colab": {
      "provenance": [],
      "authorship_tag": "ABX9TyMvZYoixYtCihnT28gikvmC",
      "include_colab_link": true
    },
    "kernelspec": {
      "name": "python3",
      "display_name": "Python 3"
    },
    "language_info": {
      "name": "python"
    }
  },
  "cells": [
    {
      "cell_type": "markdown",
      "metadata": {
        "id": "view-in-github",
        "colab_type": "text"
      },
      "source": [
        "<a href=\"https://colab.research.google.com/github/4kang/sukiruUP-1/blob/main/%E3%83%AA%E3%82%B9%E3%83%88.ipynb\" target=\"_parent\"><img src=\"https://colab.research.google.com/assets/colab-badge.svg\" alt=\"Open In Colab\"/></a>"
      ]
    },
    {
      "cell_type": "code",
      "execution_count": null,
      "metadata": {
        "colab": {
          "base_uri": "https://localhost:8080/"
        },
        "id": "Ncpj1g2mbWk5",
        "outputId": "3ac37756-85ab-42aa-91e3-efe87aede29f"
      },
      "outputs": [
        {
          "output_type": "stream",
          "name": "stdout",
          "text": [
            "2\n"
          ]
        }
      ],
      "source": [
        "#リストと添え字\n",
        "my_list = [0, 1, 2, 3, 4, 5, 6, 7, 8]\n",
        "print(my_list[2])"
      ]
    },
    {
      "cell_type": "code",
      "source": [
        "print(my_list[5])"
      ],
      "metadata": {
        "colab": {
          "base_uri": "https://localhost:8080/"
        },
        "id": "lU5pUYIacoKU",
        "outputId": "3694171b-2c9a-43e2-8c27-e7e83c61f3ab"
      },
      "execution_count": null,
      "outputs": [
        {
          "output_type": "stream",
          "name": "stdout",
          "text": [
            "5\n"
          ]
        }
      ]
    },
    {
      "cell_type": "code",
      "source": [
        "print(my_list[-1])"
      ],
      "metadata": {
        "colab": {
          "base_uri": "https://localhost:8080/"
        },
        "id": "fA02nQDYcaqy",
        "outputId": "dd9c0e5e-43be-4cfe-b265-3529cff3ab78"
      },
      "execution_count": null,
      "outputs": [
        {
          "output_type": "stream",
          "name": "stdout",
          "text": [
            "8\n"
          ]
        }
      ]
    },
    {
      "cell_type": "code",
      "source": [
        "print(my_list[-4])"
      ],
      "metadata": {
        "colab": {
          "base_uri": "https://localhost:8080/"
        },
        "id": "D_F7YS5_ciil",
        "outputId": "2eb2b0ab-5a35-4ab6-b434-eb8f07efa118"
      },
      "execution_count": null,
      "outputs": [
        {
          "output_type": "stream",
          "name": "stdout",
          "text": [
            "5\n"
          ]
        }
      ]
    },
    {
      "cell_type": "code",
      "source": [
        "#スライス\n",
        "print(my_list[2:7]) #2(開始位置)：7(終了位置)(6で終わる)"
      ],
      "metadata": {
        "colab": {
          "base_uri": "https://localhost:8080/"
        },
        "id": "tl_ho-b-ctBu",
        "outputId": "2ca0adcf-f793-4875-ddaa-22c744fdc2a5"
      },
      "execution_count": null,
      "outputs": [
        {
          "output_type": "stream",
          "name": "stdout",
          "text": [
            "[2, 3, 4, 5, 6]\n"
          ]
        }
      ]
    },
    {
      "cell_type": "code",
      "source": [
        "print(my_list[2:7:2])"
      ],
      "metadata": {
        "colab": {
          "base_uri": "https://localhost:8080/"
        },
        "id": "iGxp9KMDdOro",
        "outputId": "d9fdceaf-8af7-4129-e9d7-c824ae4f0620"
      },
      "execution_count": null,
      "outputs": [
        {
          "output_type": "stream",
          "name": "stdout",
          "text": [
            "[2, 4, 6]\n"
          ]
        }
      ]
    },
    {
      "cell_type": "code",
      "source": [
        "print(my_list[2:7:3])"
      ],
      "metadata": {
        "colab": {
          "base_uri": "https://localhost:8080/"
        },
        "id": "dPSUv_aidY4h",
        "outputId": "0b10b8a4-cc5e-407b-c626-48697ebc0438"
      },
      "execution_count": null,
      "outputs": [
        {
          "output_type": "stream",
          "name": "stdout",
          "text": [
            "[2, 5]\n"
          ]
        }
      ]
    },
    {
      "cell_type": "code",
      "source": [
        "#逆順\n",
        "print(my_list[6:1:-1])"
      ],
      "metadata": {
        "colab": {
          "base_uri": "https://localhost:8080/"
        },
        "id": "Za79CTJdeAg-",
        "outputId": "08c53501-ae45-4109-ab56-253a71f083f4"
      },
      "execution_count": null,
      "outputs": [
        {
          "output_type": "stream",
          "name": "stdout",
          "text": [
            "[6, 5, 4, 3, 2]\n"
          ]
        }
      ]
    },
    {
      "cell_type": "code",
      "source": [
        "#リスト全体コピー\n",
        "print(my_list[:])"
      ],
      "metadata": {
        "colab": {
          "base_uri": "https://localhost:8080/"
        },
        "id": "jRDuFbFeeqcw",
        "outputId": "86af73d5-2bbd-4a00-8b69-546da6d21003"
      },
      "execution_count": null,
      "outputs": [
        {
          "output_type": "stream",
          "name": "stdout",
          "text": [
            "[0, 1, 2, 3, 4, 5, 6, 7, 8]\n"
          ]
        }
      ]
    },
    {
      "cell_type": "code",
      "source": [
        "print(my_list[::-1])"
      ],
      "metadata": {
        "colab": {
          "base_uri": "https://localhost:8080/"
        },
        "id": "aiJIKkLXfEgD",
        "outputId": "da151941-7a16-4967-8fc1-517551798ab9"
      },
      "execution_count": null,
      "outputs": [
        {
          "output_type": "stream",
          "name": "stdout",
          "text": [
            "[8, 7, 6, 5, 4, 3, 2, 1, 0]\n"
          ]
        }
      ]
    },
    {
      "cell_type": "code",
      "source": [
        "print(my_list[:3])"
      ],
      "metadata": {
        "colab": {
          "base_uri": "https://localhost:8080/"
        },
        "id": "Jdq8BfBvfvtx",
        "outputId": "267d3989-b349-4767-8e39-463c95269dfe"
      },
      "execution_count": null,
      "outputs": [
        {
          "output_type": "stream",
          "name": "stdout",
          "text": [
            "[0, 1, 2]\n"
          ]
        }
      ]
    },
    {
      "cell_type": "code",
      "source": [
        "print(my_list[4:])"
      ],
      "metadata": {
        "colab": {
          "base_uri": "https://localhost:8080/"
        },
        "id": "wg7kVlD9f251",
        "outputId": "40f1f2dc-300c-4097-9a71-6935ede72253"
      },
      "execution_count": null,
      "outputs": [
        {
          "output_type": "stream",
          "name": "stdout",
          "text": [
            "[4, 5, 6, 7, 8]\n"
          ]
        }
      ]
    },
    {
      "cell_type": "code",
      "source": [
        "my_list[0] = -1\n",
        "print(my_list)"
      ],
      "metadata": {
        "colab": {
          "base_uri": "https://localhost:8080/"
        },
        "id": "Ux4g1istgBkU",
        "outputId": "1420175a-32e2-4429-f7e4-8d83f5deca90"
      },
      "execution_count": null,
      "outputs": [
        {
          "output_type": "stream",
          "name": "stdout",
          "text": [
            "[-1, 1, 2, 3, 4, 5, 6, 7, 8]\n"
          ]
        }
      ]
    },
    {
      "cell_type": "code",
      "source": [
        "my_list[2:4] = [102, 103]\n",
        "print(my_list)"
      ],
      "metadata": {
        "colab": {
          "base_uri": "https://localhost:8080/"
        },
        "id": "3tU1bcIShh-U",
        "outputId": "e07c2920-8f69-46cf-e0c7-e463de5b5e98"
      },
      "execution_count": null,
      "outputs": [
        {
          "output_type": "stream",
          "name": "stdout",
          "text": [
            "[-1, 1, 102, 103, 4, 5, 6, 7, 8]\n"
          ]
        }
      ]
    },
    {
      "cell_type": "code",
      "source": [
        "my_list[2:4] = [2, 3]\n",
        "print(my_list)"
      ],
      "metadata": {
        "colab": {
          "base_uri": "https://localhost:8080/"
        },
        "id": "mPZA0Q-PiL3b",
        "outputId": "65f736e8-d0e9-49e2-e75c-1ae51f3317c5"
      },
      "execution_count": null,
      "outputs": [
        {
          "output_type": "stream",
          "name": "stdout",
          "text": [
            "[-1, 1, 2, 3, 4, 5, 6, 7, 8]\n"
          ]
        }
      ]
    },
    {
      "cell_type": "code",
      "source": [
        "my_list = [0, 1, 2, 3, 4, 5, 6, 7, 8]\n",
        "my_list[2:6] = [101, 102]\n",
        "print(my_list)"
      ],
      "metadata": {
        "colab": {
          "base_uri": "https://localhost:8080/"
        },
        "id": "MGOp7GWDiVk4",
        "outputId": "d28fe1d6-5aa6-4bdd-d127-80964f193f7c"
      },
      "execution_count": null,
      "outputs": [
        {
          "output_type": "stream",
          "name": "stdout",
          "text": [
            "[0, 1, 101, 102, 6, 7, 8]\n"
          ]
        }
      ]
    },
    {
      "cell_type": "code",
      "source": [
        "my_list = [0, 1, 2, 3, 4, 5, 6, 7, 8]\n",
        "my_list[2:6] = []\n",
        "print(my_list)"
      ],
      "metadata": {
        "colab": {
          "base_uri": "https://localhost:8080/"
        },
        "id": "0RujlIfUjlA7",
        "outputId": "d9d85e95-1ca8-43e3-8417-d0040e50922b"
      },
      "execution_count": null,
      "outputs": [
        {
          "output_type": "stream",
          "name": "stdout",
          "text": [
            "[0, 1, 6, 7, 8]\n"
          ]
        }
      ]
    },
    {
      "cell_type": "markdown",
      "source": [
        "#list.append(x)"
      ],
      "metadata": {
        "id": "7GAlNl5rAEaS"
      }
    },
    {
      "cell_type": "code",
      "source": [
        "#appendメソッド\n",
        "\n",
        "a = [1,2,3,4,5]\n",
        "\n",
        "a.append(6)\n",
        "a.append(7)\n",
        "a.append(8)\n",
        "\n",
        "a"
      ],
      "metadata": {
        "id": "xZ-edMfJClS0",
        "outputId": "6d375cfc-4a70-4a26-e389-fbac90f60058",
        "colab": {
          "base_uri": "https://localhost:8080/"
        }
      },
      "execution_count": null,
      "outputs": [
        {
          "output_type": "execute_result",
          "data": {
            "text/plain": [
              "[1, 2, 3, 4, 5, 6, 7, 8]"
            ]
          },
          "metadata": {},
          "execution_count": 1
        }
      ]
    },
    {
      "cell_type": "markdown",
      "source": [
        "#list.extend(iterable)"
      ],
      "metadata": {
        "id": "sPpfH5F6ALhN"
      }
    },
    {
      "cell_type": "code",
      "source": [
        "#extend\n",
        "\n",
        "b = [1,2,3,4,5,6]\n",
        "bb = [7,8]\n",
        "\n",
        "b.extend(bb)\n",
        "b"
      ],
      "metadata": {
        "id": "g1xvmoSLDmcM",
        "outputId": "c5385045-d34f-45b4-ebf9-eaa6958d86e1",
        "colab": {
          "base_uri": "https://localhost:8080/"
        }
      },
      "execution_count": null,
      "outputs": [
        {
          "output_type": "execute_result",
          "data": {
            "text/plain": [
              "[1, 2, 3, 4, 5, 6, 7, 8]"
            ]
          },
          "metadata": {},
          "execution_count": 2
        }
      ]
    },
    {
      "cell_type": "markdown",
      "source": [
        "#list.insert(i, x)"
      ],
      "metadata": {
        "id": "K4G3NjlQAREd"
      }
    },
    {
      "cell_type": "code",
      "source": [
        "#insert\n",
        "c = [1,2,3,4,5,6]\n",
        "\n",
        "c.insert(6,7)\n",
        "c"
      ],
      "metadata": {
        "id": "SpcAcHHdDyp2",
        "outputId": "60c02bd4-6ab2-4500-af84-0a786e63a9c9",
        "colab": {
          "base_uri": "https://localhost:8080/"
        }
      },
      "execution_count": null,
      "outputs": [
        {
          "output_type": "execute_result",
          "data": {
            "text/plain": [
              "[1, 2, 3, 4, 5, 6, 7]"
            ]
          },
          "metadata": {},
          "execution_count": 6
        }
      ]
    },
    {
      "cell_type": "markdown",
      "source": [
        "#list.remove(x)"
      ],
      "metadata": {
        "id": "Eh5-yxjuAY8I"
      }
    },
    {
      "cell_type": "code",
      "source": [
        "#remove\n",
        "d = [1,2,3,4,5]\n",
        "\n",
        "d.remove(3)\n",
        "d"
      ],
      "metadata": {
        "id": "tPZ2gfBqEcpB",
        "outputId": "421a4aed-25b5-4280-bd66-0275a4ccddaf",
        "colab": {
          "base_uri": "https://localhost:8080/"
        }
      },
      "execution_count": null,
      "outputs": [
        {
          "output_type": "execute_result",
          "data": {
            "text/plain": [
              "[1, 2, 4, 5]"
            ]
          },
          "metadata": {},
          "execution_count": 7
        }
      ]
    },
    {
      "cell_type": "markdown",
      "source": [
        "#list.pop([i])"
      ],
      "metadata": {
        "id": "lSGgyvPiulz8"
      }
    },
    {
      "cell_type": "code",
      "source": [
        "#pop\n",
        "e = [1,2,3,4,5,6,7]\n",
        "\n",
        "e.pop(1)\n",
        "e"
      ],
      "metadata": {
        "id": "R-eevAohE-XG",
        "outputId": "be1f49bd-d9a7-4149-aee5-340b1e4224a2",
        "colab": {
          "base_uri": "https://localhost:8080/"
        }
      },
      "execution_count": null,
      "outputs": [
        {
          "output_type": "execute_result",
          "data": {
            "text/plain": [
              "[1, 3, 4, 5, 6, 7]"
            ]
          },
          "metadata": {},
          "execution_count": 8
        }
      ]
    },
    {
      "cell_type": "markdown",
      "source": [
        "#list.clear()"
      ],
      "metadata": {
        "id": "dsMi9qW5u951"
      }
    },
    {
      "cell_type": "code",
      "source": [
        "list = [1,2,3,4,5,6,6]\n",
        "\n",
        "list.clear()\n",
        "list"
      ],
      "metadata": {
        "colab": {
          "base_uri": "https://localhost:8080/"
        },
        "id": "iu6Ok9d3vEeq",
        "outputId": "cc399095-6547-4aba-f180-c8c7393df5bb"
      },
      "execution_count": 1,
      "outputs": [
        {
          "output_type": "execute_result",
          "data": {
            "text/plain": [
              "[]"
            ]
          },
          "metadata": {},
          "execution_count": 1
        }
      ]
    },
    {
      "cell_type": "markdown",
      "source": [
        "#list.index(x)"
      ],
      "metadata": {
        "id": "9BVpjFhLvRXj"
      }
    },
    {
      "cell_type": "code",
      "source": [
        "a = [1,2,3,4,5,6,7,8]\n",
        "\n",
        "a.index(4)"
      ],
      "metadata": {
        "colab": {
          "base_uri": "https://localhost:8080/"
        },
        "id": "tS8CSuX-v6iv",
        "outputId": "a0c0df4c-fd05-43c0-fb8c-9b0e8f41ad42"
      },
      "execution_count": 2,
      "outputs": [
        {
          "output_type": "execute_result",
          "data": {
            "text/plain": [
              "3"
            ]
          },
          "metadata": {},
          "execution_count": 2
        }
      ]
    },
    {
      "cell_type": "code",
      "source": [
        "b = [1,2,3,4,5,67,88,90]\n",
        "\n",
        "b.index(90)"
      ],
      "metadata": {
        "id": "8aw7NoKEwQwS",
        "outputId": "746d5019-27df-4fe2-c5cc-0aeba97d164b",
        "colab": {
          "base_uri": "https://localhost:8080/"
        }
      },
      "execution_count": 3,
      "outputs": [
        {
          "output_type": "execute_result",
          "data": {
            "text/plain": [
              "7"
            ]
          },
          "metadata": {},
          "execution_count": 3
        }
      ]
    },
    {
      "cell_type": "markdown",
      "source": [
        "#list.count(x)"
      ],
      "metadata": {
        "id": "h82orm7lwZl4"
      }
    },
    {
      "cell_type": "code",
      "source": [
        "c = [1,2,3,4,5,6,7,7]\n",
        "\n",
        "c.count(7)"
      ],
      "metadata": {
        "id": "amnx07zcwdSF",
        "outputId": "d6f01b64-c34a-4d00-bcb8-1f54a368daae",
        "colab": {
          "base_uri": "https://localhost:8080/"
        }
      },
      "execution_count": 4,
      "outputs": [
        {
          "output_type": "execute_result",
          "data": {
            "text/plain": [
              "2"
            ]
          },
          "metadata": {},
          "execution_count": 4
        }
      ]
    }
  ]
}